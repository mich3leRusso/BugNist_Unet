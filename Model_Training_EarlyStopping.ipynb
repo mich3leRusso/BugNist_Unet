{
  "metadata": {
    "kernelspec": {
      "display_name": "Python 3",
      "name": "python3"
    },
    "language_info": {
      "codemirror_mode": {
        "name": "ipython",
        "version": 3
      },
      "file_extension": ".py",
      "mimetype": "text/x-python",
      "name": "python",
      "nbconvert_exporter": "python",
      "pygments_lexer": "ipython3",
      "version": "3.9.14"
    },
    "kaggle": {
      "accelerator": "none",
      "dataSources": [
        {
          "sourceId": 71698,
          "databundleVersionId": 7906362,
          "sourceType": "competition"
        }
      ],
      "isInternetEnabled": true,
      "language": "python",
      "sourceType": "notebook",
      "isGpuEnabled": false
    },
    "colab": {
      "provenance": [],
      "gpuType": "T4",
      "machine_shape": "hm",
      "include_colab_link": true
    },
    "accelerator": "GPU"
  },
  "nbformat_minor": 0,
  "nbformat": 4,
  "cells": [
    {
      "cell_type": "markdown",
      "metadata": {
        "id": "view-in-github",
        "colab_type": "text"
      },
      "source": [
        "<a href=\"https://colab.research.google.com/github/mich3leRusso/Deep_learning_last/blob/main/Model_Training_EarlyStopping.ipynb\" target=\"_parent\"><img src=\"https://colab.research.google.com/assets/colab-badge.svg\" alt=\"Open In Colab\"/></a>"
      ]
    },
    {
      "cell_type": "code",
      "source": [
        "from google.colab import drive\n",
        "drive.mount('/content/drive')"
      ],
      "metadata": {
        "colab": {
          "base_uri": "https://localhost:8080/"
        },
        "id": "vUbOf0d8GuWC",
        "outputId": "99449f5a-cd51-4b66-cd35-1f4e25e26b68"
      },
      "execution_count": null,
      "outputs": [
        {
          "output_type": "stream",
          "name": "stdout",
          "text": [
            "Drive already mounted at /content/drive; to attempt to forcibly remount, call drive.mount(\"/content/drive\", force_remount=True).\n"
          ]
        }
      ]
    },
    {
      "cell_type": "code",
      "source": [
        "#!pip install kaggle\n",
        "!pip install monai\n",
        "!pip install 'monai[einops]'"
      ],
      "metadata": {
        "colab": {
          "base_uri": "https://localhost:8080/"
        },
        "id": "GVi0GnrLJ4sU",
        "outputId": "68c31462-3b2a-44a1-cd49-f8966e4302d0"
      },
      "execution_count": null,
      "outputs": [
        {
          "output_type": "stream",
          "name": "stdout",
          "text": [
            "Collecting monai\n",
            "  Downloading monai-1.3.0-202310121228-py3-none-any.whl (1.3 MB)\n",
            "\u001b[2K     \u001b[90m━━━━━━━━━━━━━━━━━━━━━━━━━━━━━━━━━━━━━━━━\u001b[0m \u001b[32m1.3/1.3 MB\u001b[0m \u001b[31m7.1 MB/s\u001b[0m eta \u001b[36m0:00:00\u001b[0m\n",
            "\u001b[?25hRequirement already satisfied: numpy>=1.20 in /usr/local/lib/python3.10/dist-packages (from monai) (1.25.2)\n",
            "Requirement already satisfied: torch>=1.9 in /usr/local/lib/python3.10/dist-packages (from monai) (2.2.1+cu121)\n",
            "Requirement already satisfied: filelock in /usr/local/lib/python3.10/dist-packages (from torch>=1.9->monai) (3.14.0)\n",
            "Requirement already satisfied: typing-extensions>=4.8.0 in /usr/local/lib/python3.10/dist-packages (from torch>=1.9->monai) (4.11.0)\n",
            "Requirement already satisfied: sympy in /usr/local/lib/python3.10/dist-packages (from torch>=1.9->monai) (1.12)\n",
            "Requirement already satisfied: networkx in /usr/local/lib/python3.10/dist-packages (from torch>=1.9->monai) (3.3)\n",
            "Requirement already satisfied: jinja2 in /usr/local/lib/python3.10/dist-packages (from torch>=1.9->monai) (3.1.3)\n",
            "Requirement already satisfied: fsspec in /usr/local/lib/python3.10/dist-packages (from torch>=1.9->monai) (2023.6.0)\n",
            "Collecting nvidia-cuda-nvrtc-cu12==12.1.105 (from torch>=1.9->monai)\n",
            "  Using cached nvidia_cuda_nvrtc_cu12-12.1.105-py3-none-manylinux1_x86_64.whl (23.7 MB)\n",
            "Collecting nvidia-cuda-runtime-cu12==12.1.105 (from torch>=1.9->monai)\n",
            "  Using cached nvidia_cuda_runtime_cu12-12.1.105-py3-none-manylinux1_x86_64.whl (823 kB)\n",
            "Collecting nvidia-cuda-cupti-cu12==12.1.105 (from torch>=1.9->monai)\n",
            "  Using cached nvidia_cuda_cupti_cu12-12.1.105-py3-none-manylinux1_x86_64.whl (14.1 MB)\n",
            "Collecting nvidia-cudnn-cu12==8.9.2.26 (from torch>=1.9->monai)\n",
            "  Using cached nvidia_cudnn_cu12-8.9.2.26-py3-none-manylinux1_x86_64.whl (731.7 MB)\n",
            "Collecting nvidia-cublas-cu12==12.1.3.1 (from torch>=1.9->monai)\n",
            "  Using cached nvidia_cublas_cu12-12.1.3.1-py3-none-manylinux1_x86_64.whl (410.6 MB)\n",
            "Collecting nvidia-cufft-cu12==11.0.2.54 (from torch>=1.9->monai)\n",
            "  Using cached nvidia_cufft_cu12-11.0.2.54-py3-none-manylinux1_x86_64.whl (121.6 MB)\n",
            "Collecting nvidia-curand-cu12==10.3.2.106 (from torch>=1.9->monai)\n",
            "  Using cached nvidia_curand_cu12-10.3.2.106-py3-none-manylinux1_x86_64.whl (56.5 MB)\n",
            "Collecting nvidia-cusolver-cu12==11.4.5.107 (from torch>=1.9->monai)\n",
            "  Using cached nvidia_cusolver_cu12-11.4.5.107-py3-none-manylinux1_x86_64.whl (124.2 MB)\n",
            "Collecting nvidia-cusparse-cu12==12.1.0.106 (from torch>=1.9->monai)\n",
            "  Using cached nvidia_cusparse_cu12-12.1.0.106-py3-none-manylinux1_x86_64.whl (196.0 MB)\n",
            "Collecting nvidia-nccl-cu12==2.19.3 (from torch>=1.9->monai)\n",
            "  Using cached nvidia_nccl_cu12-2.19.3-py3-none-manylinux1_x86_64.whl (166.0 MB)\n",
            "Collecting nvidia-nvtx-cu12==12.1.105 (from torch>=1.9->monai)\n",
            "  Using cached nvidia_nvtx_cu12-12.1.105-py3-none-manylinux1_x86_64.whl (99 kB)\n",
            "Requirement already satisfied: triton==2.2.0 in /usr/local/lib/python3.10/dist-packages (from torch>=1.9->monai) (2.2.0)\n",
            "Collecting nvidia-nvjitlink-cu12 (from nvidia-cusolver-cu12==11.4.5.107->torch>=1.9->monai)\n",
            "  Using cached nvidia_nvjitlink_cu12-12.4.127-py3-none-manylinux2014_x86_64.whl (21.1 MB)\n",
            "Requirement already satisfied: MarkupSafe>=2.0 in /usr/local/lib/python3.10/dist-packages (from jinja2->torch>=1.9->monai) (2.1.5)\n",
            "Requirement already satisfied: mpmath>=0.19 in /usr/local/lib/python3.10/dist-packages (from sympy->torch>=1.9->monai) (1.3.0)\n",
            "Installing collected packages: nvidia-nvtx-cu12, nvidia-nvjitlink-cu12, nvidia-nccl-cu12, nvidia-curand-cu12, nvidia-cufft-cu12, nvidia-cuda-runtime-cu12, nvidia-cuda-nvrtc-cu12, nvidia-cuda-cupti-cu12, nvidia-cublas-cu12, nvidia-cusparse-cu12, nvidia-cudnn-cu12, nvidia-cusolver-cu12, monai\n",
            "Successfully installed monai-1.3.0 nvidia-cublas-cu12-12.1.3.1 nvidia-cuda-cupti-cu12-12.1.105 nvidia-cuda-nvrtc-cu12-12.1.105 nvidia-cuda-runtime-cu12-12.1.105 nvidia-cudnn-cu12-8.9.2.26 nvidia-cufft-cu12-11.0.2.54 nvidia-curand-cu12-10.3.2.106 nvidia-cusolver-cu12-11.4.5.107 nvidia-cusparse-cu12-12.1.0.106 nvidia-nccl-cu12-2.19.3 nvidia-nvjitlink-cu12-12.4.127 nvidia-nvtx-cu12-12.1.105\n",
            "Requirement already satisfied: monai[einops] in /usr/local/lib/python3.10/dist-packages (1.3.0)\n",
            "Requirement already satisfied: numpy>=1.20 in /usr/local/lib/python3.10/dist-packages (from monai[einops]) (1.25.2)\n",
            "Requirement already satisfied: torch>=1.9 in /usr/local/lib/python3.10/dist-packages (from monai[einops]) (2.2.1+cu121)\n",
            "Collecting einops (from monai[einops])\n",
            "  Downloading einops-0.8.0-py3-none-any.whl (43 kB)\n",
            "\u001b[2K     \u001b[90m━━━━━━━━━━━━━━━━━━━━━━━━━━━━━━━━━━━━━━━━\u001b[0m \u001b[32m43.2/43.2 kB\u001b[0m \u001b[31m1.5 MB/s\u001b[0m eta \u001b[36m0:00:00\u001b[0m\n",
            "\u001b[?25hRequirement already satisfied: filelock in /usr/local/lib/python3.10/dist-packages (from torch>=1.9->monai[einops]) (3.14.0)\n",
            "Requirement already satisfied: typing-extensions>=4.8.0 in /usr/local/lib/python3.10/dist-packages (from torch>=1.9->monai[einops]) (4.11.0)\n",
            "Requirement already satisfied: sympy in /usr/local/lib/python3.10/dist-packages (from torch>=1.9->monai[einops]) (1.12)\n",
            "Requirement already satisfied: networkx in /usr/local/lib/python3.10/dist-packages (from torch>=1.9->monai[einops]) (3.3)\n",
            "Requirement already satisfied: jinja2 in /usr/local/lib/python3.10/dist-packages (from torch>=1.9->monai[einops]) (3.1.3)\n",
            "Requirement already satisfied: fsspec in /usr/local/lib/python3.10/dist-packages (from torch>=1.9->monai[einops]) (2023.6.0)\n",
            "Requirement already satisfied: nvidia-cuda-nvrtc-cu12==12.1.105 in /usr/local/lib/python3.10/dist-packages (from torch>=1.9->monai[einops]) (12.1.105)\n",
            "Requirement already satisfied: nvidia-cuda-runtime-cu12==12.1.105 in /usr/local/lib/python3.10/dist-packages (from torch>=1.9->monai[einops]) (12.1.105)\n",
            "Requirement already satisfied: nvidia-cuda-cupti-cu12==12.1.105 in /usr/local/lib/python3.10/dist-packages (from torch>=1.9->monai[einops]) (12.1.105)\n",
            "Requirement already satisfied: nvidia-cudnn-cu12==8.9.2.26 in /usr/local/lib/python3.10/dist-packages (from torch>=1.9->monai[einops]) (8.9.2.26)\n",
            "Requirement already satisfied: nvidia-cublas-cu12==12.1.3.1 in /usr/local/lib/python3.10/dist-packages (from torch>=1.9->monai[einops]) (12.1.3.1)\n",
            "Requirement already satisfied: nvidia-cufft-cu12==11.0.2.54 in /usr/local/lib/python3.10/dist-packages (from torch>=1.9->monai[einops]) (11.0.2.54)\n",
            "Requirement already satisfied: nvidia-curand-cu12==10.3.2.106 in /usr/local/lib/python3.10/dist-packages (from torch>=1.9->monai[einops]) (10.3.2.106)\n",
            "Requirement already satisfied: nvidia-cusolver-cu12==11.4.5.107 in /usr/local/lib/python3.10/dist-packages (from torch>=1.9->monai[einops]) (11.4.5.107)\n",
            "Requirement already satisfied: nvidia-cusparse-cu12==12.1.0.106 in /usr/local/lib/python3.10/dist-packages (from torch>=1.9->monai[einops]) (12.1.0.106)\n",
            "Requirement already satisfied: nvidia-nccl-cu12==2.19.3 in /usr/local/lib/python3.10/dist-packages (from torch>=1.9->monai[einops]) (2.19.3)\n",
            "Requirement already satisfied: nvidia-nvtx-cu12==12.1.105 in /usr/local/lib/python3.10/dist-packages (from torch>=1.9->monai[einops]) (12.1.105)\n",
            "Requirement already satisfied: triton==2.2.0 in /usr/local/lib/python3.10/dist-packages (from torch>=1.9->monai[einops]) (2.2.0)\n",
            "Requirement already satisfied: nvidia-nvjitlink-cu12 in /usr/local/lib/python3.10/dist-packages (from nvidia-cusolver-cu12==11.4.5.107->torch>=1.9->monai[einops]) (12.4.127)\n",
            "Requirement already satisfied: MarkupSafe>=2.0 in /usr/local/lib/python3.10/dist-packages (from jinja2->torch>=1.9->monai[einops]) (2.1.5)\n",
            "Requirement already satisfied: mpmath>=0.19 in /usr/local/lib/python3.10/dist-packages (from sympy->torch>=1.9->monai[einops]) (1.3.0)\n",
            "Installing collected packages: einops\n",
            "Successfully installed einops-0.8.0\n"
          ]
        }
      ]
    },
    {
      "cell_type": "code",
      "source": [
        "import os\n",
        "import sys\n",
        "from tempfile import NamedTemporaryFile\n",
        "from urllib.request import urlopen\n",
        "from urllib.parse import unquote, urlparse\n",
        "from urllib.error import HTTPError\n",
        "from zipfile import ZipFile\n",
        "import tarfile\n",
        "import shutil\n",
        "from monai.data import ImageReader\n",
        "from skimage.io import imread\n",
        "import matplotlib.pyplot as plt\n",
        "import pandas as pd\n",
        "from torchsummary import summary\n",
        "import random\n",
        "\n",
        "import os\n",
        "import glob\n",
        "\n",
        "import monai\n",
        "import numpy as np\n",
        "import torch\n",
        "from tqdm import tqdm, trange\n",
        "\n",
        "from monai.networks.blocks import PatchEmbed, UnetOutBlock, UnetrBasicBlock, UnetrUpBlock"
      ],
      "metadata": {
        "id": "mNfDr3nl6yIJ"
      },
      "execution_count": null,
      "outputs": []
    },
    {
      "cell_type": "code",
      "source": [
        "os.environ['KAGGLE_CONFIG_DIR'] = '/content/drive/MyDrive/kaggle'"
      ],
      "metadata": {
        "id": "MNv3L2PLHBop"
      },
      "execution_count": null,
      "outputs": []
    },
    {
      "cell_type": "code",
      "source": [
        "!kaggle competitions download -c bugnist2024fgvc"
      ],
      "metadata": {
        "colab": {
          "base_uri": "https://localhost:8080/"
        },
        "id": "ROuv6B91vb9D",
        "outputId": "256aefcf-c8f9-44bf-efe1-000d82d609a0"
      },
      "execution_count": null,
      "outputs": [
        {
          "output_type": "stream",
          "name": "stdout",
          "text": [
            "Downloading bugnist2024fgvc.zip to /content\n",
            " 98% 665M/677M [00:05<00:00, 115MB/s]\n",
            "100% 677M/677M [00:05<00:00, 125MB/s]\n"
          ]
        }
      ]
    },
    {
      "cell_type": "markdown",
      "source": [
        "# Sample submission based on 3D U-Net as a baseline\n",
        "\n",
        "In this notebook, we'll go through a full attempt at a solution - albeit a poorly performing one.\n",
        "\n",
        "**Full disclosure:** this notebook was not developed on Kaggle, but on another machine. It may not work out of the box but hopefully, it can serve as a useful starting point for now.\n",
        "\n",
        "The idea is to train a 3D U-Net to segment the bugs based on the single bug images. Here, there is only one bug per image, so we can use the 3D U-Net to segment the bug. Since we know the label of the bugs in the single bug images, we can also train the U-Net to predict the bug type, by casting it as a multi-class segmentation problem (13 classes, 12 bugs + background). We can then use the segmentation to find its center point and use that for our submission."
      ],
      "metadata": {
        "id": "4Zv7toCr6Uqf"
      }
    },
    {
      "cell_type": "code",
      "source": [
        "extract_dir = '/content/'\n",
        "\n",
        "if not os.path.exists(extract_dir):\n",
        "    os.makedirs(extract_dir)\n",
        "\n",
        "with ZipFile('/content/bugnist2024fgvc.zip', 'r') as zip_ref:\n",
        "    zip_ref.extractall(extract_dir)"
      ],
      "metadata": {
        "id": "j4CuAHOQ6Uqh"
      },
      "execution_count": null,
      "outputs": []
    },
    {
      "cell_type": "code",
      "source": [
        "# Path to individual bugs (change to where you store the bugs)\n",
        "data_dir = '/content/BugNIST_DATA/train'"
      ],
      "metadata": {
        "id": "G5sROvc5Qg2H"
      },
      "execution_count": null,
      "outputs": []
    },
    {
      "cell_type": "markdown",
      "source": [
        "First, we gather all the files and their labels to prepare the data loaders.\n",
        "We will store the labels as one-hot encoded vectors."
      ],
      "metadata": {
        "id": "2EPMq94k6Uqh"
      }
    },
    {
      "cell_type": "code",
      "source": [
        "images = []\n",
        "labels = []\n",
        "\n",
        "class_names = os.listdir(data_dir)\n",
        "class_image_files = [\n",
        "    glob.glob(os.path.join(data_dir, name, '*')) for name in class_names\n",
        "]\n",
        "\n",
        "for i, files in enumerate(class_image_files):\n",
        "    images += files\n",
        "\n",
        "    labels_i = torch.zeros(len(files), len(class_names))\n",
        "    labels_i[:, i] = 1\n",
        "    labels.append(labels_i)\n",
        "\n",
        "\n",
        "labels = torch.cat(labels, dim=0)"
      ],
      "metadata": {
        "id": "4ULbGXgI6Uqh"
      },
      "execution_count": null,
      "outputs": []
    },
    {
      "cell_type": "markdown",
      "source": [
        "Some samples of the lists we made:"
      ],
      "metadata": {
        "id": "niUhj-aL6Uqh"
      }
    },
    {
      "cell_type": "code",
      "source": [
        "class_names"
      ],
      "metadata": {
        "id": "GWans1Sf6Uqi",
        "colab": {
          "base_uri": "https://localhost:8080/"
        },
        "outputId": "a68d6071-d85b-4909-eb6d-11ed9a01ae81"
      },
      "execution_count": null,
      "outputs": [
        {
          "output_type": "execute_result",
          "data": {
            "text/plain": [
              "['ML', 'PP', 'CF', 'GH', 'MA', 'BL', 'BP', 'WO', 'AC', 'SL', 'BF', 'BC']"
            ]
          },
          "metadata": {},
          "execution_count": 10
        }
      ]
    },
    {
      "cell_type": "code",
      "source": [
        "images[:5]"
      ],
      "metadata": {
        "id": "tX38X2cD6Uqi",
        "colab": {
          "base_uri": "https://localhost:8080/"
        },
        "outputId": "99e296a2-5204-4033-e31a-0af728d1492c"
      },
      "execution_count": null,
      "outputs": [
        {
          "output_type": "execute_result",
          "data": {
            "text/plain": [
              "['/content/BugNIST_DATA/train/ML/mel_11_030.tif',\n",
              " '/content/BugNIST_DATA/train/ML/mel_2_031.tif',\n",
              " '/content/BugNIST_DATA/train/ML/mel_8_011.tif',\n",
              " '/content/BugNIST_DATA/train/ML/mel_9_021.tif',\n",
              " '/content/BugNIST_DATA/train/ML/mel_14_025.tif']"
            ]
          },
          "metadata": {},
          "execution_count": 11
        }
      ]
    },
    {
      "cell_type": "code",
      "source": [
        "labels[:5]"
      ],
      "metadata": {
        "id": "HZDoyy146Uqi",
        "colab": {
          "base_uri": "https://localhost:8080/"
        },
        "outputId": "80147541-18b7-4759-dc0b-dcb2162a8651"
      },
      "execution_count": null,
      "outputs": [
        {
          "output_type": "execute_result",
          "data": {
            "text/plain": [
              "tensor([[1., 0., 0., 0., 0., 0., 0., 0., 0., 0., 0., 0.],\n",
              "        [1., 0., 0., 0., 0., 0., 0., 0., 0., 0., 0., 0.],\n",
              "        [1., 0., 0., 0., 0., 0., 0., 0., 0., 0., 0., 0.],\n",
              "        [1., 0., 0., 0., 0., 0., 0., 0., 0., 0., 0., 0.],\n",
              "        [1., 0., 0., 0., 0., 0., 0., 0., 0., 0., 0., 0.]])"
            ]
          },
          "metadata": {},
          "execution_count": 12
        }
      ]
    },
    {
      "cell_type": "markdown",
      "source": [
        "Looks good! Let's split the individual images into a train and validation set:"
      ],
      "metadata": {
        "id": "fpW9vOLV6Uqi"
      }
    },
    {
      "cell_type": "code",
      "source": [
        "from sklearn.model_selection import train_test_split\n",
        "\n",
        "train_val_split = 0.7\n",
        "\n",
        "train_images, val_images, train_labels, val_labels = train_test_split(\n",
        "    images, labels, train_size=train_val_split, stratify=labels,\n",
        "    random_state=1337,\n",
        ")"
      ],
      "metadata": {
        "id": "YhjNuo5z6Uqj"
      },
      "execution_count": null,
      "outputs": []
    },
    {
      "cell_type": "code",
      "source": [
        "from monai.data import ImageReader\n",
        "from skimage.io import imread\n",
        "\n",
        "class TiffReader(ImageReader):\n",
        "    def __init__(self):\n",
        "        super().__init__()\n",
        "\n",
        "\n",
        "    def get_data(self, img):\n",
        "        return np.asarray(img), dict()\n",
        "\n",
        "\n",
        "    def read(self, data, **kwargs):\n",
        "        if isinstance(data, str):\n",
        "            data = [data]\n",
        "\n",
        "        return [imread(f) for f in data]\n",
        "\n",
        "\n",
        "    def verify_suffix(self, filename):\n",
        "        return filename.endswith('.tif') or filename.endswith('.tiff')\n"
      ],
      "metadata": {
        "id": "w0NQmOMy6Uqj"
      },
      "execution_count": null,
      "outputs": []
    },
    {
      "cell_type": "markdown",
      "source": [
        "During the training pipeline, the rough idea is this:\n",
        "\n",
        "1. Load a batch of images and their labels.\n",
        "2. Segment the (single) bug using a threshold on the image intensity.\n",
        "3. Use the label to turn the binary thresholded image into an actual segmentation mask.\n",
        "4. Train the U-Net to predict the segmentation mask.\n",
        "\n",
        "The solution here is based on the MONAI library, which provides building blocks for 3D image segmentations. Most of the above steps can be achieved via existing MONAI transforms we can add as data augmentations. However, we need two extra helper classes.\n",
        "\n",
        "First, a class to tell it how to read our 3D tiff-files:"
      ],
      "metadata": {
        "id": "iiftzzg26Uqj"
      }
    },
    {
      "cell_type": "markdown",
      "source": [
        "Next a class to copy an image"
      ],
      "metadata": {
        "id": "VT3HiP1q6Uqj"
      }
    },
    {
      "cell_type": "code",
      "source": [
        "from copy import deepcopy\n",
        "from monai.transforms import MapTransform\n",
        "\n",
        "class CopyImaged(MapTransform):\n",
        "    def __init__(self, key_to_copy, new_key, allow_missing_keys=False):\n",
        "        super().__init__(key_to_copy, allow_missing_keys)\n",
        "        self.key_to_copy = key_to_copy\n",
        "        self.new_key = new_key\n",
        "\n",
        "\n",
        "    def __call__(self, data):\n",
        "        data = dict(data)\n",
        "        data[self.new_key] = deepcopy(data[self.key_to_copy])\n",
        "        return data\n"
      ],
      "metadata": {
        "id": "gQHu010e6Uqk"
      },
      "execution_count": null,
      "outputs": []
    },
    {
      "cell_type": "markdown",
      "source": [
        "We can now set up our transforms:"
      ],
      "metadata": {
        "id": "UH6LfgkR6Uqk"
      }
    },
    {
      "cell_type": "code",
      "source": [
        "import monai.transforms as T\n",
        "from skimage.io import imread\n",
        "\n",
        "# Precompute padding to get equal side lengths\n",
        "im0 = imread(images[0])\n",
        "shape = torch.tensor(im0.shape)\n",
        "padding = (0, int((shape[0] - shape[1]) // 2), int((shape[0] - shape[2]) // 2))\n",
        "\n",
        "# Prepare train and test data loaders\n",
        "keys = ['image', 'mask']\n",
        "train_transforms = T.Compose([\n",
        "    # Load the image\n",
        "    T.LoadImaged(keys='image', reader=TiffReader, image_only=True),\n",
        "    T.Resized(keys='image', spatial_size=shape),\n",
        "    # Scale the intensity\n",
        "    T.ScaleIntensityd(keys='image'),\n",
        "    # Pad the image so all sides are equal\n",
        "    T.BorderPadd(keys='image', spatial_border=padding),\n",
        "    # Make a copy of the image, which is what will later be our mask\n",
        "    CopyImaged(key_to_copy='image', new_key='mask'),\n",
        "    # Smooth the image and then threshold it\n",
        "    T.GaussianSmoothd(keys='mask', sigma=2),\n",
        "    T.AsDiscreted(keys='mask', threshold=0.25, dtype=torch.long),\n",
        "    # Only keep the largest connected component as the bug mask\n",
        "    T.KeepLargestConnectedComponentd(keys='mask', applied_labels=[0]),\n",
        "    # Apply normal data augmentations\n",
        "    T.EnsureTyped(keys=['image', 'mask', 'label'], track_meta=False),\n",
        "    T.RandAffined(\n",
        "        keys=['image', 'mask'], prob=0.95, rotate_range=(np.pi/2,) * 3,\n",
        "        translate_range=shape // torch.tensor([2, 1, 1]), padding_mode='zeros'),\n",
        "    T.RandAxisFlipd(keys=keys, prob=0.5),\n",
        "    T.RandScaleIntensityd(keys='image', factors=0.25, prob=0.5),\n",
        "    T.RandZoomd(keys=keys, prob=0.5),\n",
        "    T.SqueezeDimd(keys='mask'),\n",
        "    T.CastToTyped(keys='mask', dtype=torch.long),\n",
        "])\n",
        "\n",
        "val_transforms = T.Compose([\n",
        "    # See train_transforms\n",
        "    T.LoadImaged(keys='image', reader=TiffReader, image_only=True),\n",
        "    T.Resized(keys='image', spatial_size=shape),\n",
        "    T.ScaleIntensityd(keys='image'),\n",
        "    T.BorderPadd(keys='image', spatial_border=padding),\n",
        "    CopyImaged(key_to_copy='image', new_key='mask'),\n",
        "    T.GaussianSmoothd(keys='mask', sigma=2),\n",
        "    T.AsDiscreted(keys='mask', threshold=0.25, dtype=torch.long),\n",
        "    T.KeepLargestConnectedComponentd(keys='mask', applied_labels=[0]),\n",
        "    T.EnsureTyped(keys=['image', 'mask', 'label'], track_meta=False),\n",
        "    T.SqueezeDimd(keys='mask'),\n",
        "    T.CastToTyped(keys='mask', dtype=torch.long),\n",
        "])"
      ],
      "metadata": {
        "id": "ASmUpzFK6Uqk"
      },
      "execution_count": null,
      "outputs": []
    },
    {
      "cell_type": "markdown",
      "source": [
        "Let's quickly run through how this looks like when the code runs.\n",
        "\n",
        "We create our `Dataset`s"
      ],
      "metadata": {
        "id": "bHMCe8w-6Uqk"
      }
    },
    {
      "cell_type": "code",
      "source": [
        "from monai.data import Dataset\n",
        "\n",
        "train_data = Dataset(\n",
        "    [{ 'image': f, 'label': l }\n",
        "        for f, l in zip(train_images, train_labels)],\n",
        "    transform=train_transforms,\n",
        ")\n",
        "\n",
        "val_data = Dataset(\n",
        "    [{ 'image': f, 'label': l }\n",
        "     for f, l in zip(val_images, val_labels)],\n",
        "    transform=val_transforms,\n",
        ")"
      ],
      "metadata": {
        "id": "UC9co5Z56Uqk"
      },
      "execution_count": null,
      "outputs": []
    },
    {
      "cell_type": "markdown",
      "source": [
        "...and `DataLoaders`"
      ],
      "metadata": {
        "id": "Qa2KhaAX6Uqk"
      }
    },
    {
      "cell_type": "code",
      "source": [
        "from monai.data import DataLoader\n",
        "\n",
        "train_batch_size = 4\n",
        "val_batch_size = 2\n",
        "\n",
        "train_loader = DataLoader(\n",
        "    train_data,\n",
        "    shuffle=True,\n",
        "    num_workers=0,\n",
        "    batch_size=train_batch_size,\n",
        ")\n",
        "val_loader = DataLoader(\n",
        "    val_data,\n",
        "    num_workers=0,\n",
        "    shuffle=False,\n",
        "    batch_size=val_batch_size,\n",
        ")"
      ],
      "metadata": {
        "id": "plXO98UG6Uqk"
      },
      "execution_count": null,
      "outputs": []
    },
    {
      "cell_type": "markdown",
      "source": [
        "Get a batch and look at it:"
      ],
      "metadata": {
        "id": "Vdpq_sNJ6Uql"
      }
    },
    {
      "cell_type": "code",
      "source": [
        "for i, batch in enumerate(train_loader):\n",
        "    if i == 1:\n",
        "      break"
      ],
      "metadata": {
        "id": "zouoRS856Uql"
      },
      "execution_count": null,
      "outputs": []
    },
    {
      "cell_type": "code",
      "source": [
        "batch.keys()"
      ],
      "metadata": {
        "id": "Oj2EP2fe6Uql",
        "colab": {
          "base_uri": "https://localhost:8080/"
        },
        "outputId": "6924f4fc-e518-4c97-ca85-740f50b4e904"
      },
      "execution_count": null,
      "outputs": [
        {
          "output_type": "execute_result",
          "data": {
            "text/plain": [
              "dict_keys(['image', 'label', 'mask'])"
            ]
          },
          "metadata": {},
          "execution_count": 20
        }
      ]
    },
    {
      "cell_type": "code",
      "source": [
        "import matplotlib.pyplot as plt\n",
        "\n",
        "fig, ax = plt.subplots(2, 4, figsize=(10, 5))\n",
        "for i in range(4):\n",
        "    ax[0, i].imshow(batch['image'][i, 0].cpu().numpy().max(axis=0), cmap='gray')\n",
        "    ax[0, i].axis('off')\n",
        "    ax[1, i].imshow(batch['mask'][i].cpu().numpy().max(axis=0), cmap='tab20b', vmin=0, vmax=1)\n",
        "    ax[1, i].axis('off')\n",
        "fig.tight_layout()"
      ],
      "metadata": {
        "id": "G-YqwTbx6Uql",
        "colab": {
          "base_uri": "https://localhost:8080/",
          "height": 349
        },
        "outputId": "e9bc569f-bbcf-49e6-c8a4-78a17a2a4024"
      },
      "execution_count": null,
      "outputs": [
        {
          "output_type": "display_data",
          "data": {
            "text/plain": [
              "<Figure size 1000x500 with 8 Axes>"
            ],
            "image/png": "[encoded data removed]"
          },
          "metadata": {}
        }
      ]
    },
    {
      "cell_type": "code",
      "source": [
        "mask_label = batch['mask'] * (batch['label'].argmax(dim=1).view(-1, 1, 1, 1) + 1)\n",
        "\n",
        "fig, ax = plt.subplots(2, 4, figsize=(10, 5))\n",
        "for i in range(4):\n",
        "    ax[0, i].imshow(batch['image'][i, 0].cpu().numpy().max(axis=0), cmap='gray')\n",
        "    ax[0, i].axis('off')\n",
        "    ax[1, i].imshow(mask_label[i].cpu().numpy().max(axis=0), cmap='tab20b',\n",
        "                    vmin=0, vmax=len(class_names), interpolation='none')\n",
        "    ax[1, i].axis('off')\n",
        "fig.tight_layout()"
      ],
      "metadata": {
        "id": "08OsgOha6Uql",
        "colab": {
          "base_uri": "https://localhost:8080/",
          "height": 349
        },
        "outputId": "0fe77e30-bc1c-44cb-9842-eb4a4af8bed9"
      },
      "execution_count": null,
      "outputs": [
        {
          "output_type": "display_data",
          "data": {
            "text/plain": [
              "<Figure size 1000x500 with 8 Axes>"
            ],
            "image/png": "[encoded data removed]"
          },
          "metadata": {}
        }
      ]
    },
    {
      "cell_type": "markdown",
      "source": [
        "Alright, now for real:"
      ],
      "metadata": {
        "id": "ZOF4zb486Uql"
      }
    },
    {
      "cell_type": "code",
      "source": [
        "train_batch_size = 4\n",
        "val_batch_size = 8\n",
        "\n",
        "train_loader = DataLoader(\n",
        "    train_data,\n",
        "    shuffle=True,\n",
        "    num_workers=8,\n",
        "    batch_size=train_batch_size,\n",
        "    drop_last=True,\n",
        ")\n",
        "val_loader = DataLoader(\n",
        "    val_data,\n",
        "    num_workers=8,\n",
        "    shuffle=False,\n",
        "    batch_size=val_batch_size,\n",
        "    drop_last=True,\n",
        ")"
      ],
      "metadata": {
        "id": "NYYjKYg56Uql"
      },
      "execution_count": null,
      "outputs": []
    },
    {
      "cell_type": "markdown",
      "source": [
        "We use the built in U-Net implementation from MONAI:"
      ],
      "metadata": {
        "id": "ciHmY61v6Uqm"
      }
    },
    {
      "cell_type": "code",
      "source": [
        "model = monai.networks.nets.UNet(\n",
        "    spatial_dims=3,\n",
        "    in_channels=1,\n",
        "    out_channels=len(class_names) + 1,  # Bug classes and background\n",
        "    channels=(32, 64, 128, 256),\n",
        "    strides=(2, 2, 2),\n",
        "    num_res_units=2,\n",
        ")"
      ],
      "metadata": {
        "id": "sWogPCuR6Uqm"
      },
      "execution_count": null,
      "outputs": []
    },
    {
      "cell_type": "code",
      "source": [
        "model = model.cuda()"
      ],
      "metadata": {
        "id": "7bb5IP5L6Uqm"
      },
      "execution_count": null,
      "outputs": []
    },
    {
      "cell_type": "code",
      "source": [
        "'''from monai.networks.nets import SwinUNETR\n",
        "\n",
        "device = torch.device(\"cuda\" if torch.cuda.is_available() else \"cpu\")\n",
        "\n",
        "model = SwinUNETR(\n",
        "    img_size=(128, 128, 128),\n",
        "    in_channels=1,\n",
        "    #out_channels=len(class_names) + 1,\n",
        "    out_channels=14,\n",
        "    feature_size=48,\n",
        "    use_checkpoint=True,\n",
        ").to(device)'''"
      ],
      "metadata": {
        "id": "J0kDNjEI1MdD",
        "outputId": "11c459f1-2fd9-472a-a192-33ae1e73dac4",
        "colab": {
          "base_uri": "https://localhost:8080/",
          "height": 88
        }
      },
      "execution_count": null,
      "outputs": [
        {
          "output_type": "execute_result",
          "data": {
            "text/plain": [
              "'from monai.networks.nets import SwinUNETR\\n\\ndevice = torch.device(\"cuda\" if torch.cuda.is_available() else \"cpu\")\\n\\nmodel = SwinUNETR(\\n    img_size=(128, 128, 128),\\n    in_channels=1,\\n    #out_channels=len(class_names) + 1,\\n    out_channels=14,\\n    feature_size=48,\\n    use_checkpoint=True,\\n).to(device)'"
            ],
            "application/vnd.google.colaboratory.intrinsic+json": {
              "type": "string"
            }
          },
          "metadata": {},
          "execution_count": 26
        }
      ]
    },
    {
      "cell_type": "code",
      "source": [
        "'''weights = torch.load(\"/content/drive/MyDrive/swin_unetr.pt\")\n",
        "model.load_state_dict(weights)\n",
        "#model_unetr.load_from(weights=weight)'''"
      ],
      "metadata": {
        "id": "A_Uhvyo962GT",
        "outputId": "95584e4a-855c-421a-dd53-8c90cc07db3e",
        "colab": {
          "base_uri": "https://localhost:8080/",
          "height": 53
        }
      },
      "execution_count": null,
      "outputs": [
        {
          "output_type": "execute_result",
          "data": {
            "text/plain": [
              "'weights = torch.load(\"/content/drive/MyDrive/swin_unetr.pt\")\\nmodel.load_state_dict(weights)\\n#model_unetr.load_from(weights=weight)'"
            ],
            "application/vnd.google.colaboratory.intrinsic+json": {
              "type": "string"
            }
          },
          "metadata": {},
          "execution_count": 27
        }
      ]
    },
    {
      "cell_type": "code",
      "source": [
        "#model.out = UnetOutBlock(spatial_dims=3, in_channels=1, out_channels=len(class_names) + 1)"
      ],
      "metadata": {
        "id": "3og9ErfU8yaV"
      },
      "execution_count": null,
      "outputs": []
    },
    {
      "cell_type": "markdown",
      "source": [
        "We use a mix of cross entropy and Dice loss. For the cross entropy loss, we weigh class 0 (background) with 0.1, since there's a lot of it."
      ],
      "metadata": {
        "id": "mooAcUX66Uqm"
      }
    },
    {
      "cell_type": "code",
      "source": [
        "ce_weight = torch.ones(len(class_names) + 1, device='cuda')\n",
        "ce_weight[0] = 0.1\n",
        "\n",
        "loss_fn = monai.losses.DiceCELoss(\n",
        "    ce_weight=ce_weight,\n",
        "    to_onehot_y=True,\n",
        "    softmax=True,\n",
        "    include_background=True,\n",
        ")\n",
        "optimizer = torch.optim.Adam(\n",
        "    model.parameters(),\n",
        "    lr=1e-4,\n",
        ")"
      ],
      "metadata": {
        "id": "9sand_zu6Uqm",
        "colab": {
          "base_uri": "https://localhost:8080/"
        },
        "outputId": "57c45426-e40e-4f43-ff09-163c11fdaa23"
      },
      "execution_count": null,
      "outputs": [
        {
          "output_type": "stream",
          "name": "stderr",
          "text": [
            "/usr/local/lib/python3.10/dist-packages/monai/utils/deprecate_utils.py:221: FutureWarning: monai.losses.dice DiceCELoss.__init__:ce_weight: Argument `ce_weight` has been deprecated since version 1.2. It will be removed in version 1.4. please use `weight` instead.\n",
            "  warn_deprecated(argname, msg, warning_category)\n"
          ]
        }
      ]
    },
    {
      "cell_type": "markdown",
      "source": [
        "Define function to mix the images together"
      ],
      "metadata": {
        "id": "i_Da2P47EKDn"
      }
    },
    {
      "cell_type": "code",
      "source": [
        "def mix_images(originals, masks):\n",
        "    \"\"\"\n",
        "    Mixes multiple 3D images without overlapping non-zero values.\n",
        "\n",
        "    Args:\n",
        "        masks (torch.Tensor): Tensor containing multiple 3D images.\n",
        "\n",
        "    Returns:\n",
        "        torch.Tensor: Mixed images.\n",
        "    \"\"\"\n",
        "    #print(f'masks: {type(masks)}, {masks.dtype}')\n",
        "\n",
        "    #print(f'originals: {type(originals)}, {originals.dtype}')\n",
        "\n",
        "    batch_size, depth, height, width = masks.shape\n",
        "    #print(f'd: {depth}, h: {height}, w: {width}')\n",
        "\n",
        "    mixed_masks = torch.zeros_like(masks)\n",
        "    mixed_originals = torch.zeros_like(originals)\n",
        "    #print(mixed_masks.shape)\n",
        "\n",
        "    for batch_idx in range(batch_size):\n",
        "        # Get the current image\n",
        "        current_mask = masks[batch_idx]\n",
        "        current_original = originals[batch_idx]\n",
        "\n",
        "        final_indices = [batch_idx]\n",
        "        #print(f'batch_idx: {batch_idx}')\n",
        "\n",
        "        # Randomly select a subset of images\n",
        "        num_images_to_mix = random.randint(0, batch_size-1)\n",
        "        #print(f'num_images_to_mix: {num_images_to_mix}')\n",
        "        final_masks = [current_mask]\n",
        "        final_originals = [current_original]\n",
        "\n",
        "        while len(final_indices)-1 < num_images_to_mix:\n",
        "          samples = random.sample(range(batch_size), 1)\n",
        "          index = samples[0]\n",
        "          if index not in final_indices:\n",
        "            #print(f'index: {index}')\n",
        "            final_indices.append(index)\n",
        "            final_masks.append(masks[index])\n",
        "            final_originals.append(originals[index])\n",
        "\n",
        "        # Create a canvas to overlay images without overlapping non-zero values\n",
        "        canvas_original = torch.zeros_like(current_original)\n",
        "        canvas_mask = torch.zeros_like(current_mask)\n",
        "        #print(\"Overlay\")\n",
        "\n",
        "        # Iterate over the masks\n",
        "        for i, mask in enumerate(final_masks):\n",
        "            non_zero_locations = mask.nonzero()\n",
        "# SHOULD CHANGE ANY TO ALL\n",
        "            has_zeros_in_locations = (canvas_mask[non_zero_locations[:, 0], non_zero_locations[:, 1], non_zero_locations[:, 2]] == 0).all()\n",
        "\n",
        "            if has_zeros_in_locations:\n",
        "              canvas_mask += mask\n",
        "              canvas_original += final_originals[i]\n",
        "\n",
        "        mixed_masks[batch_idx] = canvas_mask\n",
        "        mixed_originals[batch_idx] = canvas_original\n",
        "\n",
        "    return mixed_originals, mixed_masks"
      ],
      "metadata": {
        "id": "_ooFkrnyYaNE"
      },
      "execution_count": null,
      "outputs": []
    },
    {
      "cell_type": "code",
      "source": [
        "class EarlyStopping:\n",
        "    def __init__(self, patience=5, min_delta=0, mode='min', baseline=None):\n",
        "        \"\"\"\n",
        "        Early stopping to terminate training when a metric doesn't improve after a given number of epochs.\n",
        "\n",
        "        Args:\n",
        "            patience (int): How many epochs to wait before stopping if no improvement.\n",
        "            min_delta (float): Minimum change in the monitored metric to qualify as an improvement.\n",
        "            mode (str): 'min' for a metric that should decrease, 'max' for a metric that should increase.\n",
        "            baseline (float): An initial baseline to compare against.\n",
        "        \"\"\"\n",
        "        self.patience = patience\n",
        "        self.min_delta = min_delta\n",
        "        self.mode = mode\n",
        "        self.best_metric = baseline\n",
        "        self.wait = 0\n",
        "        self.early_stop = False\n",
        "\n",
        "        if mode == 'min':\n",
        "            self.best_metric = float('inf') if baseline is None else baseline\n",
        "        elif mode == 'max':\n",
        "            self.best_metric = float('-inf') if baseline is None else baseline\n",
        "        else:\n",
        "            raise ValueError(\"Mode should be 'min' or 'max'\")\n",
        "\n",
        "    def update(self, current_metric):\n",
        "        \"\"\"\n",
        "        Updates the early stopping status.\n",
        "\n",
        "        Args:\n",
        "            current_metric (float): Current value of the monitored metric.\n",
        "        \"\"\"\n",
        "        if self.mode == 'min':\n",
        "            improved = (current_metric < self.best_metric - self.min_delta)\n",
        "        else:  # 'max'\n",
        "            improved = (current_metric > self.best_metric + self.min_delta)\n",
        "\n",
        "        if improved:\n",
        "            self.best_metric = current_metric\n",
        "            self.wait = 0\n",
        "            self.early_stop = False\n",
        "        else:\n",
        "            self.wait += 1\n",
        "            if self.wait >= self.patience:\n",
        "                self.early_stop = True\n"
      ],
      "metadata": {
        "id": "F_DIeQ6Fm_9S"
      },
      "execution_count": null,
      "outputs": []
    },
    {
      "cell_type": "markdown",
      "source": [
        " Run the training. This will take several hours sadly..."
      ],
      "metadata": {
        "id": "1C5WPZyk6Uqm"
      }
    },
    {
      "cell_type": "code",
      "source": [
        "# Initialize early stopping with a patience of 5 epochs and no minimum change required for improvement\n",
        "early_stopping = EarlyStopping(patience=5, min_delta=0, mode='min')\n",
        "\n",
        "val_every = 1\n",
        "\n",
        "train_losses = []\n",
        "val_losses = []\n",
        "epoch_train_losses = []\n",
        "epoch_val_losses = []\n",
        "val_loss_mean = None\n",
        "best_metric = float('inf')\n",
        "model_path = 'best_model.pth'  # Path to save the best model\n",
        "\n",
        "for epoch in range(100):\n",
        "    model.train()\n",
        "\n",
        "    loss_mean = 0\n",
        "    num_batches = 0\n",
        "    for batch in tqdm(train_loader):\n",
        "        inputs = batch['image'].cuda()\n",
        "        label = batch['label'].argmax(dim=1).cuda()\n",
        "        expected = batch['mask'].cuda() * (label.view(-1, 1, 1, 1) + 1)\n",
        "\n",
        "        inputs, expected = mix_images(inputs, expected)\n",
        "\n",
        "        #inputs = inputs.cuda()\n",
        "        #expected = expected.cuda()\n",
        "\n",
        "        #print(f\"inputs: {type(inputs)}, {inputs.dtype}\")\n",
        "        #print(f\"expected: {type(expected)}, {expected.dtype}\")\n",
        "\n",
        "        #inputs = mixed_originals.cuda()\n",
        "        #expected = mixed_masks.cuda()\n",
        "\n",
        "        optimizer.zero_grad()\n",
        "        outputs = model(inputs)\n",
        "\n",
        "        #del mixed_masks, mixed_originals, inputs\n",
        "        #torch.cuda.empty_cache()\n",
        "\n",
        "        loss = loss_fn(outputs, expected.unsqueeze(1))\n",
        "\n",
        "        loss.backward()\n",
        "        optimizer.step()\n",
        "\n",
        "        with torch.no_grad():\n",
        "            loss_mean += loss.item()\n",
        "            num_batches += 1\n",
        "            train_losses.append(loss.item())\n",
        "\n",
        "\n",
        "    loss_mean /= num_batches\n",
        "    epoch_train_losses.append(loss_mean)\n",
        "\n",
        "    if epoch % val_every == 0:\n",
        "        model.eval()\n",
        "\n",
        "        val_loss_mean = 0\n",
        "        num_batches = 0\n",
        "        for batch in tqdm(val_loader):\n",
        "            inputs = batch['image'].cuda()\n",
        "            label = batch['label'].argmax(dim=1).cuda()\n",
        "            expected = batch['mask'].cuda() * (label.view(-1, 1, 1, 1) + 1)\n",
        "\n",
        "            inputs, expected = mix_images(inputs, expected)\n",
        "\n",
        "            with torch.no_grad():\n",
        "                outputs = model(inputs)\n",
        "                loss = loss_fn(outputs, expected.unsqueeze(1))\n",
        "                val_loss_mean += loss.item()\n",
        "                num_batches += 1\n",
        "                val_losses.append(loss.item())\n",
        "\n",
        "        val_loss_mean /= num_batches\n",
        "        epoch_val_losses.append(val_loss_mean)\n",
        "\n",
        "        # If the model improved, save it\n",
        "        if val_loss_mean < best_metric:\n",
        "            best_metric = val_loss_mean\n",
        "            torch.save(model.state_dict(), model_path)\n",
        "            print(\"Saving new best model\")\n",
        "\n",
        "        # Update early stopping with the current validation loss\n",
        "        early_stopping.update(val_loss_mean)\n",
        "\n",
        "        # If early stopping is triggered, break the training loop\n",
        "        if early_stopping.early_stop:\n",
        "            print(f\"Early stopping triggered at epoch {epoch + 1}\")\n",
        "            break\n",
        "\n",
        "    # Save a checkpoint at the end of each epoch\n",
        "    checkpoint = {\n",
        "        'model': model.state_dict(),\n",
        "        'optimizer': optimizer.state_dict(),\n",
        "        'epoch': epoch,\n",
        "        'train_losses': train_losses,\n",
        "        'val_losses': val_losses,\n",
        "        'epoch_train_losses': epoch_train_losses,\n",
        "        'epoch_val_losses': epoch_val_losses,\n",
        "        'best_metric': best_metric,\n",
        "    }\n",
        "    torch.save(checkpoint, 'latest_model.ckpt')\n",
        "\n",
        "    print(f\"Epoch {epoch + 1}, loss: {loss_mean:.4f}, val. loss: {val_loss_mean:.4f}\")"
      ],
      "metadata": {
        "id": "DOqjb6b_6Uqm",
        "colab": {
          "base_uri": "https://localhost:8080/",
          "height": 263
        },
        "outputId": "7f920b5a-e970-4632-a520-5d7b8a85933b"
      },
      "execution_count": null,
      "outputs": [
        {
          "output_type": "stream",
          "name": "stderr",
          "text": [
            "100%|██████████| 1601/1601 [26:45<00:00,  1.00s/it]\n",
            "100%|██████████| 343/343 [05:54<00:00,  1.03s/it]"
          ]
        },
        {
          "output_type": "stream",
          "name": "stdout",
          "text": [
            "Saving new best model\n"
          ]
        },
        {
          "output_type": "stream",
          "name": "stderr",
          "text": [
            "\n"
          ]
        },
        {
          "output_type": "error",
          "ename": "TypeError",
          "evalue": "EarlyStopping.update() missing 1 required positional argument: 'checkpoint'",
          "traceback": [
            "\u001b[0;31m---------------------------------------------------------------------------\u001b[0m",
            "\u001b[0;31mTypeError\u001b[0m                                 Traceback (most recent call last)",
            "\u001b[0;32m<ipython-input-33-77e052bbebfe>\u001b[0m in \u001b[0;36m<cell line: 14>\u001b[0;34m()\u001b[0m\n\u001b[1;32m     82\u001b[0m \u001b[0;34m\u001b[0m\u001b[0m\n\u001b[1;32m     83\u001b[0m         \u001b[0;31m# Update early stopping with the current validation loss\u001b[0m\u001b[0;34m\u001b[0m\u001b[0;34m\u001b[0m\u001b[0m\n\u001b[0;32m---> 84\u001b[0;31m         \u001b[0mearly_stopping\u001b[0m\u001b[0;34m.\u001b[0m\u001b[0mupdate\u001b[0m\u001b[0;34m(\u001b[0m\u001b[0mval_loss_mean\u001b[0m\u001b[0;34m)\u001b[0m\u001b[0;34m\u001b[0m\u001b[0;34m\u001b[0m\u001b[0m\n\u001b[0m\u001b[1;32m     85\u001b[0m \u001b[0;34m\u001b[0m\u001b[0m\n\u001b[1;32m     86\u001b[0m         \u001b[0;31m# If early stopping is triggered, break the training loop\u001b[0m\u001b[0;34m\u001b[0m\u001b[0;34m\u001b[0m\u001b[0m\n",
            "\u001b[0;31mTypeError\u001b[0m: EarlyStopping.update() missing 1 required positional argument: 'checkpoint'"
          ]
        }
      ]
    },
    {
      "cell_type": "code",
      "source": [
        "epoch"
      ],
      "metadata": {
        "id": "2egcHyVl6Uqn"
      },
      "execution_count": null,
      "outputs": []
    },
    {
      "cell_type": "markdown",
      "source": [
        "Let's see the val losses"
      ],
      "metadata": {
        "id": "dxSIdmTH6Uqn"
      }
    },
    {
      "cell_type": "code",
      "source": [
        "plt.plot(epoch_val_losses)"
      ],
      "metadata": {
        "id": "4byv5J2j6Uqn"
      },
      "execution_count": null,
      "outputs": []
    },
    {
      "cell_type": "markdown",
      "source": [
        "Not much and then we suddenly drop to good performance. Weird, but we'll take it for now.\n",
        "\n",
        "It would likely be smart to look further into this - but for now, let's just use the trained model to predict the test set."
      ],
      "metadata": {
        "id": "aCyM3F1u6Uqx"
      }
    },
    {
      "cell_type": "markdown",
      "source": [
        "## Predictions on single bugs\n",
        "\n",
        "First, we'll try it out on the validation examples with single bugs, just as a sanity check that it works for the trained task. To do this, we'll make a helper function:"
      ],
      "metadata": {
        "id": "HEYATjJ-6Uqy"
      }
    },
    {
      "cell_type": "code",
      "source": [
        "# Load the state dictionary\n",
        "model_path = 'best_model.pth'\n",
        "state_dict = torch.load(model_path)\n",
        "\n",
        "# Apply the state dictionary to your model\n",
        "model.load_state_dict(state_dict)"
      ],
      "metadata": {
        "id": "Bg5W74H1lFyN",
        "outputId": "3e4aa48f-5f2f-4b2e-b58c-e6134a3ef699",
        "colab": {
          "base_uri": "https://localhost:8080/"
        }
      },
      "execution_count": null,
      "outputs": [
        {
          "output_type": "execute_result",
          "data": {
            "text/plain": [
              "<All keys matched successfully>"
            ]
          },
          "metadata": {},
          "execution_count": 34
        }
      ]
    },
    {
      "cell_type": "code",
      "source": [
        "from skimage import measure\n",
        "\n",
        "def predict(image):\n",
        "    with torch.no_grad():\n",
        "        pred = model(image)\n",
        "    pred_sm = pred.softmax(dim=1).cpu().numpy()\n",
        "    class_props = []\n",
        "    for i in range(1, 13):\n",
        "        props = measure.regionprops(\n",
        "            measure.label(pred_sm[0, i] > 0.5)\n",
        "        )\n",
        "        props = [p for p in props if p.area > 5**3]\n",
        "        class_props.append(props)\n",
        "\n",
        "    boxes = np.array([p.bbox for props in class_props for p in props])\n",
        "    centers = np.array([p.centroid for props in class_props for p in props])\n",
        "    labels = np.array([i + 1 for i, props in enumerate(class_props) for p in props])\n",
        "    scores = np.ones(len(boxes))\n",
        "    return {\n",
        "        'boxes': boxes,\n",
        "        'centers': centers,\n",
        "        'labels': labels,\n",
        "        'scores': scores,\n",
        "        'pred': pred_sm,\n",
        "    }"
      ],
      "metadata": {
        "id": "cNo3c1qp6Uqy"
      },
      "execution_count": null,
      "outputs": []
    },
    {
      "cell_type": "markdown",
      "source": [
        "Now, load an image and run a prediction:"
      ],
      "metadata": {
        "id": "79vSy6s96Uqy"
      }
    },
    {
      "cell_type": "code",
      "source": [
        "from skimage.io import imread\n",
        "\n",
        "fname = val_images[70]\n",
        "image = imread(fname)\n",
        "print(fname)"
      ],
      "metadata": {
        "id": "FNgIWKaq6Uqy",
        "outputId": "45db0dd9-9e7c-4d7f-e870-a2c2c0208ee2",
        "colab": {
          "base_uri": "https://localhost:8080/"
        }
      },
      "execution_count": null,
      "outputs": [
        {
          "output_type": "stream",
          "name": "stdout",
          "text": [
            "/content/BugNIST_DATA/train/BP/guld_5_087.tif\n"
          ]
        }
      ]
    },
    {
      "cell_type": "code",
      "source": [
        "image = np.pad(image / 255.0, ((0, 0), (32, 32), (32, 32)))\n",
        "pred = predict(torch.tensor(image[None, None]).float().cuda())"
      ],
      "metadata": {
        "id": "RlfCiJw26Uqy"
      },
      "execution_count": null,
      "outputs": []
    },
    {
      "cell_type": "code",
      "source": [
        "np.unique(pred['pred'][0].argmax(axis=0))"
      ],
      "metadata": {
        "id": "krpPUKuO6Uqy",
        "outputId": "d1fed820-f9b1-471d-f2c1-7576bf1fa4fe",
        "colab": {
          "base_uri": "https://localhost:8080/"
        }
      },
      "execution_count": null,
      "outputs": [
        {
          "output_type": "execute_result",
          "data": {
            "text/plain": [
              "array([0, 2, 3, 4, 5, 6, 7, 8])"
            ]
          },
          "metadata": {},
          "execution_count": 76
        }
      ]
    },
    {
      "cell_type": "code",
      "source": [
        "from matplotlib.patches import Rectangle\n",
        "\n",
        "a = 1\n",
        "\n",
        "#fig, ax = plt.subplots(figsize=(10, 10))\n",
        "fig, ax = plt.subplots()\n",
        "ax.imshow(image.max(axis=a), cmap='gray')\n",
        "ax.imshow(pred['pred'][0].argmax(axis=0).max(axis=a), alpha=0.5, interpolation='none')\n",
        "for box, center, label in zip(pred['boxes'], pred['centers'], pred['labels']):\n",
        "    if a == 0:\n",
        "        center = (center[2] - 0.5, center[1] - 0.5)\n",
        "        xy = (box[2] - 0.5, box[1] - 0.5)\n",
        "        height = box[4] - box[1]\n",
        "        width = box[5] - box[2]\n",
        "    elif a == 1:\n",
        "        center = (center[2] - 0.5, center[0] - 0.5)\n",
        "        xy = (box[2] - 0.5, box[0] - 0.5)\n",
        "        height = box[3] - box[0]\n",
        "        width = box[5] - box[2]\n",
        "    else:\n",
        "        center = (center[1] - 0.5, center[0] - 0.5)\n",
        "        xy = (box[1] - 0.5, box[0] - 0.5)\n",
        "        height = box[3] - box[0]\n",
        "        width = box[4] - box[1]\n",
        "    ax.add_patch(\n",
        "        Rectangle(xy, width, height, edgecolor='r', facecolor='none'))\n",
        "    ax.plot(center[0], center[1], 'ro')\n",
        "    ax.text(xy[0], xy[1] - 1, class_names[label - 1], color='r')"
      ],
      "metadata": {
        "id": "YoGtTlaO6Uqy",
        "outputId": "b6b9a5db-d8ea-4c2e-ff7a-9035fd5f4a64",
        "colab": {
          "base_uri": "https://localhost:8080/",
          "height": 434
        }
      },
      "execution_count": null,
      "outputs": [
        {
          "output_type": "display_data",
          "data": {
            "text/plain": [
              "<Figure size 640x480 with 1 Axes>"
            ],
            "image/png": "[encoded data removed]"
          },
          "metadata": {}
        }
      ]
    },
    {
      "cell_type": "markdown",
      "source": [
        "# Predictions on mixed volumes\n",
        "\n",
        "Satisfied it works on the single bugs, we'll now try the validation examples with a mixture of bugs:"
      ],
      "metadata": {
        "id": "QBWEyoci6Uqz"
      }
    },
    {
      "cell_type": "code",
      "source": [
        "validation_dir = '/content/BugNIST_DATA/validation/'"
      ],
      "metadata": {
        "id": "LvE6K36_NGur"
      },
      "execution_count": null,
      "outputs": []
    },
    {
      "cell_type": "code",
      "source": [
        "mixed_images = sorted(glob.glob(validation_dir + '*.tif'))"
      ],
      "metadata": {
        "id": "0eQTxU9h6Uqz"
      },
      "execution_count": null,
      "outputs": []
    },
    {
      "cell_type": "code",
      "source": [
        "fname = mixed_images[10]\n",
        "image = imread(fname)\n",
        "image = np.pad(image / 255.0, ((0, 0), (18, 18), (18, 18)))  # Pad to even side length\n",
        "image.shape"
      ],
      "metadata": {
        "id": "LN3enWZd6Uqz",
        "outputId": "7879287c-ff9f-407b-c56d-8f6dc23fb96e",
        "colab": {
          "base_uri": "https://localhost:8080/"
        }
      },
      "execution_count": null,
      "outputs": [
        {
          "output_type": "execute_result",
          "data": {
            "text/plain": [
              "(128, 128, 128)"
            ]
          },
          "metadata": {},
          "execution_count": 80
        }
      ]
    },
    {
      "cell_type": "code",
      "source": [
        "plt.imshow(image.max(axis=1), cmap='gray')"
      ],
      "metadata": {
        "id": "ZZaoFulI6Uqz",
        "outputId": "9a61b464-7e99-4c08-c29e-2944398dc8a3",
        "colab": {
          "base_uri": "https://localhost:8080/",
          "height": 451
        }
      },
      "execution_count": null,
      "outputs": [
        {
          "output_type": "execute_result",
          "data": {
            "text/plain": [
              "<matplotlib.image.AxesImage at 0x7dd0bdf7e440>"
            ]
          },
          "metadata": {},
          "execution_count": 81
        },
        {
          "output_type": "display_data",
          "data": {
            "text/plain": [
              "<Figure size 640x480 with 1 Axes>"
            ],
            "image/png": "[encoded data removed]"
          },
          "metadata": {}
        }
      ]
    },
    {
      "cell_type": "code",
      "source": [
        "pred = predict(torch.tensor(image[None, None]).float().cuda())"
      ],
      "metadata": {
        "id": "Y6lzWzFa6Uqz"
      },
      "execution_count": null,
      "outputs": []
    },
    {
      "cell_type": "code",
      "source": [
        "np.unique(pred['pred'][0].argmax(axis=0))"
      ],
      "metadata": {
        "id": "yeUsP2KY6Uqz",
        "outputId": "1d894958-a7c2-4568-e1ea-131ad2d913a2",
        "colab": {
          "base_uri": "https://localhost:8080/"
        }
      },
      "execution_count": null,
      "outputs": [
        {
          "output_type": "execute_result",
          "data": {
            "text/plain": [
              "array([ 0,  1,  2,  4,  5,  6,  7,  8,  9, 10, 12])"
            ]
          },
          "metadata": {},
          "execution_count": 83
        }
      ]
    },
    {
      "cell_type": "code",
      "source": [
        "from matplotlib.patches import Rectangle\n",
        "\n",
        "a = 2\n",
        "\n",
        "#fig, ax = plt.subplots(figsize=(10, 10))\n",
        "fig, ax = plt.subplots()\n",
        "ax.imshow(image.max(axis=a), cmap='gray')\n",
        "ax.imshow(pred['pred'][0].argmax(axis=0).max(axis=a), alpha=0.5, interpolation='none')\n",
        "for box, center, label in zip(pred['boxes'], pred['centers'], pred['labels']):\n",
        "    if a == 0:\n",
        "        center = (center[2] - 0.5, center[1] - 0.5)\n",
        "        xy = (box[2] - 0.5, box[1] - 0.5)\n",
        "        height = box[4] - box[1]\n",
        "        width = box[5] - box[2]\n",
        "    elif a == 1:\n",
        "        center = (center[2] - 0.5, center[0] - 0.5)\n",
        "        xy = (box[2] - 0.5, box[0] - 0.5)\n",
        "        height = box[3] - box[0]\n",
        "        width = box[5] - box[2]\n",
        "    else:\n",
        "        center = (center[1] - 0.5, center[0] - 0.5)\n",
        "        xy = (box[1] - 0.5, box[0] - 0.5)\n",
        "        height = box[3] - box[0]\n",
        "        width = box[4] - box[1]\n",
        "    ax.add_patch(\n",
        "        Rectangle(xy, width, height, edgecolor='r', facecolor='none'))\n",
        "    ax.plot(center[0], center[1], 'ro')\n",
        "    ax.text(xy[0], xy[1] - 1, class_names[label - 1], color='r')"
      ],
      "metadata": {
        "id": "FC8EqQbc6Uqz",
        "outputId": "b8b50152-2336-497f-b390-0034bd6ebe94",
        "colab": {
          "base_uri": "https://localhost:8080/",
          "height": 434
        }
      },
      "execution_count": null,
      "outputs": [
        {
          "output_type": "display_data",
          "data": {
            "text/plain": [
              "<Figure size 640x480 with 1 Axes>"
            ],
            "image/png": "[encoded data removed]"
          },
          "metadata": {}
        }
      ]
    },
    {
      "cell_type": "markdown",
      "source": [
        "Performance is not *great*, but it's finding something. This is to be expected when the model has only seen single bugs during training. Someone should get on that ;-)\n",
        "\n",
        "Let's now try to format our predictions in the competition format. First, we load the sample CSV file"
      ],
      "metadata": {
        "id": "D9Yio2xN6Uq0"
      }
    },
    {
      "cell_type": "code",
      "source": [
        "import pandas as pd\n",
        "\n",
        "validation = pd.read_csv(validation_dir + 'validation.csv')"
      ],
      "metadata": {
        "id": "E1CLVuFW6Uq0"
      },
      "execution_count": null,
      "outputs": []
    },
    {
      "cell_type": "code",
      "source": [
        "validation.set_index('filename', inplace=True)\n",
        "validation"
      ],
      "metadata": {
        "id": "mmovrNie6Uq0",
        "outputId": "78b94b17-25c8-47ac-a029-a294d4e96c39",
        "colab": {
          "base_uri": "https://localhost:8080/",
          "height": 455
        }
      },
      "execution_count": null,
      "outputs": [
        {
          "output_type": "execute_result",
          "data": {
            "text/plain": [
              "                                                     centerpoints\n",
              "filename                                                         \n",
              "mix_02_006.tif  bl;48.61;39.14;96.19;bl;77.71;53.14;57.17;pp;5...\n",
              "mix_02_011.tif  ml;77.86;46.26;57.79;sl;41.14;61.93;32.37;sl;5...\n",
              "mix_03_001.tif  ml;54.20;34.58;81.43;ml;59.60;41.94;60.72;ml;4...\n",
              "mix_03_003.tif  wo;44.37;27.71;85.18;wo;30.04;28.46;58.76;wo;4...\n",
              "mix_03_004.tif  pp;74.65;44.18;52.53;pp;30.69;25.53;54.51;pp;1...\n",
              "...                                                           ...\n",
              "mix_28_008.tif  ml;73.50;47.97;60.62;ml;30.65;24.54;75.91;ml;1...\n",
              "mix_28_011.tif  cf;67.69;69.75;38.29;cf;46.78;25.38;42.34;ma;5...\n",
              "mix_29_005.tif  bf;72.06;58.57;38.59;bf;48.71;29.59;47.57;bf;3...\n",
              "mix_29_009.tif  ml;42.26;26.99;48.13;ml;58.60;25.86;42.10;ml;5...\n",
              "mix_30_002.tif  cf;47.16;74.19;43.14;cf;49.94;20.82;78.99;cf;3...\n",
              "\n",
              "[78 rows x 1 columns]"
            ],
            "text/html": [
              "\n",
              "  <div id=\"df-3d473bbf-fc08-41d3-9e0c-5afc2e465419\" class=\"colab-df-container\">\n",
              "    <div>\n",
              "<style scoped>\n",
              "    .dataframe tbody tr th:only-of-type {\n",
              "        vertical-align: middle;\n",
              "    }\n",
              "\n",
              "    .dataframe tbody tr th {\n",
              "        vertical-align: top;\n",
              "    }\n",
              "\n",
              "    .dataframe thead th {\n",
              "        text-align: right;\n",
              "    }\n",
              "</style>\n",
              "<table border=\"1\" class=\"dataframe\">\n",
              "  <thead>\n",
              "    <tr style=\"text-align: right;\">\n",
              "      <th></th>\n",
              "      <th>centerpoints</th>\n",
              "    </tr>\n",
              "    <tr>\n",
              "      <th>filename</th>\n",
              "      <th></th>\n",
              "    </tr>\n",
              "  </thead>\n",
              "  <tbody>\n",
              "    <tr>\n",
              "      <th>mix_02_006.tif</th>\n",
              "      <td>bl;48.61;39.14;96.19;bl;77.71;53.14;57.17;pp;5...</td>\n",
              "    </tr>\n",
              "    <tr>\n",
              "      <th>mix_02_011.tif</th>\n",
              "      <td>ml;77.86;46.26;57.79;sl;41.14;61.93;32.37;sl;5...</td>\n",
              "    </tr>\n",
              "    <tr>\n",
              "      <th>mix_03_001.tif</th>\n",
              "      <td>ml;54.20;34.58;81.43;ml;59.60;41.94;60.72;ml;4...</td>\n",
              "    </tr>\n",
              "    <tr>\n",
              "      <th>mix_03_003.tif</th>\n",
              "      <td>wo;44.37;27.71;85.18;wo;30.04;28.46;58.76;wo;4...</td>\n",
              "    </tr>\n",
              "    <tr>\n",
              "      <th>mix_03_004.tif</th>\n",
              "      <td>pp;74.65;44.18;52.53;pp;30.69;25.53;54.51;pp;1...</td>\n",
              "    </tr>\n",
              "    <tr>\n",
              "      <th>...</th>\n",
              "      <td>...</td>\n",
              "    </tr>\n",
              "    <tr>\n",
              "      <th>mix_28_008.tif</th>\n",
              "      <td>ml;73.50;47.97;60.62;ml;30.65;24.54;75.91;ml;1...</td>\n",
              "    </tr>\n",
              "    <tr>\n",
              "      <th>mix_28_011.tif</th>\n",
              "      <td>cf;67.69;69.75;38.29;cf;46.78;25.38;42.34;ma;5...</td>\n",
              "    </tr>\n",
              "    <tr>\n",
              "      <th>mix_29_005.tif</th>\n",
              "      <td>bf;72.06;58.57;38.59;bf;48.71;29.59;47.57;bf;3...</td>\n",
              "    </tr>\n",
              "    <tr>\n",
              "      <th>mix_29_009.tif</th>\n",
              "      <td>ml;42.26;26.99;48.13;ml;58.60;25.86;42.10;ml;5...</td>\n",
              "    </tr>\n",
              "    <tr>\n",
              "      <th>mix_30_002.tif</th>\n",
              "      <td>cf;47.16;74.19;43.14;cf;49.94;20.82;78.99;cf;3...</td>\n",
              "    </tr>\n",
              "  </tbody>\n",
              "</table>\n",
              "<p>78 rows × 1 columns</p>\n",
              "</div>\n",
              "    <div class=\"colab-df-buttons\">\n",
              "\n",
              "  <div class=\"colab-df-container\">\n",
              "    <button class=\"colab-df-convert\" onclick=\"convertToInteractive('df-3d473bbf-fc08-41d3-9e0c-5afc2e465419')\"\n",
              "            title=\"Convert this dataframe to an interactive table.\"\n",
              "            style=\"display:none;\">\n",
              "\n",
              "  <svg xmlns=\"http://www.w3.org/2000/svg\" height=\"24px\" viewBox=\"0 -960 960 960\">\n",
              "    <path d=\"M120-120v-720h720v720H120Zm60-500h600v-160H180v160Zm220 220h160v-160H400v160Zm0 220h160v-160H400v160ZM180-400h160v-160H180v160Zm440 0h160v-160H620v160ZM180-180h160v-160H180v160Zm440 0h160v-160H620v160Z\"/>\n",
              "  </svg>\n",
              "    </button>\n",
              "\n",
              "  <style>\n",
              "    .colab-df-container {\n",
              "      display:flex;\n",
              "      gap: 12px;\n",
              "    }\n",
              "\n",
              "    .colab-df-convert {\n",
              "      background-color: #E8F0FE;\n",
              "      border: none;\n",
              "      border-radius: 50%;\n",
              "      cursor: pointer;\n",
              "      display: none;\n",
              "      fill: #1967D2;\n",
              "      height: 32px;\n",
              "      padding: 0 0 0 0;\n",
              "      width: 32px;\n",
              "    }\n",
              "\n",
              "    .colab-df-convert:hover {\n",
              "      background-color: #E2EBFA;\n",
              "      box-shadow: 0px 1px 2px rgba(60, 64, 67, 0.3), 0px 1px 3px 1px rgba(60, 64, 67, 0.15);\n",
              "      fill: #174EA6;\n",
              "    }\n",
              "\n",
              "    .colab-df-buttons div {\n",
              "      margin-bottom: 4px;\n",
              "    }\n",
              "\n",
              "    [theme=dark] .colab-df-convert {\n",
              "      background-color: #3B4455;\n",
              "      fill: #D2E3FC;\n",
              "    }\n",
              "\n",
              "    [theme=dark] .colab-df-convert:hover {\n",
              "      background-color: #434B5C;\n",
              "      box-shadow: 0px 1px 3px 1px rgba(0, 0, 0, 0.15);\n",
              "      filter: drop-shadow(0px 1px 2px rgba(0, 0, 0, 0.3));\n",
              "      fill: #FFFFFF;\n",
              "    }\n",
              "  </style>\n",
              "\n",
              "    <script>\n",
              "      const buttonEl =\n",
              "        document.querySelector('#df-3d473bbf-fc08-41d3-9e0c-5afc2e465419 button.colab-df-convert');\n",
              "      buttonEl.style.display =\n",
              "        google.colab.kernel.accessAllowed ? 'block' : 'none';\n",
              "\n",
              "      async function convertToInteractive(key) {\n",
              "        const element = document.querySelector('#df-3d473bbf-fc08-41d3-9e0c-5afc2e465419');\n",
              "        const dataTable =\n",
              "          await google.colab.kernel.invokeFunction('convertToInteractive',\n",
              "                                                    [key], {});\n",
              "        if (!dataTable) return;\n",
              "\n",
              "        const docLinkHtml = 'Like what you see? Visit the ' +\n",
              "          '<a target=\"_blank\" href=https://colab.research.google.com/notebooks/data_table.ipynb>data table notebook</a>'\n",
              "          + ' to learn more about interactive tables.';\n",
              "        element.innerHTML = '';\n",
              "        dataTable['output_type'] = 'display_data';\n",
              "        await google.colab.output.renderOutput(dataTable, element);\n",
              "        const docLink = document.createElement('div');\n",
              "        docLink.innerHTML = docLinkHtml;\n",
              "        element.appendChild(docLink);\n",
              "      }\n",
              "    </script>\n",
              "  </div>\n",
              "\n",
              "\n",
              "<div id=\"df-f8cc53e4-5ecc-4f90-8c6c-7a78c55762c6\">\n",
              "  <button class=\"colab-df-quickchart\" onclick=\"quickchart('df-f8cc53e4-5ecc-4f90-8c6c-7a78c55762c6')\"\n",
              "            title=\"Suggest charts\"\n",
              "            style=\"display:none;\">\n",
              "\n",
              "<svg xmlns=\"http://www.w3.org/2000/svg\" height=\"24px\"viewBox=\"0 0 24 24\"\n",
              "     width=\"24px\">\n",
              "    <g>\n",
              "        <path d=\"M19 3H5c-1.1 0-2 .9-2 2v14c0 1.1.9 2 2 2h14c1.1 0 2-.9 2-2V5c0-1.1-.9-2-2-2zM9 17H7v-7h2v7zm4 0h-2V7h2v10zm4 0h-2v-4h2v4z\"/>\n",
              "    </g>\n",
              "</svg>\n",
              "  </button>\n",
              "\n",
              "<style>\n",
              "  .colab-df-quickchart {\n",
              "      --bg-color: #E8F0FE;\n",
              "      --fill-color: #1967D2;\n",
              "      --hover-bg-color: #E2EBFA;\n",
              "      --hover-fill-color: #174EA6;\n",
              "      --disabled-fill-color: #AAA;\n",
              "      --disabled-bg-color: #DDD;\n",
              "  }\n",
              "\n",
              "  [theme=dark] .colab-df-quickchart {\n",
              "      --bg-color: #3B4455;\n",
              "      --fill-color: #D2E3FC;\n",
              "      --hover-bg-color: #434B5C;\n",
              "      --hover-fill-color: #FFFFFF;\n",
              "      --disabled-bg-color: #3B4455;\n",
              "      --disabled-fill-color: #666;\n",
              "  }\n",
              "\n",
              "  .colab-df-quickchart {\n",
              "    background-color: var(--bg-color);\n",
              "    border: none;\n",
              "    border-radius: 50%;\n",
              "    cursor: pointer;\n",
              "    display: none;\n",
              "    fill: var(--fill-color);\n",
              "    height: 32px;\n",
              "    padding: 0;\n",
              "    width: 32px;\n",
              "  }\n",
              "\n",
              "  .colab-df-quickchart:hover {\n",
              "    background-color: var(--hover-bg-color);\n",
              "    box-shadow: 0 1px 2px rgba(60, 64, 67, 0.3), 0 1px 3px 1px rgba(60, 64, 67, 0.15);\n",
              "    fill: var(--button-hover-fill-color);\n",
              "  }\n",
              "\n",
              "  .colab-df-quickchart-complete:disabled,\n",
              "  .colab-df-quickchart-complete:disabled:hover {\n",
              "    background-color: var(--disabled-bg-color);\n",
              "    fill: var(--disabled-fill-color);\n",
              "    box-shadow: none;\n",
              "  }\n",
              "\n",
              "  .colab-df-spinner {\n",
              "    border: 2px solid var(--fill-color);\n",
              "    border-color: transparent;\n",
              "    border-bottom-color: var(--fill-color);\n",
              "    animation:\n",
              "      spin 1s steps(1) infinite;\n",
              "  }\n",
              "\n",
              "  @keyframes spin {\n",
              "    0% {\n",
              "      border-color: transparent;\n",
              "      border-bottom-color: var(--fill-color);\n",
              "      border-left-color: var(--fill-color);\n",
              "    }\n",
              "    20% {\n",
              "      border-color: transparent;\n",
              "      border-left-color: var(--fill-color);\n",
              "      border-top-color: var(--fill-color);\n",
              "    }\n",
              "    30% {\n",
              "      border-color: transparent;\n",
              "      border-left-color: var(--fill-color);\n",
              "      border-top-color: var(--fill-color);\n",
              "      border-right-color: var(--fill-color);\n",
              "    }\n",
              "    40% {\n",
              "      border-color: transparent;\n",
              "      border-right-color: var(--fill-color);\n",
              "      border-top-color: var(--fill-color);\n",
              "    }\n",
              "    60% {\n",
              "      border-color: transparent;\n",
              "      border-right-color: var(--fill-color);\n",
              "    }\n",
              "    80% {\n",
              "      border-color: transparent;\n",
              "      border-right-color: var(--fill-color);\n",
              "      border-bottom-color: var(--fill-color);\n",
              "    }\n",
              "    90% {\n",
              "      border-color: transparent;\n",
              "      border-bottom-color: var(--fill-color);\n",
              "    }\n",
              "  }\n",
              "</style>\n",
              "\n",
              "  <script>\n",
              "    async function quickchart(key) {\n",
              "      const quickchartButtonEl =\n",
              "        document.querySelector('#' + key + ' button');\n",
              "      quickchartButtonEl.disabled = true;  // To prevent multiple clicks.\n",
              "      quickchartButtonEl.classList.add('colab-df-spinner');\n",
              "      try {\n",
              "        const charts = await google.colab.kernel.invokeFunction(\n",
              "            'suggestCharts', [key], {});\n",
              "      } catch (error) {\n",
              "        console.error('Error during call to suggestCharts:', error);\n",
              "      }\n",
              "      quickchartButtonEl.classList.remove('colab-df-spinner');\n",
              "      quickchartButtonEl.classList.add('colab-df-quickchart-complete');\n",
              "    }\n",
              "    (() => {\n",
              "      let quickchartButtonEl =\n",
              "        document.querySelector('#df-f8cc53e4-5ecc-4f90-8c6c-7a78c55762c6 button');\n",
              "      quickchartButtonEl.style.display =\n",
              "        google.colab.kernel.accessAllowed ? 'block' : 'none';\n",
              "    })();\n",
              "  </script>\n",
              "</div>\n",
              "    </div>\n",
              "  </div>\n"
            ],
            "application/vnd.google.colaboratory.intrinsic+json": {
              "type": "dataframe",
              "variable_name": "validation",
              "summary": "{\n  \"name\": \"validation\",\n  \"rows\": 78,\n  \"fields\": [\n    {\n      \"column\": \"filename\",\n      \"properties\": {\n        \"dtype\": \"string\",\n        \"num_unique_values\": 78,\n        \"samples\": [\n          \"mix_14_010.tif\",\n          \"mix_02_006.tif\",\n          \"mix_14_011.tif\"\n        ],\n        \"semantic_type\": \"\",\n        \"description\": \"\"\n      }\n    },\n    {\n      \"column\": \"centerpoints\",\n      \"properties\": {\n        \"dtype\": \"string\",\n        \"num_unique_values\": 78,\n        \"samples\": [\n          \"wo;43.66;26.65;50.01;wo;71.13;27.73;32.33;wo;22.03;36.63;34.97;wo;64.91;53.63;42.57;bc;35.66;63.76;64.49;bc;34.01;44.01;58.23;bc;37.30;68.75;22.12;bc;67.56;54.43;27.30;bc;59.82;72.80;31.66;pp;75.45;56.57;56.76;pp;72.07;28.93;56.41;pp;46.40;75.20;46.21;pp;20.97;63.60;32.11;pp;29.93;61.25;43.50;pp;27.83;43.02;44.63;pp;42.80;49.09;32.81\",\n          \"bl;48.61;39.14;96.19;bl;77.71;53.14;57.17;pp;58.71;73.71;59.15;pp;48.42;45.33;51.75;pp;19.84;62.44;40.23;pp;22.67;30.00;53.13;pp;29.98;42.06;60.16;bc;78.57;57.98;41.85;bc;30.56;19.43;65.24;bc;29.44;59.37;47.22\",\n          \"ma;48.20;18.51;73.91;ma;78.19;42.09;77.87;ma;54.11;37.12;71.85;ma;44.81;50.79;73.47;bp;50.62;70.36;80.90;cf;58.04;40.91;88.36;cf;70.38;55.95;65.05;cf;62.80;26.59;60.80;cf;27.25;66.37;86.56;cf;27.97;69.11;71.65;cf;15.21;49.04;87.22;cf;32.25;32.93;81.18\"\n        ],\n        \"semantic_type\": \"\",\n        \"description\": \"\"\n      }\n    }\n  ]\n}"
            }
          },
          "metadata": {},
          "execution_count": 86
        }
      ]
    },
    {
      "cell_type": "markdown",
      "source": [
        "Now, let's load the row corresponding to our current file"
      ],
      "metadata": {
        "id": "oaLG9zjc6Uq0"
      }
    },
    {
      "cell_type": "code",
      "source": [
        "from pathlib import Path\n",
        "\n",
        "fname = Path(fname)\n",
        "fname.name"
      ],
      "metadata": {
        "id": "UVMDQumD6Uq0",
        "outputId": "efe7114e-c5cc-46ea-a138-8dfec54fb4b5",
        "colab": {
          "base_uri": "https://localhost:8080/",
          "height": 36
        }
      },
      "execution_count": null,
      "outputs": [
        {
          "output_type": "execute_result",
          "data": {
            "text/plain": [
              "'mix_04_011.tif'"
            ],
            "application/vnd.google.colaboratory.intrinsic+json": {
              "type": "string"
            }
          },
          "metadata": {},
          "execution_count": 87
        }
      ]
    },
    {
      "cell_type": "markdown",
      "source": [
        "and unpack it to get the points"
      ],
      "metadata": {
        "id": "6UP3JP9S6Uq0"
      }
    },
    {
      "cell_type": "code",
      "source": [
        "val_string = validation.loc[fname.name][0]\n",
        "true_labels = val_string.split(';')[::4]\n",
        "true_centers = np.array([\n",
        "    [float(x) for x in val_string.split(';')[1::4]],\n",
        "    [float(x) for x in val_string.split(';')[2::4]],\n",
        "    [float(x) for x in val_string.split(';')[3::4]],\n",
        "]).T\n",
        "\n",
        "true_centers = true_centers[:, [2, 1, 0]]\n",
        "true_centers += np.array([[0, 18, 18]])\n",
        "\n",
        "print(true_labels)\n",
        "print(true_centers)"
      ],
      "metadata": {
        "id": "gK7ym7H66Uq0",
        "outputId": "1092b238-10c3-47e8-993f-81e41bcb2d9c",
        "colab": {
          "base_uri": "https://localhost:8080/"
        }
      },
      "execution_count": null,
      "outputs": [
        {
          "output_type": "stream",
          "name": "stdout",
          "text": [
            "['ma', 'ma', 'ma', 'ma', 'bc', 'bc', 'bc', 'bp', 'bp', 'bp', 'bp']\n",
            "[[47.46 92.64 69.21]\n",
            " [89.93 45.82 78.06]\n",
            " [90.93 38.7  60.41]\n",
            " [54.45 57.62 50.68]\n",
            " [33.55 69.49 49.01]\n",
            " [64.3  59.61 66.88]\n",
            " [80.02 63.32 35.17]\n",
            " [67.85 65.43 95.61]\n",
            " [90.9  70.13 80.96]\n",
            " [65.53 48.92 45.72]\n",
            " [37.26 49.14 66.43]]\n"
          ]
        }
      ]
    },
    {
      "cell_type": "markdown",
      "source": [
        "Let's now plot them. Importantly, we use the same plotting code as before, so we can be fairly confident that our predictions have the correct coordinates"
      ],
      "metadata": {
        "id": "DsdvfDo56Uq1"
      }
    },
    {
      "cell_type": "code",
      "source": [
        "a = 1\n",
        "\n",
        "#fig, ax = plt.subplots(figsize=(10, 10))\n",
        "fig, ax = plt.subplots()\n",
        "ax.imshow(image.max(axis=a), cmap='gray')\n",
        "for center, label in zip(true_centers, true_labels):\n",
        "    if a == 0:\n",
        "        center = (center[2] - 0.5, center[1] - 0.5)\n",
        "    elif a == 1:\n",
        "        center = (center[2] - 0.5, center[0] - 0.5)\n",
        "    else:\n",
        "        center = (center[1] - 0.5, center[0] - 0.5)\n",
        "    ax.plot(center[0], center[1], 'ro')\n",
        "    ax.text(center[0], center[1] - 1, label, color='r')"
      ],
      "metadata": {
        "id": "xsFFE6YV6Uq1",
        "outputId": "4e4a1af0-8257-4b5a-a476-65fbb3118158",
        "colab": {
          "base_uri": "https://localhost:8080/",
          "height": 434
        }
      },
      "execution_count": null,
      "outputs": [
        {
          "output_type": "display_data",
          "data": {
            "text/plain": [
              "<Figure size 640x480 with 1 Axes>"
            ],
            "image/png": "[encoded data removed]"
          },
          "metadata": {}
        }
      ]
    },
    {
      "cell_type": "markdown",
      "source": [
        "Looks good. Let's now make a helper function that takes a list of points and packs into the format needed for a competition solution:"
      ],
      "metadata": {
        "id": "JVGt2yee6Uq1"
      }
    },
    {
      "cell_type": "code",
      "source": [
        "def pack_prediction(centers, labels):\n",
        "    if centers.shape == (0,):\n",
        "      print(\"Found empty prediction..\")\n",
        "      return\n",
        "    centers = centers - np.array([[0, 18, 18]])\n",
        "    strings = []\n",
        "    for l, c in zip(labels, centers):\n",
        "        strings.append(f\"{l};{c[2]};{c[1]};{c[0]}\")\n",
        "    return \";\".join(strings)"
      ],
      "metadata": {
        "id": "GddaZg4t6Uq1"
      },
      "execution_count": null,
      "outputs": []
    },
    {
      "cell_type": "markdown",
      "source": [
        "Testing it out:"
      ],
      "metadata": {
        "id": "lDAQ_b6y6Uq1"
      }
    },
    {
      "cell_type": "code",
      "source": [
        "validation.loc[fname.name][0]"
      ],
      "metadata": {
        "id": "ZrVv5mZ-6Uq1",
        "outputId": "2be56430-6259-4e24-d36b-e9f4c44a4920",
        "colab": {
          "base_uri": "https://localhost:8080/",
          "height": 70
        }
      },
      "execution_count": null,
      "outputs": [
        {
          "output_type": "execute_result",
          "data": {
            "text/plain": [
              "'ma;51.21;74.64;47.46;ma;60.06;27.82;89.93;ma;42.41;20.70;90.93;ma;32.68;39.62;54.45;bc;31.01;51.49;33.55;bc;48.88;41.61;64.30;bc;17.17;45.32;80.02;bp;77.61;47.43;67.85;bp;62.96;52.13;90.90;bp;27.72;30.92;65.53;bp;48.43;31.14;37.26'"
            ],
            "application/vnd.google.colaboratory.intrinsic+json": {
              "type": "string"
            }
          },
          "metadata": {},
          "execution_count": 91
        }
      ]
    },
    {
      "cell_type": "code",
      "source": [
        "pack_prediction(true_centers, true_labels)"
      ],
      "metadata": {
        "id": "29gkkATD6Uq1",
        "outputId": "a7abcaa6-39f4-4699-8604-0a897dd7b813",
        "colab": {
          "base_uri": "https://localhost:8080/",
          "height": 88
        }
      },
      "execution_count": null,
      "outputs": [
        {
          "output_type": "execute_result",
          "data": {
            "text/plain": [
              "'ma;51.21000000000001;74.64;47.46;ma;60.06;27.82;89.93;ma;42.41;20.700000000000003;90.93;ma;32.68;39.62;54.45;bc;31.010000000000005;51.49000000000001;33.55;bc;48.879999999999995;41.61;64.3;bc;17.17;45.32;80.02;bp;77.61;47.43000000000001;67.85;bp;62.96000000000001;52.129999999999995;90.9;bp;27.72;30.92;65.53;bp;48.43000000000001;31.14;37.26'"
            ],
            "application/vnd.google.colaboratory.intrinsic+json": {
              "type": "string"
            }
          },
          "metadata": {},
          "execution_count": 92
        }
      ]
    },
    {
      "cell_type": "markdown",
      "source": [
        "Looks good. It packs the data back to the same format.\n",
        "\n",
        "Now, we need to convert our prediction labels to the string labels used in the competition:"
      ],
      "metadata": {
        "id": "dr7hBt3u6Uq1"
      }
    },
    {
      "cell_type": "code",
      "source": [
        "pred_text_labels = [class_names[l - 1].lower() for l in pred['labels']]\n",
        "pred_text_labels"
      ],
      "metadata": {
        "id": "x9McW17R6Uq2",
        "outputId": "31c5c927-9179-481b-f7f8-f2038650e235",
        "colab": {
          "base_uri": "https://localhost:8080/"
        }
      },
      "execution_count": null,
      "outputs": [
        {
          "output_type": "execute_result",
          "data": {
            "text/plain": [
              "['ma', 'sl', 'sl', 'sl']"
            ]
          },
          "metadata": {},
          "execution_count": 93
        }
      ]
    },
    {
      "cell_type": "markdown",
      "source": [
        "and we can now build a competition submission row for this image:"
      ],
      "metadata": {
        "id": "f00iZXp56Uq2"
      }
    },
    {
      "cell_type": "code",
      "source": [
        "pack_prediction(pred['centers'], pred_text_labels)"
      ],
      "metadata": {
        "id": "Ci8smtpv6Uq2",
        "outputId": "c2d25755-5508-4b23-8ddb-f5d36aadc8ed",
        "colab": {
          "base_uri": "https://localhost:8080/",
          "height": 70
        }
      },
      "execution_count": null,
      "outputs": [
        {
          "output_type": "execute_result",
          "data": {
            "text/plain": [
              "'ma;77.86397058823529;46.33823529411765;66.63235294117646;sl;34.60588235294118;45.92235294117647;35.05647058823529;sl;29.892877087881402;42.00893537086866;67.07376757881912;sl;46.41531065088758;26.80695266272189;86.68324704142012'"
            ],
            "application/vnd.google.colaboratory.intrinsic+json": {
              "type": "string"
            }
          },
          "metadata": {},
          "execution_count": 94
        }
      ]
    },
    {
      "cell_type": "markdown",
      "source": [
        "Let's now run a prediction run on all the validation volumes"
      ],
      "metadata": {
        "id": "MWnAIMxO6Uq2"
      }
    },
    {
      "cell_type": "code",
      "source": [
        "submission = {\n",
        "    'filenames': [],\n",
        "    'centerpoints': [],\n",
        "}\n",
        "\n",
        "for fname in tqdm(mixed_images):\n",
        "    image = imread(fname)\n",
        "    image = np.pad(image / 255.0, ((0, 0), (18, 18), (18, 18)))\n",
        "    pred = predict(torch.tensor(image[None, None]).float().cuda())\n",
        "    pred_text_labels = [class_names[l - 1].lower() for l in pred['labels']]\n",
        "    pred_text = pack_prediction(pred['centers'], pred_text_labels)\n",
        "    submission['filenames'].append(Path(fname).name)\n",
        "    submission['centerpoints'].append(pred_text)"
      ],
      "metadata": {
        "id": "q5QkPljB6Uq2",
        "outputId": "91cf08ed-2221-40fd-c08c-ddabdc31eb86",
        "colab": {
          "base_uri": "https://localhost:8080/"
        }
      },
      "execution_count": null,
      "outputs": [
        {
          "output_type": "stream",
          "name": "stderr",
          "text": [
            " 94%|█████████▎| 73/78 [00:39<00:02,  1.85it/s]"
          ]
        },
        {
          "output_type": "stream",
          "name": "stdout",
          "text": [
            "Found empty prediction..\n"
          ]
        },
        {
          "output_type": "stream",
          "name": "stderr",
          "text": [
            "100%|██████████| 78/78 [00:42<00:00,  1.83it/s]\n"
          ]
        }
      ]
    },
    {
      "cell_type": "code",
      "source": [
        "print(pred['centers'])\n",
        "print(pred_text_labels)"
      ],
      "metadata": {
        "id": "r5aJiGfvxDIH",
        "outputId": "f1dbc425-2e46-4141-bcf0-2eff8ee1789f",
        "colab": {
          "base_uri": "https://localhost:8080/"
        }
      },
      "execution_count": null,
      "outputs": [
        {
          "output_type": "stream",
          "name": "stdout",
          "text": [
            "[[81.85714286 66.90601504 39.13157895]\n",
            " [61.89457006 82.8052527  72.16262957]\n",
            " [68.6923775  60.41878403 50.68012704]\n",
            " [75.06622257 65.22296238 81.77076803]]\n",
            "['ma', 'sl', 'sl', 'sl']\n"
          ]
        }
      ]
    },
    {
      "cell_type": "markdown",
      "source": [
        "Our submission would then be:"
      ],
      "metadata": {
        "id": "KNvT_HQ16Uq2"
      }
    },
    {
      "cell_type": "code",
      "source": [
        "submission = pd.DataFrame(submission)\n",
        "submission"
      ],
      "metadata": {
        "id": "xxGwT4R86Uq2",
        "outputId": "ef8a18fe-2684-4190-85a7-6588254c11e2",
        "colab": {
          "base_uri": "https://localhost:8080/",
          "height": 423
        }
      },
      "execution_count": null,
      "outputs": [
        {
          "output_type": "execute_result",
          "data": {
            "text/plain": [
              "         filenames                                       centerpoints\n",
              "0   mix_02_006.tif  ma;57.76843657817109;72.02728613569322;58.4712...\n",
              "1   mix_02_011.tif  ma;73.75830258302582;30.035055350553506;83.880...\n",
              "2   mix_03_001.tif  ma;43.879616963064294;22.597811217510262;97.63...\n",
              "3   mix_03_003.tif  ma;72.52475247524752;54.961810466760966;75.903...\n",
              "4   mix_03_004.tif  sl;54.58399743845169;48.4664508325032;59.43628...\n",
              "..             ...                                                ...\n",
              "73  mix_28_008.tif  ma;75.29835390946502;57.42386831275721;38.7160...\n",
              "74  mix_28_011.tif  ma;48.984924623115575;78.86934673366834;44.819...\n",
              "75  mix_29_005.tif  ma;62.91929824561403;46.977192982456145;73.730...\n",
              "76  mix_29_009.tif  ma;58.641414141414145;77.18181818181819;91.388...\n",
              "77  mix_30_002.tif  ma;21.131578947368418;48.90601503759399;81.857...\n",
              "\n",
              "[78 rows x 2 columns]"
            ],
            "text/html": [
              "\n",
              "  <div id=\"df-ad77b53b-1c17-44b8-b045-562fdec2f877\" class=\"colab-df-container\">\n",
              "    <div>\n",
              "<style scoped>\n",
              "    .dataframe tbody tr th:only-of-type {\n",
              "        vertical-align: middle;\n",
              "    }\n",
              "\n",
              "    .dataframe tbody tr th {\n",
              "        vertical-align: top;\n",
              "    }\n",
              "\n",
              "    .dataframe thead th {\n",
              "        text-align: right;\n",
              "    }\n",
              "</style>\n",
              "<table border=\"1\" class=\"dataframe\">\n",
              "  <thead>\n",
              "    <tr style=\"text-align: right;\">\n",
              "      <th></th>\n",
              "      <th>filenames</th>\n",
              "      <th>centerpoints</th>\n",
              "    </tr>\n",
              "  </thead>\n",
              "  <tbody>\n",
              "    <tr>\n",
              "      <th>0</th>\n",
              "      <td>mix_02_006.tif</td>\n",
              "      <td>ma;57.76843657817109;72.02728613569322;58.4712...</td>\n",
              "    </tr>\n",
              "    <tr>\n",
              "      <th>1</th>\n",
              "      <td>mix_02_011.tif</td>\n",
              "      <td>ma;73.75830258302582;30.035055350553506;83.880...</td>\n",
              "    </tr>\n",
              "    <tr>\n",
              "      <th>2</th>\n",
              "      <td>mix_03_001.tif</td>\n",
              "      <td>ma;43.879616963064294;22.597811217510262;97.63...</td>\n",
              "    </tr>\n",
              "    <tr>\n",
              "      <th>3</th>\n",
              "      <td>mix_03_003.tif</td>\n",
              "      <td>ma;72.52475247524752;54.961810466760966;75.903...</td>\n",
              "    </tr>\n",
              "    <tr>\n",
              "      <th>4</th>\n",
              "      <td>mix_03_004.tif</td>\n",
              "      <td>sl;54.58399743845169;48.4664508325032;59.43628...</td>\n",
              "    </tr>\n",
              "    <tr>\n",
              "      <th>...</th>\n",
              "      <td>...</td>\n",
              "      <td>...</td>\n",
              "    </tr>\n",
              "    <tr>\n",
              "      <th>73</th>\n",
              "      <td>mix_28_008.tif</td>\n",
              "      <td>ma;75.29835390946502;57.42386831275721;38.7160...</td>\n",
              "    </tr>\n",
              "    <tr>\n",
              "      <th>74</th>\n",
              "      <td>mix_28_011.tif</td>\n",
              "      <td>ma;48.984924623115575;78.86934673366834;44.819...</td>\n",
              "    </tr>\n",
              "    <tr>\n",
              "      <th>75</th>\n",
              "      <td>mix_29_005.tif</td>\n",
              "      <td>ma;62.91929824561403;46.977192982456145;73.730...</td>\n",
              "    </tr>\n",
              "    <tr>\n",
              "      <th>76</th>\n",
              "      <td>mix_29_009.tif</td>\n",
              "      <td>ma;58.641414141414145;77.18181818181819;91.388...</td>\n",
              "    </tr>\n",
              "    <tr>\n",
              "      <th>77</th>\n",
              "      <td>mix_30_002.tif</td>\n",
              "      <td>ma;21.131578947368418;48.90601503759399;81.857...</td>\n",
              "    </tr>\n",
              "  </tbody>\n",
              "</table>\n",
              "<p>78 rows × 2 columns</p>\n",
              "</div>\n",
              "    <div class=\"colab-df-buttons\">\n",
              "\n",
              "  <div class=\"colab-df-container\">\n",
              "    <button class=\"colab-df-convert\" onclick=\"convertToInteractive('df-ad77b53b-1c17-44b8-b045-562fdec2f877')\"\n",
              "            title=\"Convert this dataframe to an interactive table.\"\n",
              "            style=\"display:none;\">\n",
              "\n",
              "  <svg xmlns=\"http://www.w3.org/2000/svg\" height=\"24px\" viewBox=\"0 -960 960 960\">\n",
              "    <path d=\"M120-120v-720h720v720H120Zm60-500h600v-160H180v160Zm220 220h160v-160H400v160Zm0 220h160v-160H400v160ZM180-400h160v-160H180v160Zm440 0h160v-160H620v160ZM180-180h160v-160H180v160Zm440 0h160v-160H620v160Z\"/>\n",
              "  </svg>\n",
              "    </button>\n",
              "\n",
              "  <style>\n",
              "    .colab-df-container {\n",
              "      display:flex;\n",
              "      gap: 12px;\n",
              "    }\n",
              "\n",
              "    .colab-df-convert {\n",
              "      background-color: #E8F0FE;\n",
              "      border: none;\n",
              "      border-radius: 50%;\n",
              "      cursor: pointer;\n",
              "      display: none;\n",
              "      fill: #1967D2;\n",
              "      height: 32px;\n",
              "      padding: 0 0 0 0;\n",
              "      width: 32px;\n",
              "    }\n",
              "\n",
              "    .colab-df-convert:hover {\n",
              "      background-color: #E2EBFA;\n",
              "      box-shadow: 0px 1px 2px rgba(60, 64, 67, 0.3), 0px 1px 3px 1px rgba(60, 64, 67, 0.15);\n",
              "      fill: #174EA6;\n",
              "    }\n",
              "\n",
              "    .colab-df-buttons div {\n",
              "      margin-bottom: 4px;\n",
              "    }\n",
              "\n",
              "    [theme=dark] .colab-df-convert {\n",
              "      background-color: #3B4455;\n",
              "      fill: #D2E3FC;\n",
              "    }\n",
              "\n",
              "    [theme=dark] .colab-df-convert:hover {\n",
              "      background-color: #434B5C;\n",
              "      box-shadow: 0px 1px 3px 1px rgba(0, 0, 0, 0.15);\n",
              "      filter: drop-shadow(0px 1px 2px rgba(0, 0, 0, 0.3));\n",
              "      fill: #FFFFFF;\n",
              "    }\n",
              "  </style>\n",
              "\n",
              "    <script>\n",
              "      const buttonEl =\n",
              "        document.querySelector('#df-ad77b53b-1c17-44b8-b045-562fdec2f877 button.colab-df-convert');\n",
              "      buttonEl.style.display =\n",
              "        google.colab.kernel.accessAllowed ? 'block' : 'none';\n",
              "\n",
              "      async function convertToInteractive(key) {\n",
              "        const element = document.querySelector('#df-ad77b53b-1c17-44b8-b045-562fdec2f877');\n",
              "        const dataTable =\n",
              "          await google.colab.kernel.invokeFunction('convertToInteractive',\n",
              "                                                    [key], {});\n",
              "        if (!dataTable) return;\n",
              "\n",
              "        const docLinkHtml = 'Like what you see? Visit the ' +\n",
              "          '<a target=\"_blank\" href=https://colab.research.google.com/notebooks/data_table.ipynb>data table notebook</a>'\n",
              "          + ' to learn more about interactive tables.';\n",
              "        element.innerHTML = '';\n",
              "        dataTable['output_type'] = 'display_data';\n",
              "        await google.colab.output.renderOutput(dataTable, element);\n",
              "        const docLink = document.createElement('div');\n",
              "        docLink.innerHTML = docLinkHtml;\n",
              "        element.appendChild(docLink);\n",
              "      }\n",
              "    </script>\n",
              "  </div>\n",
              "\n",
              "\n",
              "<div id=\"df-d8650b9a-7d52-4d10-a725-9dc2c829cb85\">\n",
              "  <button class=\"colab-df-quickchart\" onclick=\"quickchart('df-d8650b9a-7d52-4d10-a725-9dc2c829cb85')\"\n",
              "            title=\"Suggest charts\"\n",
              "            style=\"display:none;\">\n",
              "\n",
              "<svg xmlns=\"http://www.w3.org/2000/svg\" height=\"24px\"viewBox=\"0 0 24 24\"\n",
              "     width=\"24px\">\n",
              "    <g>\n",
              "        <path d=\"M19 3H5c-1.1 0-2 .9-2 2v14c0 1.1.9 2 2 2h14c1.1 0 2-.9 2-2V5c0-1.1-.9-2-2-2zM9 17H7v-7h2v7zm4 0h-2V7h2v10zm4 0h-2v-4h2v4z\"/>\n",
              "    </g>\n",
              "</svg>\n",
              "  </button>\n",
              "\n",
              "<style>\n",
              "  .colab-df-quickchart {\n",
              "      --bg-color: #E8F0FE;\n",
              "      --fill-color: #1967D2;\n",
              "      --hover-bg-color: #E2EBFA;\n",
              "      --hover-fill-color: #174EA6;\n",
              "      --disabled-fill-color: #AAA;\n",
              "      --disabled-bg-color: #DDD;\n",
              "  }\n",
              "\n",
              "  [theme=dark] .colab-df-quickchart {\n",
              "      --bg-color: #3B4455;\n",
              "      --fill-color: #D2E3FC;\n",
              "      --hover-bg-color: #434B5C;\n",
              "      --hover-fill-color: #FFFFFF;\n",
              "      --disabled-bg-color: #3B4455;\n",
              "      --disabled-fill-color: #666;\n",
              "  }\n",
              "\n",
              "  .colab-df-quickchart {\n",
              "    background-color: var(--bg-color);\n",
              "    border: none;\n",
              "    border-radius: 50%;\n",
              "    cursor: pointer;\n",
              "    display: none;\n",
              "    fill: var(--fill-color);\n",
              "    height: 32px;\n",
              "    padding: 0;\n",
              "    width: 32px;\n",
              "  }\n",
              "\n",
              "  .colab-df-quickchart:hover {\n",
              "    background-color: var(--hover-bg-color);\n",
              "    box-shadow: 0 1px 2px rgba(60, 64, 67, 0.3), 0 1px 3px 1px rgba(60, 64, 67, 0.15);\n",
              "    fill: var(--button-hover-fill-color);\n",
              "  }\n",
              "\n",
              "  .colab-df-quickchart-complete:disabled,\n",
              "  .colab-df-quickchart-complete:disabled:hover {\n",
              "    background-color: var(--disabled-bg-color);\n",
              "    fill: var(--disabled-fill-color);\n",
              "    box-shadow: none;\n",
              "  }\n",
              "\n",
              "  .colab-df-spinner {\n",
              "    border: 2px solid var(--fill-color);\n",
              "    border-color: transparent;\n",
              "    border-bottom-color: var(--fill-color);\n",
              "    animation:\n",
              "      spin 1s steps(1) infinite;\n",
              "  }\n",
              "\n",
              "  @keyframes spin {\n",
              "    0% {\n",
              "      border-color: transparent;\n",
              "      border-bottom-color: var(--fill-color);\n",
              "      border-left-color: var(--fill-color);\n",
              "    }\n",
              "    20% {\n",
              "      border-color: transparent;\n",
              "      border-left-color: var(--fill-color);\n",
              "      border-top-color: var(--fill-color);\n",
              "    }\n",
              "    30% {\n",
              "      border-color: transparent;\n",
              "      border-left-color: var(--fill-color);\n",
              "      border-top-color: var(--fill-color);\n",
              "      border-right-color: var(--fill-color);\n",
              "    }\n",
              "    40% {\n",
              "      border-color: transparent;\n",
              "      border-right-color: var(--fill-color);\n",
              "      border-top-color: var(--fill-color);\n",
              "    }\n",
              "    60% {\n",
              "      border-color: transparent;\n",
              "      border-right-color: var(--fill-color);\n",
              "    }\n",
              "    80% {\n",
              "      border-color: transparent;\n",
              "      border-right-color: var(--fill-color);\n",
              "      border-bottom-color: var(--fill-color);\n",
              "    }\n",
              "    90% {\n",
              "      border-color: transparent;\n",
              "      border-bottom-color: var(--fill-color);\n",
              "    }\n",
              "  }\n",
              "</style>\n",
              "\n",
              "  <script>\n",
              "    async function quickchart(key) {\n",
              "      const quickchartButtonEl =\n",
              "        document.querySelector('#' + key + ' button');\n",
              "      quickchartButtonEl.disabled = true;  // To prevent multiple clicks.\n",
              "      quickchartButtonEl.classList.add('colab-df-spinner');\n",
              "      try {\n",
              "        const charts = await google.colab.kernel.invokeFunction(\n",
              "            'suggestCharts', [key], {});\n",
              "      } catch (error) {\n",
              "        console.error('Error during call to suggestCharts:', error);\n",
              "      }\n",
              "      quickchartButtonEl.classList.remove('colab-df-spinner');\n",
              "      quickchartButtonEl.classList.add('colab-df-quickchart-complete');\n",
              "    }\n",
              "    (() => {\n",
              "      let quickchartButtonEl =\n",
              "        document.querySelector('#df-d8650b9a-7d52-4d10-a725-9dc2c829cb85 button');\n",
              "      quickchartButtonEl.style.display =\n",
              "        google.colab.kernel.accessAllowed ? 'block' : 'none';\n",
              "    })();\n",
              "  </script>\n",
              "</div>\n",
              "    </div>\n",
              "  </div>\n"
            ],
            "application/vnd.google.colaboratory.intrinsic+json": {
              "type": "dataframe",
              "variable_name": "submission",
              "summary": "{\n  \"name\": \"submission\",\n  \"rows\": 78,\n  \"fields\": [\n    {\n      \"column\": \"filenames\",\n      \"properties\": {\n        \"dtype\": \"string\",\n        \"num_unique_values\": 78,\n        \"samples\": [\n          \"mix_14_010.tif\",\n          \"mix_02_006.tif\",\n          \"mix_14_011.tif\"\n        ],\n        \"semantic_type\": \"\",\n        \"description\": \"\"\n      }\n    },\n    {\n      \"column\": \"centerpoints\",\n      \"properties\": {\n        \"dtype\": \"string\",\n        \"num_unique_values\": 77,\n        \"samples\": [\n          \"sl;54.58399743845169;48.4664508325032;59.436281485698025;sl;27.72967614011897;27.70125578321216;54.80898876404494;sl;24.248598879103284;46.58206565252202;53.72497998398719\",\n          \"sl;61.20778165623496;47.073242657679344;64.92726889744824\",\n          \"ma;77.86397058823529;46.33823529411765;66.63235294117646;sl;34.60588235294118;45.92235294117647;35.05647058823529;sl;29.892877087881402;42.00893537086866;67.07376757881912;sl;46.41531065088758;26.80695266272189;86.68324704142012\"\n        ],\n        \"semantic_type\": \"\",\n        \"description\": \"\"\n      }\n    }\n  ]\n}"
            }
          },
          "metadata": {},
          "execution_count": 103
        }
      ]
    },
    {
      "cell_type": "markdown",
      "source": [
        "Which matches the format from the supplied csv file:"
      ],
      "metadata": {
        "id": "hCTswChQ6Uq2"
      }
    },
    {
      "cell_type": "code",
      "source": [
        "validation"
      ],
      "metadata": {
        "id": "6G1eIARt6Uq3",
        "outputId": "99440500-39ff-4473-b851-31843a80e237",
        "colab": {
          "base_uri": "https://localhost:8080/",
          "height": 455
        }
      },
      "execution_count": null,
      "outputs": [
        {
          "output_type": "execute_result",
          "data": {
            "text/plain": [
              "                                                     centerpoints\n",
              "filename                                                         \n",
              "mix_02_006.tif  bl;48.61;39.14;96.19;bl;77.71;53.14;57.17;pp;5...\n",
              "mix_02_011.tif  ml;77.86;46.26;57.79;sl;41.14;61.93;32.37;sl;5...\n",
              "mix_03_001.tif  ml;54.20;34.58;81.43;ml;59.60;41.94;60.72;ml;4...\n",
              "mix_03_003.tif  wo;44.37;27.71;85.18;wo;30.04;28.46;58.76;wo;4...\n",
              "mix_03_004.tif  pp;74.65;44.18;52.53;pp;30.69;25.53;54.51;pp;1...\n",
              "...                                                           ...\n",
              "mix_28_008.tif  ml;73.50;47.97;60.62;ml;30.65;24.54;75.91;ml;1...\n",
              "mix_28_011.tif  cf;67.69;69.75;38.29;cf;46.78;25.38;42.34;ma;5...\n",
              "mix_29_005.tif  bf;72.06;58.57;38.59;bf;48.71;29.59;47.57;bf;3...\n",
              "mix_29_009.tif  ml;42.26;26.99;48.13;ml;58.60;25.86;42.10;ml;5...\n",
              "mix_30_002.tif  cf;47.16;74.19;43.14;cf;49.94;20.82;78.99;cf;3...\n",
              "\n",
              "[78 rows x 1 columns]"
            ],
            "text/html": [
              "\n",
              "  <div id=\"df-5ed0cdc8-3fc6-40a3-878a-8ad8535377b4\" class=\"colab-df-container\">\n",
              "    <div>\n",
              "<style scoped>\n",
              "    .dataframe tbody tr th:only-of-type {\n",
              "        vertical-align: middle;\n",
              "    }\n",
              "\n",
              "    .dataframe tbody tr th {\n",
              "        vertical-align: top;\n",
              "    }\n",
              "\n",
              "    .dataframe thead th {\n",
              "        text-align: right;\n",
              "    }\n",
              "</style>\n",
              "<table border=\"1\" class=\"dataframe\">\n",
              "  <thead>\n",
              "    <tr style=\"text-align: right;\">\n",
              "      <th></th>\n",
              "      <th>centerpoints</th>\n",
              "    </tr>\n",
              "    <tr>\n",
              "      <th>filename</th>\n",
              "      <th></th>\n",
              "    </tr>\n",
              "  </thead>\n",
              "  <tbody>\n",
              "    <tr>\n",
              "      <th>mix_02_006.tif</th>\n",
              "      <td>bl;48.61;39.14;96.19;bl;77.71;53.14;57.17;pp;5...</td>\n",
              "    </tr>\n",
              "    <tr>\n",
              "      <th>mix_02_011.tif</th>\n",
              "      <td>ml;77.86;46.26;57.79;sl;41.14;61.93;32.37;sl;5...</td>\n",
              "    </tr>\n",
              "    <tr>\n",
              "      <th>mix_03_001.tif</th>\n",
              "      <td>ml;54.20;34.58;81.43;ml;59.60;41.94;60.72;ml;4...</td>\n",
              "    </tr>\n",
              "    <tr>\n",
              "      <th>mix_03_003.tif</th>\n",
              "      <td>wo;44.37;27.71;85.18;wo;30.04;28.46;58.76;wo;4...</td>\n",
              "    </tr>\n",
              "    <tr>\n",
              "      <th>mix_03_004.tif</th>\n",
              "      <td>pp;74.65;44.18;52.53;pp;30.69;25.53;54.51;pp;1...</td>\n",
              "    </tr>\n",
              "    <tr>\n",
              "      <th>...</th>\n",
              "      <td>...</td>\n",
              "    </tr>\n",
              "    <tr>\n",
              "      <th>mix_28_008.tif</th>\n",
              "      <td>ml;73.50;47.97;60.62;ml;30.65;24.54;75.91;ml;1...</td>\n",
              "    </tr>\n",
              "    <tr>\n",
              "      <th>mix_28_011.tif</th>\n",
              "      <td>cf;67.69;69.75;38.29;cf;46.78;25.38;42.34;ma;5...</td>\n",
              "    </tr>\n",
              "    <tr>\n",
              "      <th>mix_29_005.tif</th>\n",
              "      <td>bf;72.06;58.57;38.59;bf;48.71;29.59;47.57;bf;3...</td>\n",
              "    </tr>\n",
              "    <tr>\n",
              "      <th>mix_29_009.tif</th>\n",
              "      <td>ml;42.26;26.99;48.13;ml;58.60;25.86;42.10;ml;5...</td>\n",
              "    </tr>\n",
              "    <tr>\n",
              "      <th>mix_30_002.tif</th>\n",
              "      <td>cf;47.16;74.19;43.14;cf;49.94;20.82;78.99;cf;3...</td>\n",
              "    </tr>\n",
              "  </tbody>\n",
              "</table>\n",
              "<p>78 rows × 1 columns</p>\n",
              "</div>\n",
              "    <div class=\"colab-df-buttons\">\n",
              "\n",
              "  <div class=\"colab-df-container\">\n",
              "    <button class=\"colab-df-convert\" onclick=\"convertToInteractive('df-5ed0cdc8-3fc6-40a3-878a-8ad8535377b4')\"\n",
              "            title=\"Convert this dataframe to an interactive table.\"\n",
              "            style=\"display:none;\">\n",
              "\n",
              "  <svg xmlns=\"http://www.w3.org/2000/svg\" height=\"24px\" viewBox=\"0 -960 960 960\">\n",
              "    <path d=\"M120-120v-720h720v720H120Zm60-500h600v-160H180v160Zm220 220h160v-160H400v160Zm0 220h160v-160H400v160ZM180-400h160v-160H180v160Zm440 0h160v-160H620v160ZM180-180h160v-160H180v160Zm440 0h160v-160H620v160Z\"/>\n",
              "  </svg>\n",
              "    </button>\n",
              "\n",
              "  <style>\n",
              "    .colab-df-container {\n",
              "      display:flex;\n",
              "      gap: 12px;\n",
              "    }\n",
              "\n",
              "    .colab-df-convert {\n",
              "      background-color: #E8F0FE;\n",
              "      border: none;\n",
              "      border-radius: 50%;\n",
              "      cursor: pointer;\n",
              "      display: none;\n",
              "      fill: #1967D2;\n",
              "      height: 32px;\n",
              "      padding: 0 0 0 0;\n",
              "      width: 32px;\n",
              "    }\n",
              "\n",
              "    .colab-df-convert:hover {\n",
              "      background-color: #E2EBFA;\n",
              "      box-shadow: 0px 1px 2px rgba(60, 64, 67, 0.3), 0px 1px 3px 1px rgba(60, 64, 67, 0.15);\n",
              "      fill: #174EA6;\n",
              "    }\n",
              "\n",
              "    .colab-df-buttons div {\n",
              "      margin-bottom: 4px;\n",
              "    }\n",
              "\n",
              "    [theme=dark] .colab-df-convert {\n",
              "      background-color: #3B4455;\n",
              "      fill: #D2E3FC;\n",
              "    }\n",
              "\n",
              "    [theme=dark] .colab-df-convert:hover {\n",
              "      background-color: #434B5C;\n",
              "      box-shadow: 0px 1px 3px 1px rgba(0, 0, 0, 0.15);\n",
              "      filter: drop-shadow(0px 1px 2px rgba(0, 0, 0, 0.3));\n",
              "      fill: #FFFFFF;\n",
              "    }\n",
              "  </style>\n",
              "\n",
              "    <script>\n",
              "      const buttonEl =\n",
              "        document.querySelector('#df-5ed0cdc8-3fc6-40a3-878a-8ad8535377b4 button.colab-df-convert');\n",
              "      buttonEl.style.display =\n",
              "        google.colab.kernel.accessAllowed ? 'block' : 'none';\n",
              "\n",
              "      async function convertToInteractive(key) {\n",
              "        const element = document.querySelector('#df-5ed0cdc8-3fc6-40a3-878a-8ad8535377b4');\n",
              "        const dataTable =\n",
              "          await google.colab.kernel.invokeFunction('convertToInteractive',\n",
              "                                                    [key], {});\n",
              "        if (!dataTable) return;\n",
              "\n",
              "        const docLinkHtml = 'Like what you see? Visit the ' +\n",
              "          '<a target=\"_blank\" href=https://colab.research.google.com/notebooks/data_table.ipynb>data table notebook</a>'\n",
              "          + ' to learn more about interactive tables.';\n",
              "        element.innerHTML = '';\n",
              "        dataTable['output_type'] = 'display_data';\n",
              "        await google.colab.output.renderOutput(dataTable, element);\n",
              "        const docLink = document.createElement('div');\n",
              "        docLink.innerHTML = docLinkHtml;\n",
              "        element.appendChild(docLink);\n",
              "      }\n",
              "    </script>\n",
              "  </div>\n",
              "\n",
              "\n",
              "<div id=\"df-31d3925e-4bbc-4df5-846b-16a5cdc352ae\">\n",
              "  <button class=\"colab-df-quickchart\" onclick=\"quickchart('df-31d3925e-4bbc-4df5-846b-16a5cdc352ae')\"\n",
              "            title=\"Suggest charts\"\n",
              "            style=\"display:none;\">\n",
              "\n",
              "<svg xmlns=\"http://www.w3.org/2000/svg\" height=\"24px\"viewBox=\"0 0 24 24\"\n",
              "     width=\"24px\">\n",
              "    <g>\n",
              "        <path d=\"M19 3H5c-1.1 0-2 .9-2 2v14c0 1.1.9 2 2 2h14c1.1 0 2-.9 2-2V5c0-1.1-.9-2-2-2zM9 17H7v-7h2v7zm4 0h-2V7h2v10zm4 0h-2v-4h2v4z\"/>\n",
              "    </g>\n",
              "</svg>\n",
              "  </button>\n",
              "\n",
              "<style>\n",
              "  .colab-df-quickchart {\n",
              "      --bg-color: #E8F0FE;\n",
              "      --fill-color: #1967D2;\n",
              "      --hover-bg-color: #E2EBFA;\n",
              "      --hover-fill-color: #174EA6;\n",
              "      --disabled-fill-color: #AAA;\n",
              "      --disabled-bg-color: #DDD;\n",
              "  }\n",
              "\n",
              "  [theme=dark] .colab-df-quickchart {\n",
              "      --bg-color: #3B4455;\n",
              "      --fill-color: #D2E3FC;\n",
              "      --hover-bg-color: #434B5C;\n",
              "      --hover-fill-color: #FFFFFF;\n",
              "      --disabled-bg-color: #3B4455;\n",
              "      --disabled-fill-color: #666;\n",
              "  }\n",
              "\n",
              "  .colab-df-quickchart {\n",
              "    background-color: var(--bg-color);\n",
              "    border: none;\n",
              "    border-radius: 50%;\n",
              "    cursor: pointer;\n",
              "    display: none;\n",
              "    fill: var(--fill-color);\n",
              "    height: 32px;\n",
              "    padding: 0;\n",
              "    width: 32px;\n",
              "  }\n",
              "\n",
              "  .colab-df-quickchart:hover {\n",
              "    background-color: var(--hover-bg-color);\n",
              "    box-shadow: 0 1px 2px rgba(60, 64, 67, 0.3), 0 1px 3px 1px rgba(60, 64, 67, 0.15);\n",
              "    fill: var(--button-hover-fill-color);\n",
              "  }\n",
              "\n",
              "  .colab-df-quickchart-complete:disabled,\n",
              "  .colab-df-quickchart-complete:disabled:hover {\n",
              "    background-color: var(--disabled-bg-color);\n",
              "    fill: var(--disabled-fill-color);\n",
              "    box-shadow: none;\n",
              "  }\n",
              "\n",
              "  .colab-df-spinner {\n",
              "    border: 2px solid var(--fill-color);\n",
              "    border-color: transparent;\n",
              "    border-bottom-color: var(--fill-color);\n",
              "    animation:\n",
              "      spin 1s steps(1) infinite;\n",
              "  }\n",
              "\n",
              "  @keyframes spin {\n",
              "    0% {\n",
              "      border-color: transparent;\n",
              "      border-bottom-color: var(--fill-color);\n",
              "      border-left-color: var(--fill-color);\n",
              "    }\n",
              "    20% {\n",
              "      border-color: transparent;\n",
              "      border-left-color: var(--fill-color);\n",
              "      border-top-color: var(--fill-color);\n",
              "    }\n",
              "    30% {\n",
              "      border-color: transparent;\n",
              "      border-left-color: var(--fill-color);\n",
              "      border-top-color: var(--fill-color);\n",
              "      border-right-color: var(--fill-color);\n",
              "    }\n",
              "    40% {\n",
              "      border-color: transparent;\n",
              "      border-right-color: var(--fill-color);\n",
              "      border-top-color: var(--fill-color);\n",
              "    }\n",
              "    60% {\n",
              "      border-color: transparent;\n",
              "      border-right-color: var(--fill-color);\n",
              "    }\n",
              "    80% {\n",
              "      border-color: transparent;\n",
              "      border-right-color: var(--fill-color);\n",
              "      border-bottom-color: var(--fill-color);\n",
              "    }\n",
              "    90% {\n",
              "      border-color: transparent;\n",
              "      border-bottom-color: var(--fill-color);\n",
              "    }\n",
              "  }\n",
              "</style>\n",
              "\n",
              "  <script>\n",
              "    async function quickchart(key) {\n",
              "      const quickchartButtonEl =\n",
              "        document.querySelector('#' + key + ' button');\n",
              "      quickchartButtonEl.disabled = true;  // To prevent multiple clicks.\n",
              "      quickchartButtonEl.classList.add('colab-df-spinner');\n",
              "      try {\n",
              "        const charts = await google.colab.kernel.invokeFunction(\n",
              "            'suggestCharts', [key], {});\n",
              "      } catch (error) {\n",
              "        console.error('Error during call to suggestCharts:', error);\n",
              "      }\n",
              "      quickchartButtonEl.classList.remove('colab-df-spinner');\n",
              "      quickchartButtonEl.classList.add('colab-df-quickchart-complete');\n",
              "    }\n",
              "    (() => {\n",
              "      let quickchartButtonEl =\n",
              "        document.querySelector('#df-31d3925e-4bbc-4df5-846b-16a5cdc352ae button');\n",
              "      quickchartButtonEl.style.display =\n",
              "        google.colab.kernel.accessAllowed ? 'block' : 'none';\n",
              "    })();\n",
              "  </script>\n",
              "</div>\n",
              "    </div>\n",
              "  </div>\n"
            ],
            "application/vnd.google.colaboratory.intrinsic+json": {
              "type": "dataframe",
              "variable_name": "validation",
              "summary": "{\n  \"name\": \"validation\",\n  \"rows\": 78,\n  \"fields\": [\n    {\n      \"column\": \"filename\",\n      \"properties\": {\n        \"dtype\": \"string\",\n        \"num_unique_values\": 78,\n        \"samples\": [\n          \"mix_14_010.tif\",\n          \"mix_02_006.tif\",\n          \"mix_14_011.tif\"\n        ],\n        \"semantic_type\": \"\",\n        \"description\": \"\"\n      }\n    },\n    {\n      \"column\": \"centerpoints\",\n      \"properties\": {\n        \"dtype\": \"string\",\n        \"num_unique_values\": 78,\n        \"samples\": [\n          \"wo;43.66;26.65;50.01;wo;71.13;27.73;32.33;wo;22.03;36.63;34.97;wo;64.91;53.63;42.57;bc;35.66;63.76;64.49;bc;34.01;44.01;58.23;bc;37.30;68.75;22.12;bc;67.56;54.43;27.30;bc;59.82;72.80;31.66;pp;75.45;56.57;56.76;pp;72.07;28.93;56.41;pp;46.40;75.20;46.21;pp;20.97;63.60;32.11;pp;29.93;61.25;43.50;pp;27.83;43.02;44.63;pp;42.80;49.09;32.81\",\n          \"bl;48.61;39.14;96.19;bl;77.71;53.14;57.17;pp;58.71;73.71;59.15;pp;48.42;45.33;51.75;pp;19.84;62.44;40.23;pp;22.67;30.00;53.13;pp;29.98;42.06;60.16;bc;78.57;57.98;41.85;bc;30.56;19.43;65.24;bc;29.44;59.37;47.22\",\n          \"ma;48.20;18.51;73.91;ma;78.19;42.09;77.87;ma;54.11;37.12;71.85;ma;44.81;50.79;73.47;bp;50.62;70.36;80.90;cf;58.04;40.91;88.36;cf;70.38;55.95;65.05;cf;62.80;26.59;60.80;cf;27.25;66.37;86.56;cf;27.97;69.11;71.65;cf;15.21;49.04;87.22;cf;32.25;32.93;81.18\"\n        ],\n        \"semantic_type\": \"\",\n        \"description\": \"\"\n      }\n    }\n  ]\n}"
            }
          },
          "metadata": {},
          "execution_count": 104
        }
      ]
    },
    {
      "cell_type": "markdown",
      "source": [
        "# Predictions on public test volumes\n",
        "\n",
        "Finally, we can run a prediction run for the actual test volumes to build an actual submission:"
      ],
      "metadata": {
        "id": "xKRISMvs6Uq3"
      }
    },
    {
      "cell_type": "code",
      "source": [
        "test_dir = '/content/BugNIST_DATA/test/'"
      ],
      "metadata": {
        "id": "BUSUbIjTNUz6"
      },
      "execution_count": null,
      "outputs": []
    },
    {
      "cell_type": "code",
      "source": [
        "mixed_images = sorted(glob.glob(test_dir + '*.tif'))"
      ],
      "metadata": {
        "id": "uXyUBUE46Uq3"
      },
      "execution_count": null,
      "outputs": []
    },
    {
      "cell_type": "code",
      "source": [
        "submission = {\n",
        "    'filename': [],\n",
        "    'centerpoints': [],\n",
        "}\n",
        "for fname in tqdm(mixed_images):\n",
        "    image = imread(fname)\n",
        "    image = np.pad(image / 255.0, ((0, 0), (18, 18), (18, 18)))\n",
        "    pred = predict(torch.tensor(image[None, None]).float().cuda())\n",
        "    pred_text_labels = [class_names[l - 1].lower() for l in pred['labels']]\n",
        "    pred_text = pack_prediction(pred['centers'], pred_text_labels)\n",
        "    submission['filename'].append(Path(fname).name)\n",
        "    submission['centerpoints'].append(pred_text)"
      ],
      "metadata": {
        "id": "4YLhXzLD6Uq3",
        "outputId": "9a0232d4-4dc1-4157-b46d-ad82444a3ac9",
        "colab": {
          "base_uri": "https://localhost:8080/"
        }
      },
      "execution_count": null,
      "outputs": [
        {
          "output_type": "stream",
          "name": "stderr",
          "text": [
            " 15%|█▌        | 47/310 [00:25<02:21,  1.86it/s]"
          ]
        },
        {
          "output_type": "stream",
          "name": "stdout",
          "text": [
            "Found empty prediction..\n"
          ]
        },
        {
          "output_type": "stream",
          "name": "stderr",
          "text": [
            " 25%|██▌       | 78/310 [00:42<02:04,  1.86it/s]"
          ]
        },
        {
          "output_type": "stream",
          "name": "stdout",
          "text": [
            "Found empty prediction..\n"
          ]
        },
        {
          "output_type": "stream",
          "name": "stderr",
          "text": [
            " 34%|███▍      | 105/310 [00:57<01:53,  1.81it/s]"
          ]
        },
        {
          "output_type": "stream",
          "name": "stdout",
          "text": [
            "Found empty prediction..\n"
          ]
        },
        {
          "output_type": "stream",
          "name": "stderr",
          "text": [
            " 80%|████████  | 249/310 [02:16<00:32,  1.86it/s]"
          ]
        },
        {
          "output_type": "stream",
          "name": "stdout",
          "text": [
            "Found empty prediction..\n"
          ]
        },
        {
          "output_type": "stream",
          "name": "stderr",
          "text": [
            "100%|██████████| 310/310 [02:49<00:00,  1.83it/s]\n"
          ]
        }
      ]
    },
    {
      "cell_type": "code",
      "source": [
        "submission = pd.DataFrame(submission)\n",
        "submission"
      ],
      "metadata": {
        "id": "7uCQE3Pz6Uq3",
        "outputId": "805febe0-d67e-424a-bd0f-64ae3ca2813e",
        "colab": {
          "base_uri": "https://localhost:8080/",
          "height": 423
        }
      },
      "execution_count": null,
      "outputs": [
        {
          "output_type": "execute_result",
          "data": {
            "text/plain": [
              "           filename                                       centerpoints\n",
              "0    mix_02_000.tif  ma;27.272727272727273;22.459893048128343;85.63...\n",
              "1    mix_02_001.tif  sl;41.24733960755367;46.662483853109435;30.779...\n",
              "2    mix_02_002.tif  sl;40.318516004976814;61.90449798288279;56.452...\n",
              "3    mix_02_003.tif  sl;46.46291937035596;48.955028350357196;34.149...\n",
              "4    mix_02_004.tif  ma;65.14035087719299;65.90643274853801;57.5204...\n",
              "..              ...                                                ...\n",
              "305  mix_30_009.tif  sl;45.43090732526705;44.88480617306632;72.5195...\n",
              "306  mix_30_010.tif  sl;32.630397236614854;49.97409326424871;35.454...\n",
              "307  mix_30_011.tif  sl;52.18845825684515;53.92807094655738;46.3920...\n",
              "308  mix_30_012.tif  bf;32.12405063291139;32.56962025316456;39.5037...\n",
              "309  mix_30_013.tif  sl;49.138171525285244;55.34010330035892;74.208...\n",
              "\n",
              "[310 rows x 2 columns]"
            ],
            "text/html": [
              "\n",
              "  <div id=\"df-3dcff4a6-ae12-4664-a194-215d8072cb53\" class=\"colab-df-container\">\n",
              "    <div>\n",
              "<style scoped>\n",
              "    .dataframe tbody tr th:only-of-type {\n",
              "        vertical-align: middle;\n",
              "    }\n",
              "\n",
              "    .dataframe tbody tr th {\n",
              "        vertical-align: top;\n",
              "    }\n",
              "\n",
              "    .dataframe thead th {\n",
              "        text-align: right;\n",
              "    }\n",
              "</style>\n",
              "<table border=\"1\" class=\"dataframe\">\n",
              "  <thead>\n",
              "    <tr style=\"text-align: right;\">\n",
              "      <th></th>\n",
              "      <th>filename</th>\n",
              "      <th>centerpoints</th>\n",
              "    </tr>\n",
              "  </thead>\n",
              "  <tbody>\n",
              "    <tr>\n",
              "      <th>0</th>\n",
              "      <td>mix_02_000.tif</td>\n",
              "      <td>ma;27.272727272727273;22.459893048128343;85.63...</td>\n",
              "    </tr>\n",
              "    <tr>\n",
              "      <th>1</th>\n",
              "      <td>mix_02_001.tif</td>\n",
              "      <td>sl;41.24733960755367;46.662483853109435;30.779...</td>\n",
              "    </tr>\n",
              "    <tr>\n",
              "      <th>2</th>\n",
              "      <td>mix_02_002.tif</td>\n",
              "      <td>sl;40.318516004976814;61.90449798288279;56.452...</td>\n",
              "    </tr>\n",
              "    <tr>\n",
              "      <th>3</th>\n",
              "      <td>mix_02_003.tif</td>\n",
              "      <td>sl;46.46291937035596;48.955028350357196;34.149...</td>\n",
              "    </tr>\n",
              "    <tr>\n",
              "      <th>4</th>\n",
              "      <td>mix_02_004.tif</td>\n",
              "      <td>ma;65.14035087719299;65.90643274853801;57.5204...</td>\n",
              "    </tr>\n",
              "    <tr>\n",
              "      <th>...</th>\n",
              "      <td>...</td>\n",
              "      <td>...</td>\n",
              "    </tr>\n",
              "    <tr>\n",
              "      <th>305</th>\n",
              "      <td>mix_30_009.tif</td>\n",
              "      <td>sl;45.43090732526705;44.88480617306632;72.5195...</td>\n",
              "    </tr>\n",
              "    <tr>\n",
              "      <th>306</th>\n",
              "      <td>mix_30_010.tif</td>\n",
              "      <td>sl;32.630397236614854;49.97409326424871;35.454...</td>\n",
              "    </tr>\n",
              "    <tr>\n",
              "      <th>307</th>\n",
              "      <td>mix_30_011.tif</td>\n",
              "      <td>sl;52.18845825684515;53.92807094655738;46.3920...</td>\n",
              "    </tr>\n",
              "    <tr>\n",
              "      <th>308</th>\n",
              "      <td>mix_30_012.tif</td>\n",
              "      <td>bf;32.12405063291139;32.56962025316456;39.5037...</td>\n",
              "    </tr>\n",
              "    <tr>\n",
              "      <th>309</th>\n",
              "      <td>mix_30_013.tif</td>\n",
              "      <td>sl;49.138171525285244;55.34010330035892;74.208...</td>\n",
              "    </tr>\n",
              "  </tbody>\n",
              "</table>\n",
              "<p>310 rows × 2 columns</p>\n",
              "</div>\n",
              "    <div class=\"colab-df-buttons\">\n",
              "\n",
              "  <div class=\"colab-df-container\">\n",
              "    <button class=\"colab-df-convert\" onclick=\"convertToInteractive('df-3dcff4a6-ae12-4664-a194-215d8072cb53')\"\n",
              "            title=\"Convert this dataframe to an interactive table.\"\n",
              "            style=\"display:none;\">\n",
              "\n",
              "  <svg xmlns=\"http://www.w3.org/2000/svg\" height=\"24px\" viewBox=\"0 -960 960 960\">\n",
              "    <path d=\"M120-120v-720h720v720H120Zm60-500h600v-160H180v160Zm220 220h160v-160H400v160Zm0 220h160v-160H400v160ZM180-400h160v-160H180v160Zm440 0h160v-160H620v160ZM180-180h160v-160H180v160Zm440 0h160v-160H620v160Z\"/>\n",
              "  </svg>\n",
              "    </button>\n",
              "\n",
              "  <style>\n",
              "    .colab-df-container {\n",
              "      display:flex;\n",
              "      gap: 12px;\n",
              "    }\n",
              "\n",
              "    .colab-df-convert {\n",
              "      background-color: #E8F0FE;\n",
              "      border: none;\n",
              "      border-radius: 50%;\n",
              "      cursor: pointer;\n",
              "      display: none;\n",
              "      fill: #1967D2;\n",
              "      height: 32px;\n",
              "      padding: 0 0 0 0;\n",
              "      width: 32px;\n",
              "    }\n",
              "\n",
              "    .colab-df-convert:hover {\n",
              "      background-color: #E2EBFA;\n",
              "      box-shadow: 0px 1px 2px rgba(60, 64, 67, 0.3), 0px 1px 3px 1px rgba(60, 64, 67, 0.15);\n",
              "      fill: #174EA6;\n",
              "    }\n",
              "\n",
              "    .colab-df-buttons div {\n",
              "      margin-bottom: 4px;\n",
              "    }\n",
              "\n",
              "    [theme=dark] .colab-df-convert {\n",
              "      background-color: #3B4455;\n",
              "      fill: #D2E3FC;\n",
              "    }\n",
              "\n",
              "    [theme=dark] .colab-df-convert:hover {\n",
              "      background-color: #434B5C;\n",
              "      box-shadow: 0px 1px 3px 1px rgba(0, 0, 0, 0.15);\n",
              "      filter: drop-shadow(0px 1px 2px rgba(0, 0, 0, 0.3));\n",
              "      fill: #FFFFFF;\n",
              "    }\n",
              "  </style>\n",
              "\n",
              "    <script>\n",
              "      const buttonEl =\n",
              "        document.querySelector('#df-3dcff4a6-ae12-4664-a194-215d8072cb53 button.colab-df-convert');\n",
              "      buttonEl.style.display =\n",
              "        google.colab.kernel.accessAllowed ? 'block' : 'none';\n",
              "\n",
              "      async function convertToInteractive(key) {\n",
              "        const element = document.querySelector('#df-3dcff4a6-ae12-4664-a194-215d8072cb53');\n",
              "        const dataTable =\n",
              "          await google.colab.kernel.invokeFunction('convertToInteractive',\n",
              "                                                    [key], {});\n",
              "        if (!dataTable) return;\n",
              "\n",
              "        const docLinkHtml = 'Like what you see? Visit the ' +\n",
              "          '<a target=\"_blank\" href=https://colab.research.google.com/notebooks/data_table.ipynb>data table notebook</a>'\n",
              "          + ' to learn more about interactive tables.';\n",
              "        element.innerHTML = '';\n",
              "        dataTable['output_type'] = 'display_data';\n",
              "        await google.colab.output.renderOutput(dataTable, element);\n",
              "        const docLink = document.createElement('div');\n",
              "        docLink.innerHTML = docLinkHtml;\n",
              "        element.appendChild(docLink);\n",
              "      }\n",
              "    </script>\n",
              "  </div>\n",
              "\n",
              "\n",
              "<div id=\"df-2a57c537-8076-4255-af99-ce54eb4f5bf4\">\n",
              "  <button class=\"colab-df-quickchart\" onclick=\"quickchart('df-2a57c537-8076-4255-af99-ce54eb4f5bf4')\"\n",
              "            title=\"Suggest charts\"\n",
              "            style=\"display:none;\">\n",
              "\n",
              "<svg xmlns=\"http://www.w3.org/2000/svg\" height=\"24px\"viewBox=\"0 0 24 24\"\n",
              "     width=\"24px\">\n",
              "    <g>\n",
              "        <path d=\"M19 3H5c-1.1 0-2 .9-2 2v14c0 1.1.9 2 2 2h14c1.1 0 2-.9 2-2V5c0-1.1-.9-2-2-2zM9 17H7v-7h2v7zm4 0h-2V7h2v10zm4 0h-2v-4h2v4z\"/>\n",
              "    </g>\n",
              "</svg>\n",
              "  </button>\n",
              "\n",
              "<style>\n",
              "  .colab-df-quickchart {\n",
              "      --bg-color: #E8F0FE;\n",
              "      --fill-color: #1967D2;\n",
              "      --hover-bg-color: #E2EBFA;\n",
              "      --hover-fill-color: #174EA6;\n",
              "      --disabled-fill-color: #AAA;\n",
              "      --disabled-bg-color: #DDD;\n",
              "  }\n",
              "\n",
              "  [theme=dark] .colab-df-quickchart {\n",
              "      --bg-color: #3B4455;\n",
              "      --fill-color: #D2E3FC;\n",
              "      --hover-bg-color: #434B5C;\n",
              "      --hover-fill-color: #FFFFFF;\n",
              "      --disabled-bg-color: #3B4455;\n",
              "      --disabled-fill-color: #666;\n",
              "  }\n",
              "\n",
              "  .colab-df-quickchart {\n",
              "    background-color: var(--bg-color);\n",
              "    border: none;\n",
              "    border-radius: 50%;\n",
              "    cursor: pointer;\n",
              "    display: none;\n",
              "    fill: var(--fill-color);\n",
              "    height: 32px;\n",
              "    padding: 0;\n",
              "    width: 32px;\n",
              "  }\n",
              "\n",
              "  .colab-df-quickchart:hover {\n",
              "    background-color: var(--hover-bg-color);\n",
              "    box-shadow: 0 1px 2px rgba(60, 64, 67, 0.3), 0 1px 3px 1px rgba(60, 64, 67, 0.15);\n",
              "    fill: var(--button-hover-fill-color);\n",
              "  }\n",
              "\n",
              "  .colab-df-quickchart-complete:disabled,\n",
              "  .colab-df-quickchart-complete:disabled:hover {\n",
              "    background-color: var(--disabled-bg-color);\n",
              "    fill: var(--disabled-fill-color);\n",
              "    box-shadow: none;\n",
              "  }\n",
              "\n",
              "  .colab-df-spinner {\n",
              "    border: 2px solid var(--fill-color);\n",
              "    border-color: transparent;\n",
              "    border-bottom-color: var(--fill-color);\n",
              "    animation:\n",
              "      spin 1s steps(1) infinite;\n",
              "  }\n",
              "\n",
              "  @keyframes spin {\n",
              "    0% {\n",
              "      border-color: transparent;\n",
              "      border-bottom-color: var(--fill-color);\n",
              "      border-left-color: var(--fill-color);\n",
              "    }\n",
              "    20% {\n",
              "      border-color: transparent;\n",
              "      border-left-color: var(--fill-color);\n",
              "      border-top-color: var(--fill-color);\n",
              "    }\n",
              "    30% {\n",
              "      border-color: transparent;\n",
              "      border-left-color: var(--fill-color);\n",
              "      border-top-color: var(--fill-color);\n",
              "      border-right-color: var(--fill-color);\n",
              "    }\n",
              "    40% {\n",
              "      border-color: transparent;\n",
              "      border-right-color: var(--fill-color);\n",
              "      border-top-color: var(--fill-color);\n",
              "    }\n",
              "    60% {\n",
              "      border-color: transparent;\n",
              "      border-right-color: var(--fill-color);\n",
              "    }\n",
              "    80% {\n",
              "      border-color: transparent;\n",
              "      border-right-color: var(--fill-color);\n",
              "      border-bottom-color: var(--fill-color);\n",
              "    }\n",
              "    90% {\n",
              "      border-color: transparent;\n",
              "      border-bottom-color: var(--fill-color);\n",
              "    }\n",
              "  }\n",
              "</style>\n",
              "\n",
              "  <script>\n",
              "    async function quickchart(key) {\n",
              "      const quickchartButtonEl =\n",
              "        document.querySelector('#' + key + ' button');\n",
              "      quickchartButtonEl.disabled = true;  // To prevent multiple clicks.\n",
              "      quickchartButtonEl.classList.add('colab-df-spinner');\n",
              "      try {\n",
              "        const charts = await google.colab.kernel.invokeFunction(\n",
              "            'suggestCharts', [key], {});\n",
              "      } catch (error) {\n",
              "        console.error('Error during call to suggestCharts:', error);\n",
              "      }\n",
              "      quickchartButtonEl.classList.remove('colab-df-spinner');\n",
              "      quickchartButtonEl.classList.add('colab-df-quickchart-complete');\n",
              "    }\n",
              "    (() => {\n",
              "      let quickchartButtonEl =\n",
              "        document.querySelector('#df-2a57c537-8076-4255-af99-ce54eb4f5bf4 button');\n",
              "      quickchartButtonEl.style.display =\n",
              "        google.colab.kernel.accessAllowed ? 'block' : 'none';\n",
              "    })();\n",
              "  </script>\n",
              "</div>\n",
              "    </div>\n",
              "  </div>\n"
            ],
            "application/vnd.google.colaboratory.intrinsic+json": {
              "type": "dataframe",
              "variable_name": "submission",
              "summary": "{\n  \"name\": \"submission\",\n  \"rows\": 310,\n  \"fields\": [\n    {\n      \"column\": \"filename\",\n      \"properties\": {\n        \"dtype\": \"string\",\n        \"num_unique_values\": 310,\n        \"samples\": [\n          \"mix_29_003.tif\",\n          \"mix_02_010.tif\",\n          \"mix_07_003.tif\"\n        ],\n        \"semantic_type\": \"\",\n        \"description\": \"\"\n      }\n    },\n    {\n      \"column\": \"centerpoints\",\n      \"properties\": {\n        \"dtype\": \"string\",\n        \"num_unique_values\": 306,\n        \"samples\": [\n          \"ma;18.821782178217823;55.801980198019805;82.81188118811882;sl;47.24922544195371;31.984053216694;45.60196828868234;sl;49.068031306441895;56.1944611679711;32.81336544250451;sl;74.47930174563591;50.61197007481297;41.60498753117207;sl;34.24090909090909;56.372727272727275;38.32272727272727;sl;29.057153875819516;63.332664866949486;53.27666795217894;sl;66.99460916442048;28.3355795148248;53.285714285714285\",\n          \"sl;54.599774167241705;42.3972774606361;26.627313217489494;sl;20.761646803900327;32.67497291440954;39.48320693391116;sl;34.38769559032717;49.58264580369844;58.897155049786626;sl;47.98788879713736;40.188824662813104;86.78970547756676;sl;63.0517498138496;56.48064035740879;90.05770662695458\",\n          \"sl;53.05062129930782;50.71516137102827;53.91868901676257;sl;31.95569230769231;60.80861538461538;80.04369230769231\"\n        ],\n        \"semantic_type\": \"\",\n        \"description\": \"\"\n      }\n    }\n  ]\n}"
            }
          },
          "metadata": {},
          "execution_count": 118
        }
      ]
    },
    {
      "cell_type": "code",
      "source": [
        "submission.to_csv('submission.csv', index=False)"
      ],
      "metadata": {
        "id": "eKkgFo_X6Uq3"
      },
      "execution_count": null,
      "outputs": []
    },
    {
      "cell_type": "markdown",
      "source": [
        "That's it - ready to submit!"
      ],
      "metadata": {
        "id": "L_Kl9Y5R6Uq3"
      }
    }
  ]
}