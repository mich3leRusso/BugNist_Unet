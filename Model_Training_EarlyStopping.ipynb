{
  "metadata": {
    "kernelspec": {
      "display_name": "Python 3",
      "name": "python3"
    },
    "language_info": {
      "codemirror_mode": {
        "name": "ipython",
        "version": 3
      },
      "file_extension": ".py",
      "mimetype": "text/x-python",
      "name": "python",
      "nbconvert_exporter": "python",
      "pygments_lexer": "ipython3",
      "version": "3.9.14"
    },
    "kaggle": {
      "accelerator": "none",
      "dataSources": [
        {
          "sourceId": 71698,
          "databundleVersionId": 7906362,
          "sourceType": "competition"
        }
      ],
      "isInternetEnabled": true,
      "language": "python",
      "sourceType": "notebook",
      "isGpuEnabled": false
    },
    "colab": {
      "provenance": [],
      "gpuType": "T4",
      "machine_shape": "hm",
      "include_colab_link": true
    },
    "accelerator": "GPU"
  },
  "nbformat_minor": 0,
  "nbformat": 4,
  "cells": [
    {
      "cell_type": "markdown",
      "metadata": {
        "id": "view-in-github",
        "colab_type": "text"
      },
      "source": [
        "<a href=\"https://colab.research.google.com/github/mich3leRusso/Deep_learning_last/blob/main/Model_Training_EarlyStopping.ipynb\" target=\"_parent\"><img src=\"https://colab.research.google.com/assets/colab-badge.svg\" alt=\"Open In Colab\"/></a>"
      ]
    },
    {
      "cell_type": "code",
      "source": [
        "from google.colab import drive\n",
        "drive.mount('/content/drive')"
      ],
      "metadata": {
        "colab": {
          "base_uri": "https://localhost:8080/"
        },
        "id": "vUbOf0d8GuWC",
        "outputId": "6bdf71c6-2eaa-4bf2-8abd-b4269f55d9ee"
      },
      "execution_count": 1,
      "outputs": [
        {
          "output_type": "stream",
          "name": "stdout",
          "text": [
            "Mounted at /content/drive\n"
          ]
        }
      ]
    },
    {
      "cell_type": "code",
      "source": [
        "#!pip install kaggle\n",
        "!pip install monai\n",
        "!pip install 'monai[einops]'\n",
        "!pip install \"monai[fire]\""
      ],
      "metadata": {
        "colab": {
          "base_uri": "https://localhost:8080/"
        },
        "id": "GVi0GnrLJ4sU",
        "outputId": "86e37027-fd2c-4403-8326-036c21e217ba"
      },
      "execution_count": 20,
      "outputs": [
        {
          "output_type": "stream",
          "name": "stdout",
          "text": [
            "Requirement already satisfied: monai in /usr/local/lib/python3.10/dist-packages (1.3.0)\n",
            "Requirement already satisfied: numpy>=1.20 in /usr/local/lib/python3.10/dist-packages (from monai) (1.25.2)\n",
            "Requirement already satisfied: torch>=1.9 in /usr/local/lib/python3.10/dist-packages (from monai) (2.2.1+cu121)\n",
            "Requirement already satisfied: filelock in /usr/local/lib/python3.10/dist-packages (from torch>=1.9->monai) (3.14.0)\n",
            "Requirement already satisfied: typing-extensions>=4.8.0 in /usr/local/lib/python3.10/dist-packages (from torch>=1.9->monai) (4.11.0)\n",
            "Requirement already satisfied: sympy in /usr/local/lib/python3.10/dist-packages (from torch>=1.9->monai) (1.12)\n",
            "Requirement already satisfied: networkx in /usr/local/lib/python3.10/dist-packages (from torch>=1.9->monai) (3.3)\n",
            "Requirement already satisfied: jinja2 in /usr/local/lib/python3.10/dist-packages (from torch>=1.9->monai) (3.1.4)\n",
            "Requirement already satisfied: fsspec in /usr/local/lib/python3.10/dist-packages (from torch>=1.9->monai) (2023.6.0)\n",
            "Requirement already satisfied: nvidia-cuda-nvrtc-cu12==12.1.105 in /usr/local/lib/python3.10/dist-packages (from torch>=1.9->monai) (12.1.105)\n",
            "Requirement already satisfied: nvidia-cuda-runtime-cu12==12.1.105 in /usr/local/lib/python3.10/dist-packages (from torch>=1.9->monai) (12.1.105)\n",
            "Requirement already satisfied: nvidia-cuda-cupti-cu12==12.1.105 in /usr/local/lib/python3.10/dist-packages (from torch>=1.9->monai) (12.1.105)\n",
            "Requirement already satisfied: nvidia-cudnn-cu12==8.9.2.26 in /usr/local/lib/python3.10/dist-packages (from torch>=1.9->monai) (8.9.2.26)\n",
            "Requirement already satisfied: nvidia-cublas-cu12==12.1.3.1 in /usr/local/lib/python3.10/dist-packages (from torch>=1.9->monai) (12.1.3.1)\n",
            "Requirement already satisfied: nvidia-cufft-cu12==11.0.2.54 in /usr/local/lib/python3.10/dist-packages (from torch>=1.9->monai) (11.0.2.54)\n",
            "Requirement already satisfied: nvidia-curand-cu12==10.3.2.106 in /usr/local/lib/python3.10/dist-packages (from torch>=1.9->monai) (10.3.2.106)\n",
            "Requirement already satisfied: nvidia-cusolver-cu12==11.4.5.107 in /usr/local/lib/python3.10/dist-packages (from torch>=1.9->monai) (11.4.5.107)\n",
            "Requirement already satisfied: nvidia-cusparse-cu12==12.1.0.106 in /usr/local/lib/python3.10/dist-packages (from torch>=1.9->monai) (12.1.0.106)\n",
            "Requirement already satisfied: nvidia-nccl-cu12==2.19.3 in /usr/local/lib/python3.10/dist-packages (from torch>=1.9->monai) (2.19.3)\n",
            "Requirement already satisfied: nvidia-nvtx-cu12==12.1.105 in /usr/local/lib/python3.10/dist-packages (from torch>=1.9->monai) (12.1.105)\n",
            "Requirement already satisfied: triton==2.2.0 in /usr/local/lib/python3.10/dist-packages (from torch>=1.9->monai) (2.2.0)\n",
            "Requirement already satisfied: nvidia-nvjitlink-cu12 in /usr/local/lib/python3.10/dist-packages (from nvidia-cusolver-cu12==11.4.5.107->torch>=1.9->monai) (12.4.127)\n",
            "Requirement already satisfied: MarkupSafe>=2.0 in /usr/local/lib/python3.10/dist-packages (from jinja2->torch>=1.9->monai) (2.1.5)\n",
            "Requirement already satisfied: mpmath>=0.19 in /usr/local/lib/python3.10/dist-packages (from sympy->torch>=1.9->monai) (1.3.0)\n",
            "Requirement already satisfied: monai[einops] in /usr/local/lib/python3.10/dist-packages (1.3.0)\n",
            "Requirement already satisfied: numpy>=1.20 in /usr/local/lib/python3.10/dist-packages (from monai[einops]) (1.25.2)\n",
            "Requirement already satisfied: torch>=1.9 in /usr/local/lib/python3.10/dist-packages (from monai[einops]) (2.2.1+cu121)\n",
            "Requirement already satisfied: einops in /usr/local/lib/python3.10/dist-packages (from monai[einops]) (0.8.0)\n",
            "Requirement already satisfied: filelock in /usr/local/lib/python3.10/dist-packages (from torch>=1.9->monai[einops]) (3.14.0)\n",
            "Requirement already satisfied: typing-extensions>=4.8.0 in /usr/local/lib/python3.10/dist-packages (from torch>=1.9->monai[einops]) (4.11.0)\n",
            "Requirement already satisfied: sympy in /usr/local/lib/python3.10/dist-packages (from torch>=1.9->monai[einops]) (1.12)\n",
            "Requirement already satisfied: networkx in /usr/local/lib/python3.10/dist-packages (from torch>=1.9->monai[einops]) (3.3)\n",
            "Requirement already satisfied: jinja2 in /usr/local/lib/python3.10/dist-packages (from torch>=1.9->monai[einops]) (3.1.4)\n",
            "Requirement already satisfied: fsspec in /usr/local/lib/python3.10/dist-packages (from torch>=1.9->monai[einops]) (2023.6.0)\n",
            "Requirement already satisfied: nvidia-cuda-nvrtc-cu12==12.1.105 in /usr/local/lib/python3.10/dist-packages (from torch>=1.9->monai[einops]) (12.1.105)\n",
            "Requirement already satisfied: nvidia-cuda-runtime-cu12==12.1.105 in /usr/local/lib/python3.10/dist-packages (from torch>=1.9->monai[einops]) (12.1.105)\n",
            "Requirement already satisfied: nvidia-cuda-cupti-cu12==12.1.105 in /usr/local/lib/python3.10/dist-packages (from torch>=1.9->monai[einops]) (12.1.105)\n",
            "Requirement already satisfied: nvidia-cudnn-cu12==8.9.2.26 in /usr/local/lib/python3.10/dist-packages (from torch>=1.9->monai[einops]) (8.9.2.26)\n",
            "Requirement already satisfied: nvidia-cublas-cu12==12.1.3.1 in /usr/local/lib/python3.10/dist-packages (from torch>=1.9->monai[einops]) (12.1.3.1)\n",
            "Requirement already satisfied: nvidia-cufft-cu12==11.0.2.54 in /usr/local/lib/python3.10/dist-packages (from torch>=1.9->monai[einops]) (11.0.2.54)\n",
            "Requirement already satisfied: nvidia-curand-cu12==10.3.2.106 in /usr/local/lib/python3.10/dist-packages (from torch>=1.9->monai[einops]) (10.3.2.106)\n",
            "Requirement already satisfied: nvidia-cusolver-cu12==11.4.5.107 in /usr/local/lib/python3.10/dist-packages (from torch>=1.9->monai[einops]) (11.4.5.107)\n",
            "Requirement already satisfied: nvidia-cusparse-cu12==12.1.0.106 in /usr/local/lib/python3.10/dist-packages (from torch>=1.9->monai[einops]) (12.1.0.106)\n",
            "Requirement already satisfied: nvidia-nccl-cu12==2.19.3 in /usr/local/lib/python3.10/dist-packages (from torch>=1.9->monai[einops]) (2.19.3)\n",
            "Requirement already satisfied: nvidia-nvtx-cu12==12.1.105 in /usr/local/lib/python3.10/dist-packages (from torch>=1.9->monai[einops]) (12.1.105)\n",
            "Requirement already satisfied: triton==2.2.0 in /usr/local/lib/python3.10/dist-packages (from torch>=1.9->monai[einops]) (2.2.0)\n",
            "Requirement already satisfied: nvidia-nvjitlink-cu12 in /usr/local/lib/python3.10/dist-packages (from nvidia-cusolver-cu12==11.4.5.107->torch>=1.9->monai[einops]) (12.4.127)\n",
            "Requirement already satisfied: MarkupSafe>=2.0 in /usr/local/lib/python3.10/dist-packages (from jinja2->torch>=1.9->monai[einops]) (2.1.5)\n",
            "Requirement already satisfied: mpmath>=0.19 in /usr/local/lib/python3.10/dist-packages (from sympy->torch>=1.9->monai[einops]) (1.3.0)\n",
            "Requirement already satisfied: monai[fire] in /usr/local/lib/python3.10/dist-packages (1.3.0)\n",
            "Requirement already satisfied: numpy>=1.20 in /usr/local/lib/python3.10/dist-packages (from monai[fire]) (1.25.2)\n",
            "Requirement already satisfied: torch>=1.9 in /usr/local/lib/python3.10/dist-packages (from monai[fire]) (2.2.1+cu121)\n",
            "Collecting fire (from monai[fire])\n",
            "  Downloading fire-0.6.0.tar.gz (88 kB)\n",
            "\u001b[2K     \u001b[90m━━━━━━━━━━━━━━━━━━━━━━━━━━━━━━━━━━━━━━━━\u001b[0m \u001b[32m88.4/88.4 kB\u001b[0m \u001b[31m2.6 MB/s\u001b[0m eta \u001b[36m0:00:00\u001b[0m\n",
            "\u001b[?25h  Preparing metadata (setup.py) ... \u001b[?25l\u001b[?25hdone\n",
            "Requirement already satisfied: filelock in /usr/local/lib/python3.10/dist-packages (from torch>=1.9->monai[fire]) (3.14.0)\n",
            "Requirement already satisfied: typing-extensions>=4.8.0 in /usr/local/lib/python3.10/dist-packages (from torch>=1.9->monai[fire]) (4.11.0)\n",
            "Requirement already satisfied: sympy in /usr/local/lib/python3.10/dist-packages (from torch>=1.9->monai[fire]) (1.12)\n",
            "Requirement already satisfied: networkx in /usr/local/lib/python3.10/dist-packages (from torch>=1.9->monai[fire]) (3.3)\n",
            "Requirement already satisfied: jinja2 in /usr/local/lib/python3.10/dist-packages (from torch>=1.9->monai[fire]) (3.1.4)\n",
            "Requirement already satisfied: fsspec in /usr/local/lib/python3.10/dist-packages (from torch>=1.9->monai[fire]) (2023.6.0)\n",
            "Requirement already satisfied: nvidia-cuda-nvrtc-cu12==12.1.105 in /usr/local/lib/python3.10/dist-packages (from torch>=1.9->monai[fire]) (12.1.105)\n",
            "Requirement already satisfied: nvidia-cuda-runtime-cu12==12.1.105 in /usr/local/lib/python3.10/dist-packages (from torch>=1.9->monai[fire]) (12.1.105)\n",
            "Requirement already satisfied: nvidia-cuda-cupti-cu12==12.1.105 in /usr/local/lib/python3.10/dist-packages (from torch>=1.9->monai[fire]) (12.1.105)\n",
            "Requirement already satisfied: nvidia-cudnn-cu12==8.9.2.26 in /usr/local/lib/python3.10/dist-packages (from torch>=1.9->monai[fire]) (8.9.2.26)\n",
            "Requirement already satisfied: nvidia-cublas-cu12==12.1.3.1 in /usr/local/lib/python3.10/dist-packages (from torch>=1.9->monai[fire]) (12.1.3.1)\n",
            "Requirement already satisfied: nvidia-cufft-cu12==11.0.2.54 in /usr/local/lib/python3.10/dist-packages (from torch>=1.9->monai[fire]) (11.0.2.54)\n",
            "Requirement already satisfied: nvidia-curand-cu12==10.3.2.106 in /usr/local/lib/python3.10/dist-packages (from torch>=1.9->monai[fire]) (10.3.2.106)\n",
            "Requirement already satisfied: nvidia-cusolver-cu12==11.4.5.107 in /usr/local/lib/python3.10/dist-packages (from torch>=1.9->monai[fire]) (11.4.5.107)\n",
            "Requirement already satisfied: nvidia-cusparse-cu12==12.1.0.106 in /usr/local/lib/python3.10/dist-packages (from torch>=1.9->monai[fire]) (12.1.0.106)\n",
            "Requirement already satisfied: nvidia-nccl-cu12==2.19.3 in /usr/local/lib/python3.10/dist-packages (from torch>=1.9->monai[fire]) (2.19.3)\n",
            "Requirement already satisfied: nvidia-nvtx-cu12==12.1.105 in /usr/local/lib/python3.10/dist-packages (from torch>=1.9->monai[fire]) (12.1.105)\n",
            "Requirement already satisfied: triton==2.2.0 in /usr/local/lib/python3.10/dist-packages (from torch>=1.9->monai[fire]) (2.2.0)\n",
            "Requirement already satisfied: nvidia-nvjitlink-cu12 in /usr/local/lib/python3.10/dist-packages (from nvidia-cusolver-cu12==11.4.5.107->torch>=1.9->monai[fire]) (12.4.127)\n",
            "Requirement already satisfied: six in /usr/local/lib/python3.10/dist-packages (from fire->monai[fire]) (1.16.0)\n",
            "Requirement already satisfied: termcolor in /usr/local/lib/python3.10/dist-packages (from fire->monai[fire]) (2.4.0)\n",
            "Requirement already satisfied: MarkupSafe>=2.0 in /usr/local/lib/python3.10/dist-packages (from jinja2->torch>=1.9->monai[fire]) (2.1.5)\n",
            "Requirement already satisfied: mpmath>=0.19 in /usr/local/lib/python3.10/dist-packages (from sympy->torch>=1.9->monai[fire]) (1.3.0)\n",
            "Building wheels for collected packages: fire\n",
            "  Building wheel for fire (setup.py) ... \u001b[?25l\u001b[?25hdone\n",
            "  Created wheel for fire: filename=fire-0.6.0-py2.py3-none-any.whl size=117029 sha256=e34a91c01c7fbb9780f471ccc03d5eb42672fde780377028d1c42c40e242d861\n",
            "  Stored in directory: /root/.cache/pip/wheels/d6/6d/5d/5b73fa0f46d01a793713f8859201361e9e581ced8c75e5c6a3\n",
            "Successfully built fire\n",
            "Installing collected packages: fire\n",
            "Successfully installed fire-0.6.0\n"
          ]
        }
      ]
    },
    {
      "cell_type": "code",
      "source": [
        "import os\n",
        "import sys\n",
        "from tempfile import NamedTemporaryFile\n",
        "from urllib.request import urlopen\n",
        "from urllib.parse import unquote, urlparse\n",
        "from urllib.error import HTTPError\n",
        "from zipfile import ZipFile\n",
        "import tarfile\n",
        "import shutil\n",
        "from monai.data import ImageReader\n",
        "from skimage.io import imread\n",
        "import matplotlib.pyplot as plt\n",
        "import pandas as pd\n",
        "from torchsummary import summary\n",
        "import random\n",
        "\n",
        "import os\n",
        "import glob\n",
        "\n",
        "import monai\n",
        "import numpy as np\n",
        "import torch\n",
        "from tqdm import tqdm, trange\n",
        "\n",
        "from monai.networks.blocks import PatchEmbed, UnetOutBlock, UnetrBasicBlock, UnetrUpBlock\n",
        "from monai.networks.nets import UNet\n",
        "from monai.networks.layers import Norm\n"
      ],
      "metadata": {
        "id": "mNfDr3nl6yIJ"
      },
      "execution_count": 9,
      "outputs": []
    },
    {
      "cell_type": "code",
      "source": [
        "os.environ['KAGGLE_CONFIG_DIR'] = '/content/drive/MyDrive/kaggle'"
      ],
      "metadata": {
        "id": "MNv3L2PLHBop"
      },
      "execution_count": 4,
      "outputs": []
    },
    {
      "cell_type": "code",
      "source": [
        "!kaggle competitions download -c bugnist2024fgvc"
      ],
      "metadata": {
        "colab": {
          "base_uri": "https://localhost:8080/"
        },
        "id": "ROuv6B91vb9D",
        "outputId": "3d0c2ef5-f720-4bf5-ddc0-b244cdae2c7e"
      },
      "execution_count": 5,
      "outputs": [
        {
          "output_type": "stream",
          "name": "stdout",
          "text": [
            "Downloading bugnist2024fgvc.zip to /content\n",
            "100% 676M/677M [00:35<00:00, 18.7MB/s]\n",
            "100% 677M/677M [00:35<00:00, 20.0MB/s]\n"
          ]
        }
      ]
    },
    {
      "cell_type": "markdown",
      "source": [
        "# Sample submission based on 3D U-Net as a baseline\n",
        "\n",
        "In this notebook, we'll go through a full attempt at a solution - albeit a poorly performing one.\n",
        "\n",
        "**Full disclosure:** this notebook was not developed on Kaggle, but on another machine. It may not work out of the box but hopefully, it can serve as a useful starting point for now.\n",
        "\n",
        "The idea is to train a 3D U-Net to segment the bugs based on the single bug images. Here, there is only one bug per image, so we can use the 3D U-Net to segment the bug. Since we know the label of the bugs in the single bug images, we can also train the U-Net to predict the bug type, by casting it as a multi-class segmentation problem (13 classes, 12 bugs + background). We can then use the segmentation to find its center point and use that for our submission."
      ],
      "metadata": {
        "id": "4Zv7toCr6Uqf"
      }
    },
    {
      "cell_type": "code",
      "source": [
        "extract_dir = '/content/'\n",
        "\n",
        "if not os.path.exists(extract_dir):\n",
        "    os.makedirs(extract_dir)\n",
        "\n",
        "with ZipFile('/content/bugnist2024fgvc.zip', 'r') as zip_ref:\n",
        "    zip_ref.extractall(extract_dir)"
      ],
      "metadata": {
        "id": "j4CuAHOQ6Uqh"
      },
      "execution_count": 6,
      "outputs": []
    },
    {
      "cell_type": "code",
      "source": [
        "# Path to individual bugs (change to where you store the bugs)\n",
        "data_dir = '/content/BugNIST_DATA/train'"
      ],
      "metadata": {
        "id": "G5sROvc5Qg2H"
      },
      "execution_count": 16,
      "outputs": []
    },
    {
      "cell_type": "markdown",
      "source": [
        "First, we gather all the files and their labels to prepare the data loaders.\n",
        "We will store the labels as one-hot encoded vectors."
      ],
      "metadata": {
        "id": "2EPMq94k6Uqh"
      }
    },
    {
      "cell_type": "code",
      "source": [
        "images = []\n",
        "labels = []\n",
        "\n",
        "class_names = os.listdir(data_dir)\n",
        "class_image_files = [\n",
        "    glob.glob(os.path.join(data_dir, name, '*')) for name in class_names\n",
        "]\n",
        "\n",
        "for i, files in enumerate(class_image_files):\n",
        "    images += files\n",
        "\n",
        "    labels_i = torch.zeros(len(files), len(class_names))\n",
        "    labels_i[:, i] = 1\n",
        "    labels.append(labels_i)\n",
        "\n",
        "\n",
        "labels = torch.cat(labels, dim=0)"
      ],
      "metadata": {
        "id": "4ULbGXgI6Uqh"
      },
      "execution_count": 17,
      "outputs": []
    },
    {
      "cell_type": "markdown",
      "source": [
        "Some samples of the lists we made:"
      ],
      "metadata": {
        "id": "niUhj-aL6Uqh"
      }
    },
    {
      "cell_type": "code",
      "source": [
        "class_names"
      ],
      "metadata": {
        "id": "GWans1Sf6Uqi",
        "colab": {
          "base_uri": "https://localhost:8080/"
        },
        "outputId": "91a901b1-7e27-4e8a-a1eb-2b54878bb045"
      },
      "execution_count": 18,
      "outputs": [
        {
          "output_type": "execute_result",
          "data": {
            "text/plain": [
              "['PP', 'GH', 'MA', 'AC', 'SL', 'BC', 'BP', 'ML', 'WO', 'BF', 'BL', 'CF']"
            ]
          },
          "metadata": {},
          "execution_count": 18
        }
      ]
    },
    {
      "cell_type": "code",
      "source": [
        "images[:5]"
      ],
      "metadata": {
        "id": "tX38X2cD6Uqi",
        "colab": {
          "base_uri": "https://localhost:8080/"
        },
        "outputId": "18642259-5807-4dcd-8989-5d2f75a913b2"
      },
      "execution_count": 10,
      "outputs": [
        {
          "output_type": "execute_result",
          "data": {
            "text/plain": [
              "['/content/BugNIST_DATA/train/PP/fluepup_3_049.tif',\n",
              " '/content/BugNIST_DATA/train/PP/fluepup_3_109.tif',\n",
              " '/content/BugNIST_DATA/train/PP/fluepup_5_061.tif',\n",
              " '/content/BugNIST_DATA/train/PP/fluepup_4_021.tif',\n",
              " '/content/BugNIST_DATA/train/PP/fluepup_5_030.tif']"
            ]
          },
          "metadata": {},
          "execution_count": 10
        }
      ]
    },
    {
      "cell_type": "code",
      "source": [
        "labels[:5]"
      ],
      "metadata": {
        "id": "HZDoyy146Uqi",
        "colab": {
          "base_uri": "https://localhost:8080/"
        },
        "outputId": "4485a23e-f6ae-44bb-94a6-da43f3299002"
      },
      "execution_count": 11,
      "outputs": [
        {
          "output_type": "execute_result",
          "data": {
            "text/plain": [
              "tensor([[1., 0., 0., 0., 0., 0., 0., 0., 0., 0., 0., 0.],\n",
              "        [1., 0., 0., 0., 0., 0., 0., 0., 0., 0., 0., 0.],\n",
              "        [1., 0., 0., 0., 0., 0., 0., 0., 0., 0., 0., 0.],\n",
              "        [1., 0., 0., 0., 0., 0., 0., 0., 0., 0., 0., 0.],\n",
              "        [1., 0., 0., 0., 0., 0., 0., 0., 0., 0., 0., 0.]])"
            ]
          },
          "metadata": {},
          "execution_count": 11
        }
      ]
    },
    {
      "cell_type": "markdown",
      "source": [
        "Looks good! Let's split the individual images into a train and validation set:"
      ],
      "metadata": {
        "id": "fpW9vOLV6Uqi"
      }
    },
    {
      "cell_type": "code",
      "source": [
        "from sklearn.model_selection import train_test_split\n",
        "\n",
        "train_val_split = 0.7\n",
        "\n",
        "train_images, val_images, train_labels, val_labels = train_test_split(\n",
        "    images, labels, train_size=train_val_split, stratify=labels,\n",
        "    random_state=1337,\n",
        ")"
      ],
      "metadata": {
        "id": "YhjNuo5z6Uqj"
      },
      "execution_count": 19,
      "outputs": []
    },
    {
      "cell_type": "code",
      "source": [
        "from monai.data import ImageReader\n",
        "from skimage.io import imread\n",
        "\n",
        "class TiffReader(ImageReader):\n",
        "    def __init__(self):\n",
        "        super().__init__()\n",
        "\n",
        "\n",
        "    def get_data(self, img):\n",
        "        return np.asarray(img), dict()\n",
        "\n",
        "\n",
        "    def read(self, data, **kwargs):\n",
        "        if isinstance(data, str):\n",
        "            data = [data]\n",
        "\n",
        "        return [imread(f) for f in data]\n",
        "\n",
        "\n",
        "    def verify_suffix(self, filename):\n",
        "        return filename.endswith('.tif') or filename.endswith('.tiff')\n"
      ],
      "metadata": {
        "id": "w0NQmOMy6Uqj"
      },
      "execution_count": 20,
      "outputs": []
    },
    {
      "cell_type": "markdown",
      "source": [
        "During the training pipeline, the rough idea is this:\n",
        "\n",
        "1. Load a batch of images and their labels.\n",
        "2. Segment the (single) bug using a threshold on the image intensity.\n",
        "3. Use the label to turn the binary thresholded image into an actual segmentation mask.\n",
        "4. Train the U-Net to predict the segmentation mask.\n",
        "\n",
        "The solution here is based on the MONAI library, which provides building blocks for 3D image segmentations. Most of the above steps can be achieved via existing MONAI transforms we can add as data augmentations. However, we need two extra helper classes.\n",
        "\n",
        "First, a class to tell it how to read our 3D tiff-files:"
      ],
      "metadata": {
        "id": "iiftzzg26Uqj"
      }
    },
    {
      "cell_type": "markdown",
      "source": [
        "Next a class to copy an image"
      ],
      "metadata": {
        "id": "VT3HiP1q6Uqj"
      }
    },
    {
      "cell_type": "code",
      "source": [
        "from copy import deepcopy\n",
        "from monai.transforms import MapTransform\n",
        "\n",
        "class CopyImaged(MapTransform):\n",
        "    def __init__(self, key_to_copy, new_key, allow_missing_keys=False):\n",
        "        super().__init__(key_to_copy, allow_missing_keys)\n",
        "        self.key_to_copy = key_to_copy\n",
        "        self.new_key = new_key\n",
        "\n",
        "\n",
        "    def __call__(self, data):\n",
        "        data = dict(data)\n",
        "        data[self.new_key] = deepcopy(data[self.key_to_copy])\n",
        "        return data\n"
      ],
      "metadata": {
        "id": "gQHu010e6Uqk"
      },
      "execution_count": 21,
      "outputs": []
    },
    {
      "cell_type": "markdown",
      "source": [
        "We can now set up our transforms:"
      ],
      "metadata": {
        "id": "UH6LfgkR6Uqk"
      }
    },
    {
      "cell_type": "code",
      "source": [
        "import monai.transforms as T\n",
        "from skimage.io import imread\n",
        "\n",
        "# Precompute padding to get equal side lengths\n",
        "im0 = imread(images[0])\n",
        "shape = torch.tensor(im0.shape)\n",
        "padding = (0, int((shape[0] - shape[1]) // 2), int((shape[0] - shape[2]) // 2))\n",
        "\n",
        "# Prepare train and test data loaders\n",
        "keys = ['image', 'mask']\n",
        "train_transforms = T.Compose([\n",
        "    # Load the image\n",
        "    T.LoadImaged(keys='image', reader=TiffReader, image_only=True),\n",
        "    T.Resized(keys='image', spatial_size=shape),\n",
        "    # Scale the intensity\n",
        "    T.ScaleIntensityd(keys='image'),\n",
        "    # Pad the image so all sides are equal\n",
        "    T.BorderPadd(keys='image', spatial_border=padding),\n",
        "    # Make a copy of the image, which is what will later be our mask\n",
        "    CopyImaged(key_to_copy='image', new_key='mask'),\n",
        "    # Smooth the image and then threshold it\n",
        "    T.GaussianSmoothd(keys='mask', sigma=2),\n",
        "    T.AsDiscreted(keys='mask', threshold=0.25, dtype=torch.long),\n",
        "    # Only keep the largest connected component as the bug mask\n",
        "    T.KeepLargestConnectedComponentd(keys='mask', applied_labels=[0]),\n",
        "    # Apply normal data augmentations\n",
        "    T.EnsureTyped(keys=['image', 'mask', 'label'], track_meta=False),\n",
        "    T.RandAffined(\n",
        "        keys=['image', 'mask'], prob=0.95, rotate_range=(np.pi/2,) * 3,\n",
        "        translate_range=shape // torch.tensor([2, 1, 1]), padding_mode='zeros'),\n",
        "    T.RandAxisFlipd(keys=keys, prob=0.5),\n",
        "    T.RandScaleIntensityd(keys='image', factors=0.25, prob=0.5),\n",
        "    T.RandZoomd(keys=keys, prob=0.5),\n",
        "    T.SqueezeDimd(keys='mask'),\n",
        "    T.CastToTyped(keys='mask', dtype=torch.long),\n",
        "])\n",
        "\n",
        "val_transforms = T.Compose([\n",
        "    # See train_transforms\n",
        "    T.LoadImaged(keys='image', reader=TiffReader, image_only=True),\n",
        "    T.Resized(keys='image', spatial_size=shape),\n",
        "    T.ScaleIntensityd(keys='image'),\n",
        "    T.BorderPadd(keys='image', spatial_border=padding),\n",
        "    CopyImaged(key_to_copy='image', new_key='mask'),\n",
        "    T.GaussianSmoothd(keys='mask', sigma=2),\n",
        "    T.AsDiscreted(keys='mask', threshold=0.25, dtype=torch.long),\n",
        "    T.KeepLargestConnectedComponentd(keys='mask', applied_labels=[0]),\n",
        "    T.EnsureTyped(keys=['image', 'mask', 'label'], track_meta=False),\n",
        "    T.SqueezeDimd(keys='mask'),\n",
        "    T.CastToTyped(keys='mask', dtype=torch.long),\n",
        "])"
      ],
      "metadata": {
        "id": "ASmUpzFK6Uqk"
      },
      "execution_count": 22,
      "outputs": []
    },
    {
      "cell_type": "markdown",
      "source": [
        "Let's quickly run through how this looks like when the code runs.\n",
        "\n",
        "We create our `Dataset`s"
      ],
      "metadata": {
        "id": "bHMCe8w-6Uqk"
      }
    },
    {
      "cell_type": "code",
      "source": [
        "from monai.data import Dataset\n",
        "\n",
        "train_data = Dataset(\n",
        "    [{ 'image': f, 'label': l }\n",
        "        for f, l in zip(train_images, train_labels)],\n",
        "    transform=train_transforms,\n",
        ")\n",
        "\n",
        "val_data = Dataset(\n",
        "    [{ 'image': f, 'label': l }\n",
        "     for f, l in zip(val_images, val_labels)],\n",
        "    transform=val_transforms,\n",
        ")"
      ],
      "metadata": {
        "id": "UC9co5Z56Uqk"
      },
      "execution_count": 23,
      "outputs": []
    },
    {
      "cell_type": "markdown",
      "source": [
        "...and `DataLoaders`"
      ],
      "metadata": {
        "id": "Qa2KhaAX6Uqk"
      }
    },
    {
      "cell_type": "code",
      "source": [
        "from monai.data import DataLoader\n",
        "\n",
        "train_batch_size = 4\n",
        "val_batch_size = 2\n",
        "\n",
        "train_loader = DataLoader(\n",
        "    train_data,\n",
        "    shuffle=True,\n",
        "    num_workers=0,\n",
        "    batch_size=train_batch_size,\n",
        ")\n",
        "val_loader = DataLoader(\n",
        "    val_data,\n",
        "    num_workers=0,\n",
        "    shuffle=False,\n",
        "    batch_size=val_batch_size,\n",
        ")"
      ],
      "metadata": {
        "id": "plXO98UG6Uqk"
      },
      "execution_count": 24,
      "outputs": []
    },
    {
      "cell_type": "markdown",
      "source": [
        "Get a batch and look at it:"
      ],
      "metadata": {
        "id": "Vdpq_sNJ6Uql"
      }
    },
    {
      "cell_type": "code",
      "source": [
        "for i, batch in enumerate(train_loader):\n",
        "    if i == 1:\n",
        "      break"
      ],
      "metadata": {
        "id": "zouoRS856Uql"
      },
      "execution_count": 43,
      "outputs": []
    },
    {
      "cell_type": "code",
      "source": [
        "batch.keys()"
      ],
      "metadata": {
        "id": "Oj2EP2fe6Uql",
        "colab": {
          "base_uri": "https://localhost:8080/"
        },
        "outputId": "6924f4fc-e518-4c97-ca85-740f50b4e904"
      },
      "execution_count": null,
      "outputs": [
        {
          "output_type": "execute_result",
          "data": {
            "text/plain": [
              "dict_keys(['image', 'label', 'mask'])"
            ]
          },
          "metadata": {},
          "execution_count": 20
        }
      ]
    },
    {
      "cell_type": "code",
      "source": [
        "import matplotlib.pyplot as plt\n",
        "\n",
        "fig, ax = plt.subplots(2, 4, figsize=(10, 5))\n",
        "for i in range(4):\n",
        "    ax[0, i].imshow(batch['image'][i, 0].cpu().numpy().max(axis=0), cmap='gray')\n",
        "    ax[0, i].axis('off')\n",
        "    ax[1, i].imshow(batch['mask'][i].cpu().numpy().max(axis=0), cmap='tab20b', vmin=0, vmax=1)\n",
        "    ax[1, i].axis('off')\n",
        "fig.tight_layout()"
      ],
      "metadata": {
        "id": "G-YqwTbx6Uql",
        "colab": {
          "base_uri": "https://localhost:8080/",
          "height": 507
        },
        "outputId": "af318487-c05c-4915-e62d-222dc0853cc6"
      },
      "execution_count": 44,
      "outputs": [
        {
          "output_type": "display_data",
          "data": {
            "text/plain": [
              "<Figure size 1000x500 with 8 Axes>"
            ],
            "image/png": "[encoded data removed]"
          },
          "metadata": {}
        }
      ]
    },
    {
      "cell_type": "code",
      "source": [
        "mask_label = batch['mask'] * (batch['label'].argmax(dim=1).view(-1, 1, 1, 1) + 1)\n",
        "\n",
        "fig, ax = plt.subplots(2, 4, figsize=(10, 5))\n",
        "for i in range(4):\n",
        "    ax[0, i].imshow(batch['image'][i, 0].cpu().numpy().max(axis=0), cmap='gray')\n",
        "    ax[0, i].axis('off')\n",
        "    ax[1, i].imshow(mask_label[i].cpu().numpy().max(axis=0), cmap='tab20b',\n",
        "                    vmin=0, vmax=len(class_names), interpolation='none')\n",
        "    ax[1, i].axis('off')\n",
        "fig.tight_layout()"
      ],
      "metadata": {
        "id": "08OsgOha6Uql",
        "colab": {
          "base_uri": "https://localhost:8080/",
          "height": 507
        },
        "outputId": "110ee27d-abf4-4bd2-e904-d0cb384908df"
      },
      "execution_count": 45,
      "outputs": [
        {
          "output_type": "display_data",
          "data": {
            "text/plain": [
              "<Figure size 1000x500 with 8 Axes>"
            ],
            "image/png": "[encoded data removed]"
          },
          "metadata": {}
        }
      ]
    },
    {
      "cell_type": "markdown",
      "source": [
        "Alright, now for real:"
      ],
      "metadata": {
        "id": "ZOF4zb486Uql"
      }
    },
    {
      "cell_type": "code",
      "source": [
        "train_batch_size = 8\n",
        "val_batch_size = 8\n",
        "\n",
        "train_loader = DataLoader(\n",
        "    train_data,\n",
        "    shuffle=True,\n",
        "    num_workers=8,\n",
        "    batch_size=train_batch_size,\n",
        "    drop_last=True,\n",
        ")\n",
        "val_loader = DataLoader(\n",
        "    val_data,\n",
        "    num_workers=8,\n",
        "    shuffle=False,\n",
        "    batch_size=val_batch_size,\n",
        "    drop_last=True,\n",
        ")"
      ],
      "metadata": {
        "id": "NYYjKYg56Uql"
      },
      "execution_count": 47,
      "outputs": []
    },
    {
      "cell_type": "markdown",
      "source": [
        "We use the built in U-Net implementation from MONAI:"
      ],
      "metadata": {
        "id": "ciHmY61v6Uqm"
      }
    },
    {
      "cell_type": "code",
      "source": [
        "# standard PyTorch program style: create UNet, DiceLoss and Adam optimizer\n",
        "device = torch.device(\"cuda\" if torch.cuda.is_available() else \"cpu\")\n",
        "model = UNet(\n",
        "    spatial_dims=3,\n",
        "    in_channels=1,\n",
        "    #out_channels=2,\n",
        "    out_channels=len(class_names) + 1,\n",
        "    channels=(16, 32, 64, 128, 256),\n",
        "    strides=(2, 2, 2, 2),\n",
        "    num_res_units=2,\n",
        "    norm=Norm.BATCH,\n",
        ").to(device)"
      ],
      "metadata": {
        "id": "DxbtbUJU59k9"
      },
      "execution_count": 34,
      "outputs": []
    },
    {
      "cell_type": "code",
      "source": [
        "weights = torch.load(\"/content/drive/MyDrive/unet_spleen_model.pt\")\n",
        "model_dict = model.state_dict()\n",
        "\n",
        "# Fiter out missing keys, different or with different values' shapes (e.g. output layer)\n",
        "filtered_dict = {k: v for k, v in weights.items() if k in model_dict and v.shape == model_dict[k].shape}\n",
        "model_dict.update(filtered_dict)\n",
        "model.load_state_dict(model_dict)"
      ],
      "metadata": {
        "id": "fsCUIZlZ-ocB",
        "outputId": "12a9aa97-6b7c-4ad4-bde7-02efe0aa6268",
        "colab": {
          "base_uri": "https://localhost:8080/"
        }
      },
      "execution_count": 35,
      "outputs": [
        {
          "output_type": "execute_result",
          "data": {
            "text/plain": [
              "<All keys matched successfully>"
            ]
          },
          "metadata": {},
          "execution_count": 35
        }
      ]
    },
    {
      "cell_type": "code",
      "source": [
        "'''\n",
        "device = torch.device(\"cuda\" if torch.cuda.is_available() else \"cpu\")\n",
        "model = monai.networks.nets.UNet(\n",
        "    spatial_dims=3,\n",
        "    in_channels=1,\n",
        "    out_channels=len(class_names) + 1,  # Bug classes and background\n",
        "    channels=(32, 64, 128, 256),\n",
        "    strides=(2, 2, 2),\n",
        "    num_res_units=2,\n",
        ").to(device)'''"
      ],
      "metadata": {
        "id": "sWogPCuR6Uqm",
        "outputId": "ad79df3d-f547-453d-8bc9-b7d643164402",
        "colab": {
          "base_uri": "https://localhost:8080/",
          "height": 70
        }
      },
      "execution_count": 36,
      "outputs": [
        {
          "output_type": "execute_result",
          "data": {
            "text/plain": [
              "'\\ndevice = torch.device(\"cuda\" if torch.cuda.is_available() else \"cpu\")\\nmodel = monai.networks.nets.UNet(\\n    spatial_dims=3,\\n    in_channels=1,\\n    out_channels=len(class_names) + 1,  # Bug classes and background\\n    channels=(32, 64, 128, 256),\\n    strides=(2, 2, 2),\\n    num_res_units=2,\\n).to(device)'"
            ],
            "application/vnd.google.colaboratory.intrinsic+json": {
              "type": "string"
            }
          },
          "metadata": {},
          "execution_count": 36
        }
      ]
    },
    {
      "cell_type": "code",
      "source": [
        "'''from monai.networks.nets import SwinUNETR\n",
        "\n",
        "device = torch.device(\"cuda\" if torch.cuda.is_available() else \"cpu\")\n",
        "\n",
        "model = SwinUNETR(\n",
        "    img_size=(128, 128, 128),\n",
        "    in_channels=1,\n",
        "    #out_channels=len(class_names) + 1,\n",
        "    out_channels=14,\n",
        "    feature_size=48,\n",
        "    use_checkpoint=True,\n",
        ").to(device)'''"
      ],
      "metadata": {
        "id": "J0kDNjEI1MdD",
        "outputId": "998a0cf1-244e-402d-e171-ed9a1d956437",
        "colab": {
          "base_uri": "https://localhost:8080/",
          "height": 70
        }
      },
      "execution_count": 37,
      "outputs": [
        {
          "output_type": "execute_result",
          "data": {
            "text/plain": [
              "'from monai.networks.nets import SwinUNETR\\n\\ndevice = torch.device(\"cuda\" if torch.cuda.is_available() else \"cpu\")\\n\\nmodel = SwinUNETR(\\n    img_size=(128, 128, 128),\\n    in_channels=1,\\n    #out_channels=len(class_names) + 1,\\n    out_channels=14,\\n    feature_size=48,\\n    use_checkpoint=True,\\n).to(device)'"
            ],
            "application/vnd.google.colaboratory.intrinsic+json": {
              "type": "string"
            }
          },
          "metadata": {},
          "execution_count": 37
        }
      ]
    },
    {
      "cell_type": "code",
      "source": [
        "'''weights = torch.load(\"/content/drive/MyDrive/swin_unetr.pt\")\n",
        "model.load_state_dict(weights)\n",
        "model_unetr.load_from(weights=weight)\n",
        "model.out = UnetOutBlock(spatial_dims=3, in_channels=1, out_channels=len(class_names) + 1)\n",
        "'''"
      ],
      "metadata": {
        "id": "A_Uhvyo962GT",
        "outputId": "e17308fe-98ef-44e5-faad-e6589435a528",
        "colab": {
          "base_uri": "https://localhost:8080/",
          "height": 53
        }
      },
      "execution_count": 38,
      "outputs": [
        {
          "output_type": "execute_result",
          "data": {
            "text/plain": [
              "'weights = torch.load(\"/content/drive/MyDrive/swin_unetr.pt\")\\nmodel.load_state_dict(weights)\\nmodel_unetr.load_from(weights=weight)\\nmodel.out = UnetOutBlock(spatial_dims=3, in_channels=1, out_channels=len(class_names) + 1)\\n'"
            ],
            "application/vnd.google.colaboratory.intrinsic+json": {
              "type": "string"
            }
          },
          "metadata": {},
          "execution_count": 38
        }
      ]
    },
    {
      "cell_type": "markdown",
      "source": [
        "We use a mix of cross entropy and Dice loss. For the cross entropy loss, we weigh class 0 (background) with 0.1, since there's a lot of it."
      ],
      "metadata": {
        "id": "mooAcUX66Uqm"
      }
    },
    {
      "cell_type": "code",
      "source": [
        "ce_weight = torch.ones(len(class_names) + 1, device='cuda')\n",
        "ce_weight[0] = 0.1\n",
        "\n",
        "loss_fn = monai.losses.DiceCELoss(\n",
        "    ce_weight=ce_weight,\n",
        "    to_onehot_y=True,\n",
        "    softmax=True,\n",
        "    include_background=True,\n",
        ")\n",
        "optimizer = torch.optim.Adam(\n",
        "    model.parameters(),\n",
        "    lr=1e-4,\n",
        ")"
      ],
      "metadata": {
        "id": "9sand_zu6Uqm",
        "colab": {
          "base_uri": "https://localhost:8080/"
        },
        "outputId": "9e3c59c8-3024-43b2-aa56-a3028b515dcd"
      },
      "execution_count": 39,
      "outputs": [
        {
          "output_type": "stream",
          "name": "stderr",
          "text": [
            "monai.losses.dice DiceCELoss.__init__:ce_weight: Argument `ce_weight` has been deprecated since version 1.2. It will be removed in version 1.4. please use `weight` instead.\n"
          ]
        }
      ]
    },
    {
      "cell_type": "markdown",
      "source": [
        "Define function to mix the images together"
      ],
      "metadata": {
        "id": "i_Da2P47EKDn"
      }
    },
    {
      "cell_type": "code",
      "source": [
        "def mix_images(originals, masks):\n",
        "    \"\"\"\n",
        "    Mixes multiple 3D images without overlapping non-zero values.\n",
        "\n",
        "    Args:\n",
        "        masks (torch.Tensor): Tensor containing multiple 3D images.\n",
        "\n",
        "    Returns:\n",
        "        torch.Tensor: Mixed images.\n",
        "    \"\"\"\n",
        "    #print(f'masks: {type(masks)}, {masks.dtype}')\n",
        "\n",
        "    #print(f'originals: {type(originals)}, {originals.dtype}')\n",
        "\n",
        "    batch_size, depth, height, width = masks.shape\n",
        "    #print(f'd: {depth}, h: {height}, w: {width}')\n",
        "\n",
        "    mixed_masks = torch.zeros_like(masks)\n",
        "    mixed_originals = torch.zeros_like(originals)\n",
        "    #print(mixed_masks.shape)\n",
        "\n",
        "    for batch_idx in range(batch_size):\n",
        "        # Get the current image\n",
        "        current_mask = masks[batch_idx]\n",
        "        current_original = originals[batch_idx]\n",
        "\n",
        "        final_indices = [batch_idx]\n",
        "        #print(f'batch_idx: {batch_idx}')\n",
        "\n",
        "        # Randomly select a subset of images\n",
        "        num_images_to_mix = random.randint(0, batch_size-1)\n",
        "        #print(f'num_images_to_mix: {num_images_to_mix}')\n",
        "        final_masks = [current_mask]\n",
        "        final_originals = [current_original]\n",
        "\n",
        "        while len(final_indices)-1 < num_images_to_mix:\n",
        "          samples = random.sample(range(batch_size), 1)\n",
        "          index = samples[0]\n",
        "          if index not in final_indices:\n",
        "            #print(f'index: {index}')\n",
        "            final_indices.append(index)\n",
        "            final_masks.append(masks[index])\n",
        "            final_originals.append(originals[index])\n",
        "\n",
        "        # Create a canvas to overlay images without overlapping non-zero values\n",
        "        canvas_original = torch.zeros_like(current_original)\n",
        "        canvas_mask = torch.zeros_like(current_mask)\n",
        "        #print(\"Overlay\")\n",
        "\n",
        "        # Iterate over the masks\n",
        "        for i, mask in enumerate(final_masks):\n",
        "            non_zero_locations = mask.nonzero()\n",
        "# SHOULD CHANGE ANY TO ALL\n",
        "            has_zeros_in_locations = (canvas_mask[non_zero_locations[:, 0], non_zero_locations[:, 1], non_zero_locations[:, 2]] == 0).all()\n",
        "\n",
        "            if has_zeros_in_locations:\n",
        "              canvas_mask += mask\n",
        "              canvas_original += final_originals[i]\n",
        "\n",
        "        mixed_masks[batch_idx] = canvas_mask\n",
        "        mixed_originals[batch_idx] = canvas_original\n",
        "\n",
        "    return mixed_originals, mixed_masks"
      ],
      "metadata": {
        "id": "_ooFkrnyYaNE"
      },
      "execution_count": 40,
      "outputs": []
    },
    {
      "cell_type": "code",
      "source": [
        "class EarlyStopping:\n",
        "    def __init__(self, patience=5, min_delta=0, mode='min', baseline=None):\n",
        "        \"\"\"\n",
        "        Early stopping to terminate training when a metric doesn't improve after a given number of epochs.\n",
        "\n",
        "        Args:\n",
        "            patience (int): How many epochs to wait before stopping if no improvement.\n",
        "            min_delta (float): Minimum change in the monitored metric to qualify as an improvement.\n",
        "            mode (str): 'min' for a metric that should decrease, 'max' for a metric that should increase.\n",
        "            baseline (float): An initial baseline to compare against.\n",
        "        \"\"\"\n",
        "        self.patience = patience\n",
        "        self.min_delta = min_delta\n",
        "        self.mode = mode\n",
        "        self.best_metric = baseline\n",
        "        self.wait = 0\n",
        "        self.early_stop = False\n",
        "\n",
        "        if mode == 'min':\n",
        "            self.best_metric = float('inf') if baseline is None else baseline\n",
        "        elif mode == 'max':\n",
        "            self.best_metric = float('-inf') if baseline is None else baseline\n",
        "        else:\n",
        "            raise ValueError(\"Mode should be 'min' or 'max'\")\n",
        "\n",
        "    def update(self, current_metric):\n",
        "        \"\"\"\n",
        "        Updates the early stopping status.\n",
        "\n",
        "        Args:\n",
        "            current_metric (float): Current value of the monitored metric.\n",
        "        \"\"\"\n",
        "        if self.mode == 'min':\n",
        "            improved = (current_metric < self.best_metric - self.min_delta)\n",
        "        else:  # 'max'\n",
        "            improved = (current_metric > self.best_metric + self.min_delta)\n",
        "\n",
        "        if improved:\n",
        "            self.best_metric = current_metric\n",
        "            self.wait = 0\n",
        "            self.early_stop = False\n",
        "        else:\n",
        "            self.wait += 1\n",
        "            if self.wait >= self.patience:\n",
        "                self.early_stop = True\n"
      ],
      "metadata": {
        "id": "F_DIeQ6Fm_9S"
      },
      "execution_count": 41,
      "outputs": []
    },
    {
      "cell_type": "markdown",
      "source": [
        " Run the training. This will take several hours sadly..."
      ],
      "metadata": {
        "id": "1C5WPZyk6Uqm"
      }
    },
    {
      "cell_type": "code",
      "source": [
        "# Initialize early stopping with a patience of 5 epochs and no minimum change required for improvement\n",
        "early_stopping = EarlyStopping(patience=5, min_delta=0, mode='min')\n",
        "\n",
        "val_every = 1\n",
        "\n",
        "train_losses = []\n",
        "val_losses = []\n",
        "epoch_train_losses = []\n",
        "epoch_val_losses = []\n",
        "val_loss_mean = None\n",
        "best_metric = float('inf')\n",
        "model_path = 'best_model.pth'  # Path to save the best model\n",
        "\n",
        "for epoch in range(100):\n",
        "    model.train()\n",
        "\n",
        "    loss_mean = 0\n",
        "    num_batches = 0\n",
        "    for batch in tqdm(train_loader):\n",
        "        inputs = batch['image'].cuda()\n",
        "        label = batch['label'].argmax(dim=1).cuda()\n",
        "        expected = batch['mask'].cuda() * (label.view(-1, 1, 1, 1) + 1)\n",
        "\n",
        "        inputs, expected = mix_images(inputs, expected)\n",
        "\n",
        "        optimizer.zero_grad()\n",
        "        outputs = model(inputs)\n",
        "\n",
        "        loss = loss_fn(outputs, expected.unsqueeze(1))\n",
        "\n",
        "        loss.backward()\n",
        "        optimizer.step()\n",
        "\n",
        "        with torch.no_grad():\n",
        "            loss_mean += loss.item()\n",
        "            num_batches += 1\n",
        "            train_losses.append(loss.item())\n",
        "\n",
        "\n",
        "    loss_mean /= num_batches\n",
        "    epoch_train_losses.append(loss_mean)\n",
        "\n",
        "    if epoch % val_every == 0:\n",
        "        model.eval()\n",
        "\n",
        "        val_loss_mean = 0\n",
        "        num_batches = 0\n",
        "        for batch in tqdm(val_loader):\n",
        "            inputs = batch['image'].cuda()\n",
        "            label = batch['label'].argmax(dim=1).cuda()\n",
        "            expected = batch['mask'].cuda() * (label.view(-1, 1, 1, 1) + 1)\n",
        "\n",
        "            inputs, expected = mix_images(inputs, expected)\n",
        "\n",
        "            with torch.no_grad():\n",
        "                outputs = model(inputs)\n",
        "                loss = loss_fn(outputs, expected.unsqueeze(1))\n",
        "                val_loss_mean += loss.item()\n",
        "                num_batches += 1\n",
        "                val_losses.append(loss.item())\n",
        "\n",
        "        val_loss_mean /= num_batches\n",
        "        epoch_val_losses.append(val_loss_mean)\n",
        "\n",
        "        # If the model improved, save it\n",
        "        if val_loss_mean < best_metric:\n",
        "            best_metric = val_loss_mean\n",
        "            torch.save(model.state_dict(), model_path)\n",
        "            print(\"Saving new best model\")\n",
        "\n",
        "        # Update early stopping with the current validation loss\n",
        "        early_stopping.update(val_loss_mean)\n",
        "\n",
        "        # If early stopping is triggered, break the training loop\n",
        "        if early_stopping.early_stop:\n",
        "            print(f\"Early stopping triggered at epoch {epoch + 1}\")\n",
        "            break\n",
        "\n",
        "    # Save a checkpoint at the end of each epoch\n",
        "    checkpoint = {\n",
        "        'model': model.state_dict(),\n",
        "        'optimizer': optimizer.state_dict(),\n",
        "        'epoch': epoch,\n",
        "        'train_losses': train_losses,\n",
        "        'val_losses': val_losses,\n",
        "        'epoch_train_losses': epoch_train_losses,\n",
        "        'epoch_val_losses': epoch_val_losses,\n",
        "        'best_metric': best_metric,\n",
        "    }\n",
        "    torch.save(checkpoint, 'latest_model.ckpt')\n",
        "\n",
        "    print(f\"Epoch {epoch + 1}, loss: {loss_mean:.4f}, val. loss: {val_loss_mean:.4f}\")"
      ],
      "metadata": {
        "id": "DOqjb6b_6Uqm",
        "colab": {
          "base_uri": "https://localhost:8080/",
          "height": 373
        },
        "outputId": "684371f8-4bd8-43c8-f068-909467c8e254"
      },
      "execution_count": 48,
      "outputs": [
        {
          "output_type": "stream",
          "name": "stderr",
          "text": [
            "  6%|▌         | 46/800 [01:41<27:47,  2.21s/it]\n"
          ]
        },
        {
          "output_type": "error",
          "ename": "KeyboardInterrupt",
          "evalue": "",
          "traceback": [
            "\u001b[0;31m---------------------------------------------------------------------------\u001b[0m",
            "\u001b[0;31mKeyboardInterrupt\u001b[0m                         Traceback (most recent call last)",
            "\u001b[0;32m<ipython-input-48-b02ccabe760f>\u001b[0m in \u001b[0;36m<cell line: 14>\u001b[0;34m()\u001b[0m\n\u001b[1;32m     33\u001b[0m \u001b[0;34m\u001b[0m\u001b[0m\n\u001b[1;32m     34\u001b[0m         \u001b[0;32mwith\u001b[0m \u001b[0mtorch\u001b[0m\u001b[0;34m.\u001b[0m\u001b[0mno_grad\u001b[0m\u001b[0;34m(\u001b[0m\u001b[0;34m)\u001b[0m\u001b[0;34m:\u001b[0m\u001b[0;34m\u001b[0m\u001b[0;34m\u001b[0m\u001b[0m\n\u001b[0;32m---> 35\u001b[0;31m             \u001b[0mloss_mean\u001b[0m \u001b[0;34m+=\u001b[0m \u001b[0mloss\u001b[0m\u001b[0;34m.\u001b[0m\u001b[0mitem\u001b[0m\u001b[0;34m(\u001b[0m\u001b[0;34m)\u001b[0m\u001b[0;34m\u001b[0m\u001b[0;34m\u001b[0m\u001b[0m\n\u001b[0m\u001b[1;32m     36\u001b[0m             \u001b[0mnum_batches\u001b[0m \u001b[0;34m+=\u001b[0m \u001b[0;36m1\u001b[0m\u001b[0;34m\u001b[0m\u001b[0;34m\u001b[0m\u001b[0m\n\u001b[1;32m     37\u001b[0m             \u001b[0mtrain_losses\u001b[0m\u001b[0;34m.\u001b[0m\u001b[0mappend\u001b[0m\u001b[0;34m(\u001b[0m\u001b[0mloss\u001b[0m\u001b[0;34m.\u001b[0m\u001b[0mitem\u001b[0m\u001b[0;34m(\u001b[0m\u001b[0;34m)\u001b[0m\u001b[0;34m)\u001b[0m\u001b[0;34m\u001b[0m\u001b[0;34m\u001b[0m\u001b[0m\n",
            "\u001b[0;32m/usr/local/lib/python3.10/dist-packages/monai/data/meta_tensor.py\u001b[0m in \u001b[0;36m__torch_function__\u001b[0;34m(cls, func, types, args, kwargs)\u001b[0m\n\u001b[1;32m    280\u001b[0m         \u001b[0;32mif\u001b[0m \u001b[0mkwargs\u001b[0m \u001b[0;32mis\u001b[0m \u001b[0;32mNone\u001b[0m\u001b[0;34m:\u001b[0m\u001b[0;34m\u001b[0m\u001b[0;34m\u001b[0m\u001b[0m\n\u001b[1;32m    281\u001b[0m             \u001b[0mkwargs\u001b[0m \u001b[0;34m=\u001b[0m \u001b[0;34m{\u001b[0m\u001b[0;34m}\u001b[0m\u001b[0;34m\u001b[0m\u001b[0;34m\u001b[0m\u001b[0m\n\u001b[0;32m--> 282\u001b[0;31m         \u001b[0mret\u001b[0m \u001b[0;34m=\u001b[0m \u001b[0msuper\u001b[0m\u001b[0;34m(\u001b[0m\u001b[0;34m)\u001b[0m\u001b[0;34m.\u001b[0m\u001b[0m__torch_function__\u001b[0m\u001b[0;34m(\u001b[0m\u001b[0mfunc\u001b[0m\u001b[0;34m,\u001b[0m \u001b[0mtypes\u001b[0m\u001b[0;34m,\u001b[0m \u001b[0margs\u001b[0m\u001b[0;34m,\u001b[0m \u001b[0mkwargs\u001b[0m\u001b[0;34m)\u001b[0m\u001b[0;34m\u001b[0m\u001b[0;34m\u001b[0m\u001b[0m\n\u001b[0m\u001b[1;32m    283\u001b[0m         \u001b[0;31m# if `out` has been used as argument, metadata is not copied, nothing to do.\u001b[0m\u001b[0;34m\u001b[0m\u001b[0;34m\u001b[0m\u001b[0m\n\u001b[1;32m    284\u001b[0m         \u001b[0;31m# if \"out\" in kwargs:\u001b[0m\u001b[0;34m\u001b[0m\u001b[0;34m\u001b[0m\u001b[0m\n",
            "\u001b[0;32m/usr/local/lib/python3.10/dist-packages/torch/_tensor.py\u001b[0m in \u001b[0;36m__torch_function__\u001b[0;34m(cls, func, types, args, kwargs)\u001b[0m\n\u001b[1;32m   1416\u001b[0m \u001b[0;34m\u001b[0m\u001b[0m\n\u001b[1;32m   1417\u001b[0m         \u001b[0;32mwith\u001b[0m \u001b[0m_C\u001b[0m\u001b[0;34m.\u001b[0m\u001b[0mDisableTorchFunctionSubclass\u001b[0m\u001b[0;34m(\u001b[0m\u001b[0;34m)\u001b[0m\u001b[0;34m:\u001b[0m\u001b[0;34m\u001b[0m\u001b[0;34m\u001b[0m\u001b[0m\n\u001b[0;32m-> 1418\u001b[0;31m             \u001b[0mret\u001b[0m \u001b[0;34m=\u001b[0m \u001b[0mfunc\u001b[0m\u001b[0;34m(\u001b[0m\u001b[0;34m*\u001b[0m\u001b[0margs\u001b[0m\u001b[0;34m,\u001b[0m \u001b[0;34m**\u001b[0m\u001b[0mkwargs\u001b[0m\u001b[0;34m)\u001b[0m\u001b[0;34m\u001b[0m\u001b[0;34m\u001b[0m\u001b[0m\n\u001b[0m\u001b[1;32m   1419\u001b[0m             \u001b[0;32mif\u001b[0m \u001b[0mfunc\u001b[0m \u001b[0;32min\u001b[0m \u001b[0mget_default_nowrap_functions\u001b[0m\u001b[0;34m(\u001b[0m\u001b[0;34m)\u001b[0m\u001b[0;34m:\u001b[0m\u001b[0;34m\u001b[0m\u001b[0;34m\u001b[0m\u001b[0m\n\u001b[1;32m   1420\u001b[0m                 \u001b[0;32mreturn\u001b[0m \u001b[0mret\u001b[0m\u001b[0;34m\u001b[0m\u001b[0;34m\u001b[0m\u001b[0m\n",
            "\u001b[0;31mKeyboardInterrupt\u001b[0m: "
          ]
        }
      ]
    },
    {
      "cell_type": "code",
      "source": [
        "epoch"
      ],
      "metadata": {
        "id": "2egcHyVl6Uqn"
      },
      "execution_count": null,
      "outputs": []
    },
    {
      "cell_type": "markdown",
      "source": [
        "Let's see the val losses"
      ],
      "metadata": {
        "id": "dxSIdmTH6Uqn"
      }
    },
    {
      "cell_type": "code",
      "source": [
        "plt.plot(epoch_val_losses)"
      ],
      "metadata": {
        "id": "4byv5J2j6Uqn"
      },
      "execution_count": null,
      "outputs": []
    },
    {
      "cell_type": "markdown",
      "source": [
        "Not much and then we suddenly drop to good performance. Weird, but we'll take it for now.\n",
        "\n",
        "It would likely be smart to look further into this - but for now, let's just use the trained model to predict the test set."
      ],
      "metadata": {
        "id": "aCyM3F1u6Uqx"
      }
    },
    {
      "cell_type": "markdown",
      "source": [
        "## Predictions on single bugs\n",
        "\n",
        "First, we'll try it out on the validation examples with single bugs, just as a sanity check that it works for the trained task. To do this, we'll make a helper function:"
      ],
      "metadata": {
        "id": "HEYATjJ-6Uqy"
      }
    },
    {
      "cell_type": "code",
      "source": [
        "# Load the state dictionary\n",
        "model_path = 'best_model.pth'\n",
        "state_dict = torch.load(model_path)\n",
        "\n",
        "# Apply the state dictionary to your model\n",
        "model.load_state_dict(state_dict)"
      ],
      "metadata": {
        "id": "Bg5W74H1lFyN"
      },
      "execution_count": null,
      "outputs": []
    },
    {
      "cell_type": "code",
      "source": [
        "from skimage import measure\n",
        "\n",
        "def predict(image):\n",
        "    with torch.no_grad():\n",
        "        pred = model(image)\n",
        "    pred_sm = pred.softmax(dim=1).cpu().numpy()\n",
        "    class_props = []\n",
        "    for i in range(1, 13):\n",
        "        props = measure.regionprops(\n",
        "            measure.label(pred_sm[0, i] > 0.5)\n",
        "        )\n",
        "        props = [p for p in props if p.area > 5**3]\n",
        "        class_props.append(props)\n",
        "\n",
        "    boxes = np.array([p.bbox for props in class_props for p in props])\n",
        "    centers = np.array([p.centroid for props in class_props for p in props])\n",
        "    labels = np.array([i + 1 for i, props in enumerate(class_props) for p in props])\n",
        "    scores = np.ones(len(boxes))\n",
        "    return {\n",
        "        'boxes': boxes,\n",
        "        'centers': centers,\n",
        "        'labels': labels,\n",
        "        'scores': scores,\n",
        "        'pred': pred_sm,\n",
        "    }"
      ],
      "metadata": {
        "id": "cNo3c1qp6Uqy"
      },
      "execution_count": null,
      "outputs": []
    },
    {
      "cell_type": "markdown",
      "source": [
        "Now, load an image and run a prediction:"
      ],
      "metadata": {
        "id": "79vSy6s96Uqy"
      }
    },
    {
      "cell_type": "code",
      "source": [
        "from skimage.io import imread\n",
        "\n",
        "fname = val_images[70]\n",
        "image = imread(fname)\n",
        "print(fname)"
      ],
      "metadata": {
        "id": "FNgIWKaq6Uqy"
      },
      "execution_count": null,
      "outputs": []
    },
    {
      "cell_type": "code",
      "source": [
        "image = np.pad(image / 255.0, ((0, 0), (32, 32), (32, 32)))\n",
        "pred = predict(torch.tensor(image[None, None]).float().cuda())"
      ],
      "metadata": {
        "id": "RlfCiJw26Uqy"
      },
      "execution_count": null,
      "outputs": []
    },
    {
      "cell_type": "code",
      "source": [
        "np.unique(pred['pred'][0].argmax(axis=0))"
      ],
      "metadata": {
        "id": "krpPUKuO6Uqy"
      },
      "execution_count": null,
      "outputs": []
    },
    {
      "cell_type": "code",
      "source": [
        "from matplotlib.patches import Rectangle\n",
        "\n",
        "a = 1\n",
        "\n",
        "#fig, ax = plt.subplots(figsize=(10, 10))\n",
        "fig, ax = plt.subplots()\n",
        "ax.imshow(image.max(axis=a), cmap='gray')\n",
        "ax.imshow(pred['pred'][0].argmax(axis=0).max(axis=a), alpha=0.5, interpolation='none')\n",
        "for box, center, label in zip(pred['boxes'], pred['centers'], pred['labels']):\n",
        "    if a == 0:\n",
        "        center = (center[2] - 0.5, center[1] - 0.5)\n",
        "        xy = (box[2] - 0.5, box[1] - 0.5)\n",
        "        height = box[4] - box[1]\n",
        "        width = box[5] - box[2]\n",
        "    elif a == 1:\n",
        "        center = (center[2] - 0.5, center[0] - 0.5)\n",
        "        xy = (box[2] - 0.5, box[0] - 0.5)\n",
        "        height = box[3] - box[0]\n",
        "        width = box[5] - box[2]\n",
        "    else:\n",
        "        center = (center[1] - 0.5, center[0] - 0.5)\n",
        "        xy = (box[1] - 0.5, box[0] - 0.5)\n",
        "        height = box[3] - box[0]\n",
        "        width = box[4] - box[1]\n",
        "    ax.add_patch(\n",
        "        Rectangle(xy, width, height, edgecolor='r', facecolor='none'))\n",
        "    ax.plot(center[0], center[1], 'ro')\n",
        "    ax.text(xy[0], xy[1] - 1, class_names[label - 1], color='r')"
      ],
      "metadata": {
        "id": "YoGtTlaO6Uqy"
      },
      "execution_count": null,
      "outputs": []
    },
    {
      "cell_type": "markdown",
      "source": [
        "# Predictions on mixed volumes\n",
        "\n",
        "Satisfied it works on the single bugs, we'll now try the validation examples with a mixture of bugs:"
      ],
      "metadata": {
        "id": "QBWEyoci6Uqz"
      }
    },
    {
      "cell_type": "code",
      "source": [
        "validation_dir = '/content/BugNIST_DATA/validation/'"
      ],
      "metadata": {
        "id": "LvE6K36_NGur"
      },
      "execution_count": null,
      "outputs": []
    },
    {
      "cell_type": "code",
      "source": [
        "mixed_images = sorted(glob.glob(validation_dir + '*.tif'))"
      ],
      "metadata": {
        "id": "0eQTxU9h6Uqz"
      },
      "execution_count": null,
      "outputs": []
    },
    {
      "cell_type": "code",
      "source": [
        "fname = mixed_images[10]\n",
        "image = imread(fname)\n",
        "image = np.pad(image / 255.0, ((0, 0), (18, 18), (18, 18)))  # Pad to even side length\n",
        "image.shape"
      ],
      "metadata": {
        "id": "LN3enWZd6Uqz"
      },
      "execution_count": null,
      "outputs": []
    },
    {
      "cell_type": "code",
      "source": [
        "plt.imshow(image.max(axis=1), cmap='gray')"
      ],
      "metadata": {
        "id": "ZZaoFulI6Uqz"
      },
      "execution_count": null,
      "outputs": []
    },
    {
      "cell_type": "code",
      "source": [
        "pred = predict(torch.tensor(image[None, None]).float().cuda())"
      ],
      "metadata": {
        "id": "Y6lzWzFa6Uqz"
      },
      "execution_count": null,
      "outputs": []
    },
    {
      "cell_type": "code",
      "source": [
        "np.unique(pred['pred'][0].argmax(axis=0))"
      ],
      "metadata": {
        "id": "yeUsP2KY6Uqz"
      },
      "execution_count": null,
      "outputs": []
    },
    {
      "cell_type": "code",
      "source": [
        "from matplotlib.patches import Rectangle\n",
        "\n",
        "a = 2\n",
        "\n",
        "#fig, ax = plt.subplots(figsize=(10, 10))\n",
        "fig, ax = plt.subplots()\n",
        "ax.imshow(image.max(axis=a), cmap='gray')\n",
        "ax.imshow(pred['pred'][0].argmax(axis=0).max(axis=a), alpha=0.5, interpolation='none')\n",
        "for box, center, label in zip(pred['boxes'], pred['centers'], pred['labels']):\n",
        "    if a == 0:\n",
        "        center = (center[2] - 0.5, center[1] - 0.5)\n",
        "        xy = (box[2] - 0.5, box[1] - 0.5)\n",
        "        height = box[4] - box[1]\n",
        "        width = box[5] - box[2]\n",
        "    elif a == 1:\n",
        "        center = (center[2] - 0.5, center[0] - 0.5)\n",
        "        xy = (box[2] - 0.5, box[0] - 0.5)\n",
        "        height = box[3] - box[0]\n",
        "        width = box[5] - box[2]\n",
        "    else:\n",
        "        center = (center[1] - 0.5, center[0] - 0.5)\n",
        "        xy = (box[1] - 0.5, box[0] - 0.5)\n",
        "        height = box[3] - box[0]\n",
        "        width = box[4] - box[1]\n",
        "    ax.add_patch(\n",
        "        Rectangle(xy, width, height, edgecolor='r', facecolor='none'))\n",
        "    ax.plot(center[0], center[1], 'ro')\n",
        "    ax.text(xy[0], xy[1] - 1, class_names[label - 1], color='r')"
      ],
      "metadata": {
        "id": "FC8EqQbc6Uqz"
      },
      "execution_count": null,
      "outputs": []
    },
    {
      "cell_type": "markdown",
      "source": [
        "Performance is not *great*, but it's finding something. This is to be expected when the model has only seen single bugs during training. Someone should get on that ;-)\n",
        "\n",
        "Let's now try to format our predictions in the competition format. First, we load the sample CSV file"
      ],
      "metadata": {
        "id": "D9Yio2xN6Uq0"
      }
    },
    {
      "cell_type": "code",
      "source": [
        "import pandas as pd\n",
        "\n",
        "validation = pd.read_csv(validation_dir + 'validation.csv')"
      ],
      "metadata": {
        "id": "E1CLVuFW6Uq0"
      },
      "execution_count": null,
      "outputs": []
    },
    {
      "cell_type": "code",
      "source": [
        "validation.set_index('filename', inplace=True)\n",
        "validation"
      ],
      "metadata": {
        "id": "mmovrNie6Uq0"
      },
      "execution_count": null,
      "outputs": []
    },
    {
      "cell_type": "markdown",
      "source": [
        "Now, let's load the row corresponding to our current file"
      ],
      "metadata": {
        "id": "oaLG9zjc6Uq0"
      }
    },
    {
      "cell_type": "code",
      "source": [
        "from pathlib import Path\n",
        "\n",
        "fname = Path(fname)\n",
        "fname.name"
      ],
      "metadata": {
        "id": "UVMDQumD6Uq0"
      },
      "execution_count": null,
      "outputs": []
    },
    {
      "cell_type": "markdown",
      "source": [
        "and unpack it to get the points"
      ],
      "metadata": {
        "id": "6UP3JP9S6Uq0"
      }
    },
    {
      "cell_type": "code",
      "source": [
        "val_string = validation.loc[fname.name][0]\n",
        "true_labels = val_string.split(';')[::4]\n",
        "true_centers = np.array([\n",
        "    [float(x) for x in val_string.split(';')[1::4]],\n",
        "    [float(x) for x in val_string.split(';')[2::4]],\n",
        "    [float(x) for x in val_string.split(';')[3::4]],\n",
        "]).T\n",
        "\n",
        "true_centers = true_centers[:, [2, 1, 0]]\n",
        "true_centers += np.array([[0, 18, 18]])\n",
        "\n",
        "print(true_labels)\n",
        "print(true_centers)"
      ],
      "metadata": {
        "id": "gK7ym7H66Uq0"
      },
      "execution_count": null,
      "outputs": []
    },
    {
      "cell_type": "markdown",
      "source": [
        "Let's now plot them. Importantly, we use the same plotting code as before, so we can be fairly confident that our predictions have the correct coordinates"
      ],
      "metadata": {
        "id": "DsdvfDo56Uq1"
      }
    },
    {
      "cell_type": "code",
      "source": [
        "a = 1\n",
        "\n",
        "#fig, ax = plt.subplots(figsize=(10, 10))\n",
        "fig, ax = plt.subplots()\n",
        "ax.imshow(image.max(axis=a), cmap='gray')\n",
        "for center, label in zip(true_centers, true_labels):\n",
        "    if a == 0:\n",
        "        center = (center[2] - 0.5, center[1] - 0.5)\n",
        "    elif a == 1:\n",
        "        center = (center[2] - 0.5, center[0] - 0.5)\n",
        "    else:\n",
        "        center = (center[1] - 0.5, center[0] - 0.5)\n",
        "    ax.plot(center[0], center[1], 'ro')\n",
        "    ax.text(center[0], center[1] - 1, label, color='r')"
      ],
      "metadata": {
        "id": "xsFFE6YV6Uq1"
      },
      "execution_count": null,
      "outputs": []
    },
    {
      "cell_type": "markdown",
      "source": [
        "Looks good. Let's now make a helper function that takes a list of points and packs into the format needed for a competition solution:"
      ],
      "metadata": {
        "id": "JVGt2yee6Uq1"
      }
    },
    {
      "cell_type": "code",
      "source": [
        "def pack_prediction(centers, labels):\n",
        "    if centers.shape == (0,):\n",
        "      print(\"Found empty prediction..\")\n",
        "      return\n",
        "    centers = centers - np.array([[0, 18, 18]])\n",
        "    strings = []\n",
        "    for l, c in zip(labels, centers):\n",
        "        strings.append(f\"{l};{c[2]};{c[1]};{c[0]}\")\n",
        "    return \";\".join(strings)"
      ],
      "metadata": {
        "id": "GddaZg4t6Uq1"
      },
      "execution_count": null,
      "outputs": []
    },
    {
      "cell_type": "markdown",
      "source": [
        "Testing it out:"
      ],
      "metadata": {
        "id": "lDAQ_b6y6Uq1"
      }
    },
    {
      "cell_type": "code",
      "source": [
        "validation.loc[fname.name][0]"
      ],
      "metadata": {
        "id": "ZrVv5mZ-6Uq1"
      },
      "execution_count": null,
      "outputs": []
    },
    {
      "cell_type": "code",
      "source": [
        "pack_prediction(true_centers, true_labels)"
      ],
      "metadata": {
        "id": "29gkkATD6Uq1"
      },
      "execution_count": null,
      "outputs": []
    },
    {
      "cell_type": "markdown",
      "source": [
        "Looks good. It packs the data back to the same format.\n",
        "\n",
        "Now, we need to convert our prediction labels to the string labels used in the competition:"
      ],
      "metadata": {
        "id": "dr7hBt3u6Uq1"
      }
    },
    {
      "cell_type": "code",
      "source": [
        "pred_text_labels = [class_names[l - 1].lower() for l in pred['labels']]\n",
        "pred_text_labels"
      ],
      "metadata": {
        "id": "x9McW17R6Uq2"
      },
      "execution_count": null,
      "outputs": []
    },
    {
      "cell_type": "markdown",
      "source": [
        "and we can now build a competition submission row for this image:"
      ],
      "metadata": {
        "id": "f00iZXp56Uq2"
      }
    },
    {
      "cell_type": "code",
      "source": [
        "pack_prediction(pred['centers'], pred_text_labels)"
      ],
      "metadata": {
        "id": "Ci8smtpv6Uq2"
      },
      "execution_count": null,
      "outputs": []
    },
    {
      "cell_type": "markdown",
      "source": [
        "Let's now run a prediction run on all the validation volumes"
      ],
      "metadata": {
        "id": "MWnAIMxO6Uq2"
      }
    },
    {
      "cell_type": "code",
      "source": [
        "submission = {\n",
        "    'filenames': [],\n",
        "    'centerpoints': [],\n",
        "}\n",
        "\n",
        "for fname in tqdm(mixed_images):\n",
        "    image = imread(fname)\n",
        "    image = np.pad(image / 255.0, ((0, 0), (18, 18), (18, 18)))\n",
        "    pred = predict(torch.tensor(image[None, None]).float().cuda())\n",
        "    pred_text_labels = [class_names[l - 1].lower() for l in pred['labels']]\n",
        "    pred_text = pack_prediction(pred['centers'], pred_text_labels)\n",
        "    submission['filenames'].append(Path(fname).name)\n",
        "    submission['centerpoints'].append(pred_text)"
      ],
      "metadata": {
        "id": "q5QkPljB6Uq2"
      },
      "execution_count": null,
      "outputs": []
    },
    {
      "cell_type": "code",
      "source": [
        "print(pred['centers'])\n",
        "print(pred_text_labels)"
      ],
      "metadata": {
        "id": "r5aJiGfvxDIH"
      },
      "execution_count": null,
      "outputs": []
    },
    {
      "cell_type": "markdown",
      "source": [
        "Our submission would then be:"
      ],
      "metadata": {
        "id": "KNvT_HQ16Uq2"
      }
    },
    {
      "cell_type": "code",
      "source": [
        "submission = pd.DataFrame(submission)\n",
        "submission"
      ],
      "metadata": {
        "id": "xxGwT4R86Uq2"
      },
      "execution_count": null,
      "outputs": []
    },
    {
      "cell_type": "markdown",
      "source": [
        "Which matches the format from the supplied csv file:"
      ],
      "metadata": {
        "id": "hCTswChQ6Uq2"
      }
    },
    {
      "cell_type": "code",
      "source": [
        "validation"
      ],
      "metadata": {
        "id": "6G1eIARt6Uq3"
      },
      "execution_count": null,
      "outputs": []
    },
    {
      "cell_type": "markdown",
      "source": [
        "# Predictions on public test volumes\n",
        "\n",
        "Finally, we can run a prediction run for the actual test volumes to build an actual submission:"
      ],
      "metadata": {
        "id": "xKRISMvs6Uq3"
      }
    },
    {
      "cell_type": "code",
      "source": [
        "test_dir = '/content/BugNIST_DATA/test/'"
      ],
      "metadata": {
        "id": "BUSUbIjTNUz6"
      },
      "execution_count": null,
      "outputs": []
    },
    {
      "cell_type": "code",
      "source": [
        "mixed_images = sorted(glob.glob(test_dir + '*.tif'))"
      ],
      "metadata": {
        "id": "uXyUBUE46Uq3"
      },
      "execution_count": null,
      "outputs": []
    },
    {
      "cell_type": "code",
      "source": [
        "submission = {\n",
        "    'filename': [],\n",
        "    'centerpoints': [],\n",
        "}\n",
        "for fname in tqdm(mixed_images):\n",
        "    image = imread(fname)\n",
        "    image = np.pad(image / 255.0, ((0, 0), (18, 18), (18, 18)))\n",
        "    pred = predict(torch.tensor(image[None, None]).float().cuda())\n",
        "    pred_text_labels = [class_names[l - 1].lower() for l in pred['labels']]\n",
        "    pred_text = pack_prediction(pred['centers'], pred_text_labels)\n",
        "    submission['filename'].append(Path(fname).name)\n",
        "    submission['centerpoints'].append(pred_text)"
      ],
      "metadata": {
        "id": "4YLhXzLD6Uq3"
      },
      "execution_count": null,
      "outputs": []
    },
    {
      "cell_type": "code",
      "source": [
        "submission = pd.DataFrame(submission)\n",
        "submission"
      ],
      "metadata": {
        "id": "7uCQE3Pz6Uq3"
      },
      "execution_count": null,
      "outputs": []
    },
    {
      "cell_type": "code",
      "source": [
        "submission.to_csv('submission.csv', index=False)"
      ],
      "metadata": {
        "id": "eKkgFo_X6Uq3"
      },
      "execution_count": null,
      "outputs": []
    },
    {
      "cell_type": "markdown",
      "source": [
        "That's it - ready to submit!"
      ],
      "metadata": {
        "id": "L_Kl9Y5R6Uq3"
      }
    }
  ]
}