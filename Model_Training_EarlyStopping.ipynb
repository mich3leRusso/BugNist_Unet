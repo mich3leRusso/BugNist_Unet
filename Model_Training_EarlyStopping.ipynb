{
  "metadata": {
    "kernelspec": {
      "display_name": "Python 3",
      "name": "python3"
    },
    "language_info": {
      "codemirror_mode": {
        "name": "ipython",
        "version": 3
      },
      "file_extension": ".py",
      "mimetype": "text/x-python",
      "name": "python",
      "nbconvert_exporter": "python",
      "pygments_lexer": "ipython3",
      "version": "3.9.14"
    },
    "kaggle": {
      "accelerator": "none",
      "dataSources": [
        {
          "sourceId": 71698,
          "databundleVersionId": 7906362,
          "sourceType": "competition"
        }
      ],
      "isInternetEnabled": true,
      "language": "python",
      "sourceType": "notebook",
      "isGpuEnabled": false
    },
    "colab": {
      "provenance": [],
      "gpuType": "T4",
      "include_colab_link": true
    },
    "accelerator": "GPU"
  },
  "nbformat_minor": 0,
  "nbformat": 4,
  "cells": [
    {
      "cell_type": "markdown",
      "metadata": {
        "id": "view-in-github",
        "colab_type": "text"
      },
      "source": [
        "<a href=\"https://colab.research.google.com/github/mich3leRusso/Deep_learning_last/blob/main/Model_Training_EarlyStopping.ipynb\" target=\"_parent\"><img src=\"https://colab.research.google.com/assets/colab-badge.svg\" alt=\"Open In Colab\"/></a>"
      ]
    },
    {
      "cell_type": "code",
      "source": [
        "from google.colab import drive\n",
        "drive.mount('/content/drive')"
      ],
      "metadata": {
        "colab": {
          "base_uri": "https://localhost:8080/"
        },
        "id": "vUbOf0d8GuWC",
        "outputId": "8539ce30-0d85-4967-d900-73e47edb76a4"
      },
      "execution_count": 1,
      "outputs": [
        {
          "output_type": "stream",
          "name": "stdout",
          "text": [
            "Mounted at /content/drive\n"
          ]
        }
      ]
    },
    {
      "cell_type": "code",
      "source": [
        "#!pip install kaggle\n",
        "!pip install monai\n",
        "!pip install 'monai[einops]'\n",
        "!pip install \"monai[fire]\""
      ],
      "metadata": {
        "colab": {
          "base_uri": "https://localhost:8080/"
        },
        "id": "GVi0GnrLJ4sU",
        "outputId": "c955f020-a2fb-4748-f745-0173c08ba1f9"
      },
      "execution_count": 2,
      "outputs": [
        {
          "output_type": "stream",
          "name": "stdout",
          "text": [
            "Collecting monai\n",
            "  Downloading monai-1.3.0-202310121228-py3-none-any.whl (1.3 MB)\n",
            "\u001b[2K     \u001b[90m━━━━━━━━━━━━━━━━━━━━━━━━━━━━━━━━━━━━━━━━\u001b[0m \u001b[32m1.3/1.3 MB\u001b[0m \u001b[31m7.4 MB/s\u001b[0m eta \u001b[36m0:00:00\u001b[0m\n",
            "\u001b[?25hRequirement already satisfied: numpy>=1.20 in /usr/local/lib/python3.10/dist-packages (from monai) (1.25.2)\n",
            "Requirement already satisfied: torch>=1.9 in /usr/local/lib/python3.10/dist-packages (from monai) (2.2.1+cu121)\n",
            "Requirement already satisfied: filelock in /usr/local/lib/python3.10/dist-packages (from torch>=1.9->monai) (3.14.0)\n",
            "Requirement already satisfied: typing-extensions>=4.8.0 in /usr/local/lib/python3.10/dist-packages (from torch>=1.9->monai) (4.11.0)\n",
            "Requirement already satisfied: sympy in /usr/local/lib/python3.10/dist-packages (from torch>=1.9->monai) (1.12)\n",
            "Requirement already satisfied: networkx in /usr/local/lib/python3.10/dist-packages (from torch>=1.9->monai) (3.3)\n",
            "Requirement already satisfied: jinja2 in /usr/local/lib/python3.10/dist-packages (from torch>=1.9->monai) (3.1.4)\n",
            "Requirement already satisfied: fsspec in /usr/local/lib/python3.10/dist-packages (from torch>=1.9->monai) (2023.6.0)\n",
            "Collecting nvidia-cuda-nvrtc-cu12==12.1.105 (from torch>=1.9->monai)\n",
            "  Using cached nvidia_cuda_nvrtc_cu12-12.1.105-py3-none-manylinux1_x86_64.whl (23.7 MB)\n",
            "Collecting nvidia-cuda-runtime-cu12==12.1.105 (from torch>=1.9->monai)\n",
            "  Using cached nvidia_cuda_runtime_cu12-12.1.105-py3-none-manylinux1_x86_64.whl (823 kB)\n",
            "Collecting nvidia-cuda-cupti-cu12==12.1.105 (from torch>=1.9->monai)\n",
            "  Using cached nvidia_cuda_cupti_cu12-12.1.105-py3-none-manylinux1_x86_64.whl (14.1 MB)\n",
            "Collecting nvidia-cudnn-cu12==8.9.2.26 (from torch>=1.9->monai)\n",
            "  Using cached nvidia_cudnn_cu12-8.9.2.26-py3-none-manylinux1_x86_64.whl (731.7 MB)\n",
            "Collecting nvidia-cublas-cu12==12.1.3.1 (from torch>=1.9->monai)\n",
            "  Using cached nvidia_cublas_cu12-12.1.3.1-py3-none-manylinux1_x86_64.whl (410.6 MB)\n",
            "Collecting nvidia-cufft-cu12==11.0.2.54 (from torch>=1.9->monai)\n",
            "  Using cached nvidia_cufft_cu12-11.0.2.54-py3-none-manylinux1_x86_64.whl (121.6 MB)\n",
            "Collecting nvidia-curand-cu12==10.3.2.106 (from torch>=1.9->monai)\n",
            "  Using cached nvidia_curand_cu12-10.3.2.106-py3-none-manylinux1_x86_64.whl (56.5 MB)\n",
            "Collecting nvidia-cusolver-cu12==11.4.5.107 (from torch>=1.9->monai)\n",
            "  Using cached nvidia_cusolver_cu12-11.4.5.107-py3-none-manylinux1_x86_64.whl (124.2 MB)\n",
            "Collecting nvidia-cusparse-cu12==12.1.0.106 (from torch>=1.9->monai)\n",
            "  Using cached nvidia_cusparse_cu12-12.1.0.106-py3-none-manylinux1_x86_64.whl (196.0 MB)\n",
            "Collecting nvidia-nccl-cu12==2.19.3 (from torch>=1.9->monai)\n",
            "  Using cached nvidia_nccl_cu12-2.19.3-py3-none-manylinux1_x86_64.whl (166.0 MB)\n",
            "Collecting nvidia-nvtx-cu12==12.1.105 (from torch>=1.9->monai)\n",
            "  Using cached nvidia_nvtx_cu12-12.1.105-py3-none-manylinux1_x86_64.whl (99 kB)\n",
            "Requirement already satisfied: triton==2.2.0 in /usr/local/lib/python3.10/dist-packages (from torch>=1.9->monai) (2.2.0)\n",
            "Collecting nvidia-nvjitlink-cu12 (from nvidia-cusolver-cu12==11.4.5.107->torch>=1.9->monai)\n",
            "  Using cached nvidia_nvjitlink_cu12-12.4.127-py3-none-manylinux2014_x86_64.whl (21.1 MB)\n",
            "Requirement already satisfied: MarkupSafe>=2.0 in /usr/local/lib/python3.10/dist-packages (from jinja2->torch>=1.9->monai) (2.1.5)\n",
            "Requirement already satisfied: mpmath>=0.19 in /usr/local/lib/python3.10/dist-packages (from sympy->torch>=1.9->monai) (1.3.0)\n",
            "Installing collected packages: nvidia-nvtx-cu12, nvidia-nvjitlink-cu12, nvidia-nccl-cu12, nvidia-curand-cu12, nvidia-cufft-cu12, nvidia-cuda-runtime-cu12, nvidia-cuda-nvrtc-cu12, nvidia-cuda-cupti-cu12, nvidia-cublas-cu12, nvidia-cusparse-cu12, nvidia-cudnn-cu12, nvidia-cusolver-cu12, monai\n",
            "Successfully installed monai-1.3.0 nvidia-cublas-cu12-12.1.3.1 nvidia-cuda-cupti-cu12-12.1.105 nvidia-cuda-nvrtc-cu12-12.1.105 nvidia-cuda-runtime-cu12-12.1.105 nvidia-cudnn-cu12-8.9.2.26 nvidia-cufft-cu12-11.0.2.54 nvidia-curand-cu12-10.3.2.106 nvidia-cusolver-cu12-11.4.5.107 nvidia-cusparse-cu12-12.1.0.106 nvidia-nccl-cu12-2.19.3 nvidia-nvjitlink-cu12-12.4.127 nvidia-nvtx-cu12-12.1.105\n",
            "Requirement already satisfied: monai[einops] in /usr/local/lib/python3.10/dist-packages (1.3.0)\n",
            "Requirement already satisfied: numpy>=1.20 in /usr/local/lib/python3.10/dist-packages (from monai[einops]) (1.25.2)\n",
            "Requirement already satisfied: torch>=1.9 in /usr/local/lib/python3.10/dist-packages (from monai[einops]) (2.2.1+cu121)\n",
            "Collecting einops (from monai[einops])\n",
            "  Downloading einops-0.8.0-py3-none-any.whl (43 kB)\n",
            "\u001b[2K     \u001b[90m━━━━━━━━━━━━━━━━━━━━━━━━━━━━━━━━━━━━━━━━\u001b[0m \u001b[32m43.2/43.2 kB\u001b[0m \u001b[31m787.0 kB/s\u001b[0m eta \u001b[36m0:00:00\u001b[0m\n",
            "\u001b[?25hRequirement already satisfied: filelock in /usr/local/lib/python3.10/dist-packages (from torch>=1.9->monai[einops]) (3.14.0)\n",
            "Requirement already satisfied: typing-extensions>=4.8.0 in /usr/local/lib/python3.10/dist-packages (from torch>=1.9->monai[einops]) (4.11.0)\n",
            "Requirement already satisfied: sympy in /usr/local/lib/python3.10/dist-packages (from torch>=1.9->monai[einops]) (1.12)\n",
            "Requirement already satisfied: networkx in /usr/local/lib/python3.10/dist-packages (from torch>=1.9->monai[einops]) (3.3)\n",
            "Requirement already satisfied: jinja2 in /usr/local/lib/python3.10/dist-packages (from torch>=1.9->monai[einops]) (3.1.4)\n",
            "Requirement already satisfied: fsspec in /usr/local/lib/python3.10/dist-packages (from torch>=1.9->monai[einops]) (2023.6.0)\n",
            "Requirement already satisfied: nvidia-cuda-nvrtc-cu12==12.1.105 in /usr/local/lib/python3.10/dist-packages (from torch>=1.9->monai[einops]) (12.1.105)\n",
            "Requirement already satisfied: nvidia-cuda-runtime-cu12==12.1.105 in /usr/local/lib/python3.10/dist-packages (from torch>=1.9->monai[einops]) (12.1.105)\n",
            "Requirement already satisfied: nvidia-cuda-cupti-cu12==12.1.105 in /usr/local/lib/python3.10/dist-packages (from torch>=1.9->monai[einops]) (12.1.105)\n",
            "Requirement already satisfied: nvidia-cudnn-cu12==8.9.2.26 in /usr/local/lib/python3.10/dist-packages (from torch>=1.9->monai[einops]) (8.9.2.26)\n",
            "Requirement already satisfied: nvidia-cublas-cu12==12.1.3.1 in /usr/local/lib/python3.10/dist-packages (from torch>=1.9->monai[einops]) (12.1.3.1)\n",
            "Requirement already satisfied: nvidia-cufft-cu12==11.0.2.54 in /usr/local/lib/python3.10/dist-packages (from torch>=1.9->monai[einops]) (11.0.2.54)\n",
            "Requirement already satisfied: nvidia-curand-cu12==10.3.2.106 in /usr/local/lib/python3.10/dist-packages (from torch>=1.9->monai[einops]) (10.3.2.106)\n",
            "Requirement already satisfied: nvidia-cusolver-cu12==11.4.5.107 in /usr/local/lib/python3.10/dist-packages (from torch>=1.9->monai[einops]) (11.4.5.107)\n",
            "Requirement already satisfied: nvidia-cusparse-cu12==12.1.0.106 in /usr/local/lib/python3.10/dist-packages (from torch>=1.9->monai[einops]) (12.1.0.106)\n",
            "Requirement already satisfied: nvidia-nccl-cu12==2.19.3 in /usr/local/lib/python3.10/dist-packages (from torch>=1.9->monai[einops]) (2.19.3)\n",
            "Requirement already satisfied: nvidia-nvtx-cu12==12.1.105 in /usr/local/lib/python3.10/dist-packages (from torch>=1.9->monai[einops]) (12.1.105)\n",
            "Requirement already satisfied: triton==2.2.0 in /usr/local/lib/python3.10/dist-packages (from torch>=1.9->monai[einops]) (2.2.0)\n",
            "Requirement already satisfied: nvidia-nvjitlink-cu12 in /usr/local/lib/python3.10/dist-packages (from nvidia-cusolver-cu12==11.4.5.107->torch>=1.9->monai[einops]) (12.4.127)\n",
            "Requirement already satisfied: MarkupSafe>=2.0 in /usr/local/lib/python3.10/dist-packages (from jinja2->torch>=1.9->monai[einops]) (2.1.5)\n",
            "Requirement already satisfied: mpmath>=0.19 in /usr/local/lib/python3.10/dist-packages (from sympy->torch>=1.9->monai[einops]) (1.3.0)\n",
            "Installing collected packages: einops\n",
            "Successfully installed einops-0.8.0\n",
            "Requirement already satisfied: monai[fire] in /usr/local/lib/python3.10/dist-packages (1.3.0)\n",
            "Requirement already satisfied: numpy>=1.20 in /usr/local/lib/python3.10/dist-packages (from monai[fire]) (1.25.2)\n",
            "Requirement already satisfied: torch>=1.9 in /usr/local/lib/python3.10/dist-packages (from monai[fire]) (2.2.1+cu121)\n",
            "Collecting fire (from monai[fire])\n",
            "  Downloading fire-0.6.0.tar.gz (88 kB)\n",
            "\u001b[2K     \u001b[90m━━━━━━━━━━━━━━━━━━━━━━━━━━━━━━━━━━━━━━━━\u001b[0m \u001b[32m88.4/88.4 kB\u001b[0m \u001b[31m1.4 MB/s\u001b[0m eta \u001b[36m0:00:00\u001b[0m\n",
            "\u001b[?25h  Preparing metadata (setup.py) ... \u001b[?25l\u001b[?25hdone\n",
            "Requirement already satisfied: filelock in /usr/local/lib/python3.10/dist-packages (from torch>=1.9->monai[fire]) (3.14.0)\n",
            "Requirement already satisfied: typing-extensions>=4.8.0 in /usr/local/lib/python3.10/dist-packages (from torch>=1.9->monai[fire]) (4.11.0)\n",
            "Requirement already satisfied: sympy in /usr/local/lib/python3.10/dist-packages (from torch>=1.9->monai[fire]) (1.12)\n",
            "Requirement already satisfied: networkx in /usr/local/lib/python3.10/dist-packages (from torch>=1.9->monai[fire]) (3.3)\n",
            "Requirement already satisfied: jinja2 in /usr/local/lib/python3.10/dist-packages (from torch>=1.9->monai[fire]) (3.1.4)\n",
            "Requirement already satisfied: fsspec in /usr/local/lib/python3.10/dist-packages (from torch>=1.9->monai[fire]) (2023.6.0)\n",
            "Requirement already satisfied: nvidia-cuda-nvrtc-cu12==12.1.105 in /usr/local/lib/python3.10/dist-packages (from torch>=1.9->monai[fire]) (12.1.105)\n",
            "Requirement already satisfied: nvidia-cuda-runtime-cu12==12.1.105 in /usr/local/lib/python3.10/dist-packages (from torch>=1.9->monai[fire]) (12.1.105)\n",
            "Requirement already satisfied: nvidia-cuda-cupti-cu12==12.1.105 in /usr/local/lib/python3.10/dist-packages (from torch>=1.9->monai[fire]) (12.1.105)\n",
            "Requirement already satisfied: nvidia-cudnn-cu12==8.9.2.26 in /usr/local/lib/python3.10/dist-packages (from torch>=1.9->monai[fire]) (8.9.2.26)\n",
            "Requirement already satisfied: nvidia-cublas-cu12==12.1.3.1 in /usr/local/lib/python3.10/dist-packages (from torch>=1.9->monai[fire]) (12.1.3.1)\n",
            "Requirement already satisfied: nvidia-cufft-cu12==11.0.2.54 in /usr/local/lib/python3.10/dist-packages (from torch>=1.9->monai[fire]) (11.0.2.54)\n",
            "Requirement already satisfied: nvidia-curand-cu12==10.3.2.106 in /usr/local/lib/python3.10/dist-packages (from torch>=1.9->monai[fire]) (10.3.2.106)\n",
            "Requirement already satisfied: nvidia-cusolver-cu12==11.4.5.107 in /usr/local/lib/python3.10/dist-packages (from torch>=1.9->monai[fire]) (11.4.5.107)\n",
            "Requirement already satisfied: nvidia-cusparse-cu12==12.1.0.106 in /usr/local/lib/python3.10/dist-packages (from torch>=1.9->monai[fire]) (12.1.0.106)\n",
            "Requirement already satisfied: nvidia-nccl-cu12==2.19.3 in /usr/local/lib/python3.10/dist-packages (from torch>=1.9->monai[fire]) (2.19.3)\n",
            "Requirement already satisfied: nvidia-nvtx-cu12==12.1.105 in /usr/local/lib/python3.10/dist-packages (from torch>=1.9->monai[fire]) (12.1.105)\n",
            "Requirement already satisfied: triton==2.2.0 in /usr/local/lib/python3.10/dist-packages (from torch>=1.9->monai[fire]) (2.2.0)\n",
            "Requirement already satisfied: nvidia-nvjitlink-cu12 in /usr/local/lib/python3.10/dist-packages (from nvidia-cusolver-cu12==11.4.5.107->torch>=1.9->monai[fire]) (12.4.127)\n",
            "Requirement already satisfied: six in /usr/local/lib/python3.10/dist-packages (from fire->monai[fire]) (1.16.0)\n",
            "Requirement already satisfied: termcolor in /usr/local/lib/python3.10/dist-packages (from fire->monai[fire]) (2.4.0)\n",
            "Requirement already satisfied: MarkupSafe>=2.0 in /usr/local/lib/python3.10/dist-packages (from jinja2->torch>=1.9->monai[fire]) (2.1.5)\n",
            "Requirement already satisfied: mpmath>=0.19 in /usr/local/lib/python3.10/dist-packages (from sympy->torch>=1.9->monai[fire]) (1.3.0)\n",
            "Building wheels for collected packages: fire\n",
            "  Building wheel for fire (setup.py) ... \u001b[?25l\u001b[?25hdone\n",
            "  Created wheel for fire: filename=fire-0.6.0-py2.py3-none-any.whl size=117029 sha256=27da2fc9096328fdd8973ffc3139348a56cb88a3ad9d64863ebaf3f9996971ea\n",
            "  Stored in directory: /root/.cache/pip/wheels/d6/6d/5d/5b73fa0f46d01a793713f8859201361e9e581ced8c75e5c6a3\n",
            "Successfully built fire\n",
            "Installing collected packages: fire\n",
            "Successfully installed fire-0.6.0\n"
          ]
        }
      ]
    },
    {
      "cell_type": "code",
      "source": [
        "import os\n",
        "import sys\n",
        "from tempfile import NamedTemporaryFile\n",
        "from urllib.request import urlopen\n",
        "from urllib.parse import unquote, urlparse\n",
        "from urllib.error import HTTPError\n",
        "from zipfile import ZipFile\n",
        "import tarfile\n",
        "import shutil\n",
        "from monai.data import ImageReader\n",
        "from skimage.io import imread\n",
        "import matplotlib.pyplot as plt\n",
        "import pandas as pd\n",
        "from torchsummary import summary\n",
        "import random\n",
        "\n",
        "import os\n",
        "import glob\n",
        "\n",
        "import monai\n",
        "import numpy as np\n",
        "import torch\n",
        "from tqdm import tqdm, trange\n",
        "\n",
        "from monai.networks.blocks import PatchEmbed, UnetOutBlock, UnetrBasicBlock, UnetrUpBlock\n",
        "from monai.networks.nets import UNet\n",
        "from monai.networks.layers import Norm\n"
      ],
      "metadata": {
        "id": "mNfDr3nl6yIJ"
      },
      "execution_count": 3,
      "outputs": []
    },
    {
      "cell_type": "code",
      "source": [
        "os.environ['KAGGLE_CONFIG_DIR'] = '/content/drive/MyDrive/kaggle'"
      ],
      "metadata": {
        "id": "MNv3L2PLHBop"
      },
      "execution_count": 4,
      "outputs": []
    },
    {
      "cell_type": "code",
      "source": [
        "!kaggle competitions download -c bugnist2024fgvc"
      ],
      "metadata": {
        "colab": {
          "base_uri": "https://localhost:8080/"
        },
        "id": "ROuv6B91vb9D",
        "outputId": "572be2b4-d5f0-4ebd-be50-338cbe136224"
      },
      "execution_count": 5,
      "outputs": [
        {
          "output_type": "stream",
          "name": "stdout",
          "text": [
            "Downloading bugnist2024fgvc.zip to /content\n",
            "100% 675M/677M [00:06<00:00, 41.8MB/s]\n",
            "100% 677M/677M [00:06<00:00, 104MB/s] \n"
          ]
        }
      ]
    },
    {
      "cell_type": "markdown",
      "source": [
        "# Sample submission based on 3D U-Net as a baseline\n",
        "\n",
        "In this notebook, we'll go through a full attempt at a solution - albeit a poorly performing one.\n",
        "\n",
        "**Full disclosure:** this notebook was not developed on Kaggle, but on another machine. It may not work out of the box but hopefully, it can serve as a useful starting point for now.\n",
        "\n",
        "The idea is to train a 3D U-Net to segment the bugs based on the single bug images. Here, there is only one bug per image, so we can use the 3D U-Net to segment the bug. Since we know the label of the bugs in the single bug images, we can also train the U-Net to predict the bug type, by casting it as a multi-class segmentation problem (13 classes, 12 bugs + background). We can then use the segmentation to find its center point and use that for our submission."
      ],
      "metadata": {
        "id": "4Zv7toCr6Uqf"
      }
    },
    {
      "cell_type": "code",
      "source": [
        "extract_dir = '/content/'\n",
        "\n",
        "if not os.path.exists(extract_dir):\n",
        "    os.makedirs(extract_dir)\n",
        "\n",
        "with ZipFile('/content/bugnist2024fgvc.zip', 'r') as zip_ref:\n",
        "    zip_ref.extractall(extract_dir)"
      ],
      "metadata": {
        "id": "j4CuAHOQ6Uqh"
      },
      "execution_count": 6,
      "outputs": []
    },
    {
      "cell_type": "code",
      "source": [
        "# Path to individual bugs (change to where you store the bugs)\n",
        "data_dir = '/content/BugNIST_DATA/train'\n",
        "\n",
        "SEED = 1337"
      ],
      "metadata": {
        "id": "G5sROvc5Qg2H"
      },
      "execution_count": 7,
      "outputs": []
    },
    {
      "cell_type": "markdown",
      "source": [
        "First, we gather all the files and their labels to prepare the data loaders.\n",
        "We will store the labels as one-hot encoded vectors."
      ],
      "metadata": {
        "id": "2EPMq94k6Uqh"
      }
    },
    {
      "cell_type": "code",
      "source": [
        "images = []\n",
        "labels = []\n",
        "\n",
        "class_names = os.listdir(data_dir)\n",
        "class_image_files = [\n",
        "    glob.glob(os.path.join(data_dir, name, '*')) for name in class_names\n",
        "]\n",
        "\n",
        "for i, files in enumerate(class_image_files):\n",
        "    images += files\n",
        "\n",
        "    labels_i = torch.zeros(len(files), len(class_names))\n",
        "    labels_i[:, i] = 1\n",
        "    labels.append(labels_i)\n",
        "\n",
        "\n",
        "labels = torch.cat(labels, dim=0)"
      ],
      "metadata": {
        "id": "4ULbGXgI6Uqh"
      },
      "execution_count": 8,
      "outputs": []
    },
    {
      "cell_type": "markdown",
      "source": [
        "Some samples of the lists we made:"
      ],
      "metadata": {
        "id": "niUhj-aL6Uqh"
      }
    },
    {
      "cell_type": "code",
      "source": [
        "class_names"
      ],
      "metadata": {
        "id": "GWans1Sf6Uqi",
        "colab": {
          "base_uri": "https://localhost:8080/"
        },
        "outputId": "16375009-1708-46e8-aeb0-9f5e366e5a82"
      },
      "execution_count": null,
      "outputs": [
        {
          "output_type": "execute_result",
          "data": {
            "text/plain": [
              "['BC', 'BL', 'AC', 'MA', 'GH', 'PP', 'CF', 'ML', 'WO', 'BF', 'BP', 'SL']"
            ]
          },
          "metadata": {},
          "execution_count": 9
        }
      ]
    },
    {
      "cell_type": "code",
      "source": [
        "images[:5]"
      ],
      "metadata": {
        "id": "tX38X2cD6Uqi",
        "colab": {
          "base_uri": "https://localhost:8080/"
        },
        "outputId": "bbe09878-1459-4212-911f-8fe7368ac6c4"
      },
      "execution_count": null,
      "outputs": [
        {
          "output_type": "execute_result",
          "data": {
            "text/plain": [
              "['/content/BugNIST_DATA/train/BC/sfaar_7_017.tif',\n",
              " '/content/BugNIST_DATA/train/BC/sfaar_4_030.tif',\n",
              " '/content/BugNIST_DATA/train/BC/sfaar_6_017.tif',\n",
              " '/content/BugNIST_DATA/train/BC/sfaar_15_036.tif',\n",
              " '/content/BugNIST_DATA/train/BC/sfaar_1_015.tif']"
            ]
          },
          "metadata": {},
          "execution_count": 10
        }
      ]
    },
    {
      "cell_type": "code",
      "source": [
        "labels[:5]"
      ],
      "metadata": {
        "id": "HZDoyy146Uqi",
        "colab": {
          "base_uri": "https://localhost:8080/"
        },
        "outputId": "56167f38-421a-4da9-afe1-34422444ddb8"
      },
      "execution_count": null,
      "outputs": [
        {
          "output_type": "execute_result",
          "data": {
            "text/plain": [
              "tensor([[1., 0., 0., 0., 0., 0., 0., 0., 0., 0., 0., 0.],\n",
              "        [1., 0., 0., 0., 0., 0., 0., 0., 0., 0., 0., 0.],\n",
              "        [1., 0., 0., 0., 0., 0., 0., 0., 0., 0., 0., 0.],\n",
              "        [1., 0., 0., 0., 0., 0., 0., 0., 0., 0., 0., 0.],\n",
              "        [1., 0., 0., 0., 0., 0., 0., 0., 0., 0., 0., 0.]])"
            ]
          },
          "metadata": {},
          "execution_count": 11
        }
      ]
    },
    {
      "cell_type": "markdown",
      "source": [
        "Looks good! Let's split the individual images into a train and validation set:"
      ],
      "metadata": {
        "id": "fpW9vOLV6Uqi"
      }
    },
    {
      "cell_type": "code",
      "source": [
        "from sklearn.model_selection import train_test_split\n",
        "\n",
        "train_val_split = 0.7\n",
        "\n",
        "train_images, val_images, train_labels, val_labels = train_test_split(\n",
        "    images, labels, train_size=train_val_split, stratify=labels,\n",
        "    random_state=SEED,\n",
        ")"
      ],
      "metadata": {
        "id": "YhjNuo5z6Uqj"
      },
      "execution_count": 9,
      "outputs": []
    },
    {
      "cell_type": "code",
      "source": [
        "from monai.data import ImageReader\n",
        "from skimage.io import imread\n",
        "\n",
        "class TiffReader(ImageReader):\n",
        "    def __init__(self):\n",
        "        super().__init__()\n",
        "\n",
        "\n",
        "    def get_data(self, img):\n",
        "        return np.asarray(img), dict()\n",
        "\n",
        "\n",
        "    def read(self, data, **kwargs):\n",
        "        if isinstance(data, str):\n",
        "            data = [data]\n",
        "\n",
        "        return [imread(f) for f in data]\n",
        "\n",
        "\n",
        "    def verify_suffix(self, filename):\n",
        "        return filename.endswith('.tif') or filename.endswith('.tiff')\n"
      ],
      "metadata": {
        "id": "w0NQmOMy6Uqj"
      },
      "execution_count": 10,
      "outputs": []
    },
    {
      "cell_type": "markdown",
      "source": [
        "During the training pipeline, the rough idea is this:\n",
        "\n",
        "1. Load a batch of images and their labels.\n",
        "2. Segment the (single) bug using a threshold on the image intensity.\n",
        "3. Use the label to turn the binary thresholded image into an actual segmentation mask.\n",
        "4. Train the U-Net to predict the segmentation mask.\n",
        "\n",
        "The solution here is based on the MONAI library, which provides building blocks for 3D image segmentations. Most of the above steps can be achieved via existing MONAI transforms we can add as data augmentations. However, we need two extra helper classes.\n",
        "\n",
        "First, a class to tell it how to read our 3D tiff-files:"
      ],
      "metadata": {
        "id": "iiftzzg26Uqj"
      }
    },
    {
      "cell_type": "markdown",
      "source": [
        "Next a class to copy an image"
      ],
      "metadata": {
        "id": "VT3HiP1q6Uqj"
      }
    },
    {
      "cell_type": "code",
      "source": [
        "from copy import deepcopy\n",
        "from monai.transforms import MapTransform\n",
        "\n",
        "class CopyImaged(MapTransform):\n",
        "    def __init__(self, key_to_copy, new_key, allow_missing_keys=False):\n",
        "        super().__init__(key_to_copy, allow_missing_keys)\n",
        "        self.key_to_copy = key_to_copy\n",
        "        self.new_key = new_key\n",
        "\n",
        "\n",
        "    def __call__(self, data):\n",
        "        data = dict(data)\n",
        "        data[self.new_key] = deepcopy(data[self.key_to_copy])\n",
        "        return data\n"
      ],
      "metadata": {
        "id": "gQHu010e6Uqk"
      },
      "execution_count": 11,
      "outputs": []
    },
    {
      "cell_type": "markdown",
      "source": [
        "We can now set up our transforms:"
      ],
      "metadata": {
        "id": "UH6LfgkR6Uqk"
      }
    },
    {
      "cell_type": "code",
      "source": [
        "import monai.transforms as T\n",
        "from skimage.io import imread\n",
        "\n",
        "# Precompute padding to get equal side lengths\n",
        "im0 = imread(images[0])\n",
        "shape = torch.tensor(im0.shape)\n",
        "padding = (0, int((shape[0] - shape[1]) // 2), int((shape[0] - shape[2]) // 2))\n",
        "\n",
        "# Prepare train and test data loaders\n",
        "keys = ['image', 'mask']\n",
        "train_transforms = T.Compose([\n",
        "    # Load the image\n",
        "    T.LoadImaged(keys='image', reader=TiffReader, image_only=True),\n",
        "    T.Resized(keys='image', spatial_size=shape),\n",
        "    # Scale the intensity\n",
        "    T.ScaleIntensityd(keys='image'),\n",
        "    # Pad the image so all sides are equal\n",
        "    T.BorderPadd(keys='image', spatial_border=padding),\n",
        "    # Make a copy of the image, which is what will later be our mask\n",
        "    CopyImaged(key_to_copy='image', new_key='mask'),\n",
        "    # Smooth the image and then threshold it\n",
        "    T.GaussianSmoothd(keys='mask', sigma=2),\n",
        "    T.AsDiscreted(keys='mask', threshold=0.25, dtype=torch.long),\n",
        "    # Only keep the largest connected component as the bug mask\n",
        "    T.KeepLargestConnectedComponentd(keys='mask', applied_labels=[0]),\n",
        "    # Apply normal data augmentations\n",
        "    T.EnsureTyped(keys=['image', 'mask', 'label'], track_meta=False),\n",
        "    T.RandAffined(\n",
        "        keys=['image', 'mask'], prob=0.95, rotate_range=(np.pi/2,) * 3,\n",
        "        translate_range=shape // torch.tensor([2, 1, 1]), padding_mode='zeros'),\n",
        "    T.RandAxisFlipd(keys=keys, prob=0.5),\n",
        "    T.RandScaleIntensityd(keys='image', factors=0.25, prob=0.5),\n",
        "    T.RandZoomd(keys=keys, prob=0.5),\n",
        "    T.SqueezeDimd(keys='mask'),\n",
        "    T.CastToTyped(keys='mask', dtype=torch.long),\n",
        "])\n",
        "\n",
        "val_transforms = T.Compose([\n",
        "    # See train_transforms\n",
        "    T.LoadImaged(keys='image', reader=TiffReader, image_only=True),\n",
        "    T.Resized(keys='image', spatial_size=shape),\n",
        "    T.ScaleIntensityd(keys='image'),\n",
        "    T.BorderPadd(keys='image', spatial_border=padding),\n",
        "    CopyImaged(key_to_copy='image', new_key='mask'),\n",
        "    T.GaussianSmoothd(keys='mask', sigma=2),\n",
        "    T.AsDiscreted(keys='mask', threshold=0.25, dtype=torch.long),\n",
        "    T.KeepLargestConnectedComponentd(keys='mask', applied_labels=[0]),\n",
        "    T.EnsureTyped(keys=['image', 'mask', 'label'], track_meta=False),\n",
        "    T.SqueezeDimd(keys='mask'),\n",
        "    T.CastToTyped(keys='mask', dtype=torch.long),\n",
        "])"
      ],
      "metadata": {
        "id": "ASmUpzFK6Uqk"
      },
      "execution_count": 12,
      "outputs": []
    },
    {
      "cell_type": "markdown",
      "source": [
        "Let's quickly run through how this looks like when the code runs.\n",
        "\n",
        "We create our `Dataset`s"
      ],
      "metadata": {
        "id": "bHMCe8w-6Uqk"
      }
    },
    {
      "cell_type": "code",
      "source": [
        "from monai.data import Dataset\n",
        "\n",
        "train_data = Dataset(\n",
        "    [{ 'image': f, 'label': l }\n",
        "        for f, l in zip(train_images, train_labels)],\n",
        "    transform=train_transforms,\n",
        ")\n",
        "\n",
        "val_data = Dataset(\n",
        "    [{ 'image': f, 'label': l }\n",
        "     for f, l in zip(val_images, val_labels)],\n",
        "    transform=val_transforms,\n",
        ")"
      ],
      "metadata": {
        "id": "UC9co5Z56Uqk"
      },
      "execution_count": 13,
      "outputs": []
    },
    {
      "cell_type": "markdown",
      "source": [
        "...and `DataLoaders`"
      ],
      "metadata": {
        "id": "Qa2KhaAX6Uqk"
      }
    },
    {
      "cell_type": "code",
      "source": [
        "from monai.data import DataLoader\n",
        "\n",
        "train_batch_size = 4\n",
        "val_batch_size = 2\n",
        "\n",
        "train_loader = DataLoader(\n",
        "    train_data,\n",
        "    shuffle=True,\n",
        "    num_workers=0,\n",
        "    batch_size=train_batch_size,\n",
        ")\n",
        "val_loader = DataLoader(\n",
        "    val_data,\n",
        "    num_workers=0,\n",
        "    shuffle=False,\n",
        "    batch_size=val_batch_size,\n",
        ")"
      ],
      "metadata": {
        "id": "plXO98UG6Uqk"
      },
      "execution_count": 14,
      "outputs": []
    },
    {
      "cell_type": "markdown",
      "source": [
        "Get a batch and look at it:"
      ],
      "metadata": {
        "id": "Vdpq_sNJ6Uql"
      }
    },
    {
      "cell_type": "code",
      "source": [
        "for i, batch in enumerate(train_loader):\n",
        "    if i == 1:\n",
        "      break"
      ],
      "metadata": {
        "id": "zouoRS856Uql"
      },
      "execution_count": 15,
      "outputs": []
    },
    {
      "cell_type": "code",
      "source": [
        "batch.keys()"
      ],
      "metadata": {
        "id": "Oj2EP2fe6Uql",
        "colab": {
          "base_uri": "https://localhost:8080/"
        },
        "outputId": "5546ddd9-c65d-4c3f-bede-4ec4d4aa57ca"
      },
      "execution_count": 16,
      "outputs": [
        {
          "output_type": "execute_result",
          "data": {
            "text/plain": [
              "dict_keys(['image', 'label', 'mask'])"
            ]
          },
          "metadata": {},
          "execution_count": 16
        }
      ]
    },
    {
      "cell_type": "code",
      "source": [
        "import matplotlib.pyplot as plt\n",
        "\n",
        "fig, ax = plt.subplots(2, 4, figsize=(10, 5))\n",
        "for i in range(4):\n",
        "    ax[0, i].imshow(batch['image'][i, 0].cpu().numpy().max(axis=0), cmap='gray')\n",
        "    ax[0, i].axis('off')\n",
        "    ax[1, i].imshow(batch['mask'][i].cpu().numpy().max(axis=0), cmap='tab20b', vmin=0, vmax=1)\n",
        "    ax[1, i].axis('off')\n",
        "fig.tight_layout()"
      ],
      "metadata": {
        "id": "G-YqwTbx6Uql",
        "colab": {
          "base_uri": "https://localhost:8080/",
          "height": 507
        },
        "outputId": "7fe2c764-2e8a-48bc-e012-81cf0ed06180"
      },
      "execution_count": 17,
      "outputs": [
        {
          "output_type": "display_data",
          "data": {
            "text/plain": [
              "<Figure size 1000x500 with 8 Axes>"
            ],
            "image/png": "[encoded data removed]"
          },
          "metadata": {}
        }
      ]
    },
    {
      "cell_type": "code",
      "source": [
        "mask_label = batch['mask'] * (batch['label'].argmax(dim=1).view(-1, 1, 1, 1) + 1)\n",
        "\n",
        "fig, ax = plt.subplots(2, 4, figsize=(10, 5))\n",
        "for i in range(4):\n",
        "    ax[0, i].imshow(batch['image'][i, 0].cpu().numpy().max(axis=0), cmap='gray')\n",
        "    ax[0, i].axis('off')\n",
        "    ax[1, i].imshow(mask_label[i].cpu().numpy().max(axis=0), cmap='tab20b',\n",
        "                    vmin=0, vmax=len(class_names), interpolation='none')\n",
        "    ax[1, i].axis('off')\n",
        "fig.tight_layout()"
      ],
      "metadata": {
        "id": "08OsgOha6Uql",
        "colab": {
          "base_uri": "https://localhost:8080/",
          "height": 507
        },
        "outputId": "d5228921-7b99-4f20-d9d8-2d926e6dd114"
      },
      "execution_count": 18,
      "outputs": [
        {
          "output_type": "display_data",
          "data": {
            "text/plain": [
              "<Figure size 1000x500 with 8 Axes>"
            ],
            "image/png": "[encoded data removed]"
          },
          "metadata": {}
        }
      ]
    },
    {
      "cell_type": "markdown",
      "source": [
        "Alright, now for real:"
      ],
      "metadata": {
        "id": "ZOF4zb486Uql"
      }
    },
    {
      "cell_type": "code",
      "source": [
        "train_batch_size = 12\n",
        "val_batch_size = 8\n",
        "\n",
        "train_loader = DataLoader(\n",
        "    train_data,\n",
        "    shuffle=True,\n",
        "    num_workers=8,\n",
        "    batch_size=train_batch_size,\n",
        "    drop_last=True,\n",
        ")\n",
        "val_loader = DataLoader(\n",
        "    val_data,\n",
        "    num_workers=8,\n",
        "    shuffle=False,\n",
        "    batch_size=val_batch_size,\n",
        "    drop_last=True,\n",
        ")"
      ],
      "metadata": {
        "id": "NYYjKYg56Uql",
        "outputId": "6b965629-3fe5-4ef2-c75f-1d969323454d",
        "colab": {
          "base_uri": "https://localhost:8080/"
        }
      },
      "execution_count": 19,
      "outputs": [
        {
          "output_type": "stream",
          "name": "stderr",
          "text": [
            "/usr/local/lib/python3.10/dist-packages/torch/utils/data/dataloader.py:558: UserWarning: This DataLoader will create 8 worker processes in total. Our suggested max number of worker in current system is 2, which is smaller than what this DataLoader is going to create. Please be aware that excessive worker creation might get DataLoader running slow or even freeze, lower the worker number to avoid potential slowness/freeze if necessary.\n",
            "  warnings.warn(_create_warning_msg(\n"
          ]
        }
      ]
    },
    {
      "cell_type": "markdown",
      "source": [
        "We use the built in U-Net implementation from MONAI:"
      ],
      "metadata": {
        "id": "ciHmY61v6Uqm"
      }
    },
    {
      "cell_type": "code",
      "source": [
        "# standard PyTorch program style: create UNet, DiceLoss and Adam optimizer\n",
        "device = torch.device(\"cuda\" if torch.cuda.is_available() else \"cpu\")\n",
        "model = UNet(\n",
        "    spatial_dims=3,\n",
        "    in_channels=1,\n",
        "    #out_channels=2,\n",
        "    out_channels=len(class_names) + 1,\n",
        "    channels=(16, 32, 64, 128, 256),\n",
        "    strides=(2, 2, 2, 2),\n",
        "    num_res_units=2,\n",
        "    norm=Norm.BATCH,\n",
        ").to(device)"
      ],
      "metadata": {
        "id": "DxbtbUJU59k9"
      },
      "execution_count": 20,
      "outputs": []
    },
    {
      "cell_type": "code",
      "source": [
        "weights = torch.load(\"/content/drive/MyDrive/unet_spleen_model.pt\")\n",
        "model_dict = model.state_dict()\n",
        "\n",
        "# Fiter out missing keys, different or with different values' shapes (e.g. output layer)\n",
        "filtered_dict = {k: v for k, v in weights.items() if k in model_dict and v.shape == model_dict[k].shape}\n",
        "model_dict.update(filtered_dict)\n",
        "model.load_state_dict(model_dict)"
      ],
      "metadata": {
        "id": "fsCUIZlZ-ocB",
        "outputId": "c103c3b2-1cf1-41d1-cf56-138a3eae2af7",
        "colab": {
          "base_uri": "https://localhost:8080/"
        }
      },
      "execution_count": null,
      "outputs": [
        {
          "output_type": "execute_result",
          "data": {
            "text/plain": [
              "<All keys matched successfully>"
            ]
          },
          "metadata": {},
          "execution_count": 24
        }
      ]
    },
    {
      "cell_type": "code",
      "source": [
        "'''\n",
        "device = torch.device(\"cuda\" if torch.cuda.is_available() else \"cpu\")\n",
        "model = monai.networks.nets.UNet(\n",
        "    spatial_dims=3,\n",
        "    in_channels=1,\n",
        "    out_channels=len(class_names) + 1,  # Bug classes and background\n",
        "    channels=(32, 64, 128, 256),\n",
        "    strides=(2, 2, 2),\n",
        "    num_res_units=2,\n",
        ").to(device)'''"
      ],
      "metadata": {
        "id": "sWogPCuR6Uqm",
        "outputId": "084ea325-01d6-469e-f48a-4e3e50e00f37",
        "colab": {
          "base_uri": "https://localhost:8080/",
          "height": 88
        }
      },
      "execution_count": null,
      "outputs": [
        {
          "output_type": "execute_result",
          "data": {
            "text/plain": [
              "'\\ndevice = torch.device(\"cuda\" if torch.cuda.is_available() else \"cpu\")\\nmodel = monai.networks.nets.UNet(\\n    spatial_dims=3,\\n    in_channels=1,\\n    out_channels=len(class_names) + 1,  # Bug classes and background\\n    channels=(32, 64, 128, 256),\\n    strides=(2, 2, 2),\\n    num_res_units=2,\\n).to(device)'"
            ],
            "application/vnd.google.colaboratory.intrinsic+json": {
              "type": "string"
            }
          },
          "metadata": {},
          "execution_count": 25
        }
      ]
    },
    {
      "cell_type": "code",
      "source": [
        "'''from monai.networks.nets import SwinUNETR\n",
        "\n",
        "device = torch.device(\"cuda\" if torch.cuda.is_available() else \"cpu\")\n",
        "\n",
        "model = SwinUNETR(\n",
        "    img_size=(128, 128, 128),\n",
        "    in_channels=1,\n",
        "    #out_channels=len(class_names) + 1,\n",
        "    out_channels=14,\n",
        "    feature_size=48,\n",
        "    use_checkpoint=True,\n",
        ").to(device)'''"
      ],
      "metadata": {
        "id": "J0kDNjEI1MdD",
        "outputId": "5b025ae8-d276-4334-d7ff-11921b6d2b7d",
        "colab": {
          "base_uri": "https://localhost:8080/",
          "height": 88
        }
      },
      "execution_count": null,
      "outputs": [
        {
          "output_type": "execute_result",
          "data": {
            "text/plain": [
              "'from monai.networks.nets import SwinUNETR\\n\\ndevice = torch.device(\"cuda\" if torch.cuda.is_available() else \"cpu\")\\n\\nmodel = SwinUNETR(\\n    img_size=(128, 128, 128),\\n    in_channels=1,\\n    #out_channels=len(class_names) + 1,\\n    out_channels=14,\\n    feature_size=48,\\n    use_checkpoint=True,\\n).to(device)'"
            ],
            "application/vnd.google.colaboratory.intrinsic+json": {
              "type": "string"
            }
          },
          "metadata": {},
          "execution_count": 26
        }
      ]
    },
    {
      "cell_type": "code",
      "source": [
        "'''weights = torch.load(\"/content/drive/MyDrive/swin_unetr.pt\")\n",
        "model.load_state_dict(weights)\n",
        "model_unetr.load_from(weights=weight)\n",
        "model.out = UnetOutBlock(spatial_dims=3, in_channels=1, out_channels=len(class_names) + 1)\n",
        "'''"
      ],
      "metadata": {
        "id": "A_Uhvyo962GT",
        "outputId": "f46dd59a-19fb-4095-ceb2-c0de8bb897b3",
        "colab": {
          "base_uri": "https://localhost:8080/",
          "height": 70
        }
      },
      "execution_count": null,
      "outputs": [
        {
          "output_type": "execute_result",
          "data": {
            "text/plain": [
              "'weights = torch.load(\"/content/drive/MyDrive/swin_unetr.pt\")\\nmodel.load_state_dict(weights)\\nmodel_unetr.load_from(weights=weight)\\nmodel.out = UnetOutBlock(spatial_dims=3, in_channels=1, out_channels=len(class_names) + 1)\\n'"
            ],
            "application/vnd.google.colaboratory.intrinsic+json": {
              "type": "string"
            }
          },
          "metadata": {},
          "execution_count": 27
        }
      ]
    },
    {
      "cell_type": "markdown",
      "source": [
        "We use a mix of cross entropy and Dice loss. For the cross entropy loss, we weigh class 0 (background) with 0.1, since there's a lot of it."
      ],
      "metadata": {
        "id": "mooAcUX66Uqm"
      }
    },
    {
      "cell_type": "code",
      "source": [
        "ce_weight = torch.ones(len(class_names) + 1, device='cuda')\n",
        "ce_weight[0] = 0.1\n",
        "\n",
        "loss_fn = monai.losses.DiceCELoss(\n",
        "    ce_weight=ce_weight,\n",
        "    to_onehot_y=True,\n",
        "    softmax=True,\n",
        "    include_background=True,\n",
        ")\n",
        "optimizer = torch.optim.Adam(\n",
        "    model.parameters(),\n",
        "    lr=1e-4,\n",
        ")"
      ],
      "metadata": {
        "id": "9sand_zu6Uqm",
        "colab": {
          "base_uri": "https://localhost:8080/"
        },
        "outputId": "e0ff8aad-8b8e-4a5a-e58b-bc9cc249a7de"
      },
      "execution_count": null,
      "outputs": [
        {
          "output_type": "stream",
          "name": "stderr",
          "text": [
            "/usr/local/lib/python3.10/dist-packages/monai/utils/deprecate_utils.py:221: FutureWarning: monai.losses.dice DiceCELoss.__init__:ce_weight: Argument `ce_weight` has been deprecated since version 1.2. It will be removed in version 1.4. please use `weight` instead.\n",
            "  warn_deprecated(argname, msg, warning_category)\n"
          ]
        }
      ]
    },
    {
      "cell_type": "markdown",
      "source": [
        "Define function to mix the images together"
      ],
      "metadata": {
        "id": "i_Da2P47EKDn"
      }
    },
    {
      "cell_type": "code",
      "source": [
        "def mix_images(originals, masks):\n",
        "    \"\"\"\n",
        "    Mixes multiple 3D images without overlapping non-zero values.\n",
        "\n",
        "    Args:\n",
        "        masks (torch.Tensor): Tensor containing multiple 3D images.\n",
        "\n",
        "    Returns:\n",
        "        torch.Tensor: Mixed images.\n",
        "    \"\"\"\n",
        "    #print(f'masks: {type(masks)}, {masks.dtype}')\n",
        "\n",
        "    #print(f'originals: {type(originals)}, {originals.dtype}')\n",
        "\n",
        "    batch_size, depth, height, width = masks.shape\n",
        "    #print(f'd: {depth}, h: {height}, w: {width}')\n",
        "\n",
        "    mixed_masks = torch.zeros_like(masks)\n",
        "    mixed_originals = torch.zeros_like(originals)\n",
        "    #print(mixed_masks.shape)\n",
        "\n",
        "    for batch_idx in range(batch_size):\n",
        "        # Get the current image\n",
        "        current_mask = masks[batch_idx]\n",
        "        current_original = originals[batch_idx]\n",
        "\n",
        "        final_indices = [batch_idx]\n",
        "        #print(f'batch_idx: {batch_idx}')\n",
        "\n",
        "        # Randomly select a subset of images\n",
        "        num_images_to_mix = random.randint(0, batch_size-1)\n",
        "        #print(f'num_images_to_mix: {num_images_to_mix}')\n",
        "        final_masks = [current_mask]\n",
        "        final_originals = [current_original]\n",
        "\n",
        "        while len(final_indices)-1 < num_images_to_mix:\n",
        "          samples = random.sample(range(batch_size), 1)\n",
        "          index = samples[0]\n",
        "          if index not in final_indices:\n",
        "            #print(f'index: {index}')\n",
        "            final_indices.append(index)\n",
        "            final_masks.append(masks[index])\n",
        "            final_originals.append(originals[index])\n",
        "\n",
        "        # Create a canvas to overlay images without overlapping non-zero values\n",
        "        canvas_original = torch.zeros_like(current_original)\n",
        "        canvas_mask = torch.zeros_like(current_mask)\n",
        "        #print(\"Overlay\")\n",
        "\n",
        "        # Iterate over the masks\n",
        "        for i, mask in enumerate(final_masks):\n",
        "            non_zero_locations = mask.nonzero()\n",
        "# SHOULD CHANGE ANY TO ALL\n",
        "            has_zeros_in_locations = (canvas_mask[non_zero_locations[:, 0], non_zero_locations[:, 1], non_zero_locations[:, 2]] == 0).all()\n",
        "\n",
        "            if has_zeros_in_locations:\n",
        "              canvas_mask += mask\n",
        "              canvas_original += final_originals[i]\n",
        "\n",
        "        mixed_masks[batch_idx] = canvas_mask\n",
        "        mixed_originals[batch_idx] = canvas_original\n",
        "\n",
        "    return mixed_originals, mixed_masks"
      ],
      "metadata": {
        "id": "_ooFkrnyYaNE"
      },
      "execution_count": null,
      "outputs": []
    },
    {
      "cell_type": "code",
      "source": [
        "class EarlyStopping:\n",
        "    def __init__(self, patience=5, min_delta=0, mode='min', baseline=None):\n",
        "        \"\"\"\n",
        "        Early stopping to terminate training when a metric doesn't improve after a given number of epochs.\n",
        "\n",
        "        Args:\n",
        "            patience (int): How many epochs to wait before stopping if no improvement.\n",
        "            min_delta (float): Minimum change in the monitored metric to qualify as an improvement.\n",
        "            mode (str): 'min' for a metric that should decrease, 'max' for a metric that should increase.\n",
        "            baseline (float): An initial baseline to compare against.\n",
        "        \"\"\"\n",
        "        self.patience = patience\n",
        "        self.min_delta = min_delta\n",
        "        self.mode = mode\n",
        "        self.best_metric = baseline\n",
        "        self.wait = 0\n",
        "        self.early_stop = False\n",
        "\n",
        "        if mode == 'min':\n",
        "            self.best_metric = float('inf') if baseline is None else baseline\n",
        "        elif mode == 'max':\n",
        "            self.best_metric = float('-inf') if baseline is None else baseline\n",
        "        else:\n",
        "            raise ValueError(\"Mode should be 'min' or 'max'\")\n",
        "\n",
        "    def update(self, current_metric):\n",
        "        \"\"\"\n",
        "        Updates the early stopping status.\n",
        "\n",
        "        Args:\n",
        "            current_metric (float): Current value of the monitored metric.\n",
        "        \"\"\"\n",
        "        if self.mode == 'min':\n",
        "            improved = (current_metric < self.best_metric - self.min_delta)\n",
        "        else:  # 'max'\n",
        "            improved = (current_metric > self.best_metric + self.min_delta)\n",
        "\n",
        "        if improved:\n",
        "            self.best_metric = current_metric\n",
        "            self.wait = 0\n",
        "            self.early_stop = False\n",
        "        else:\n",
        "            self.wait += 1\n",
        "            if self.wait >= self.patience:\n",
        "                self.early_stop = True\n"
      ],
      "metadata": {
        "id": "F_DIeQ6Fm_9S"
      },
      "execution_count": null,
      "outputs": []
    },
    {
      "cell_type": "markdown",
      "source": [
        " Run the training. This will take several hours sadly..."
      ],
      "metadata": {
        "id": "1C5WPZyk6Uqm"
      }
    },
    {
      "cell_type": "code",
      "source": [
        "# Initialize early stopping with a patience of 5 epochs and no minimum change required for improvement\n",
        "early_stopping = EarlyStopping(patience=5, min_delta=0, mode='min')\n",
        "\n",
        "val_every = 1\n",
        "\n",
        "max_epochs = 40\n",
        "\n",
        "train_losses = []\n",
        "val_losses = []\n",
        "epoch_train_losses = []\n",
        "epoch_val_losses = []\n",
        "val_loss_mean = None\n",
        "best_metric = float('inf')\n",
        "model_path = 'best_model.pth'  # Path to save the best model\n",
        "\n",
        "torch.cuda.empty_cache()\n",
        "\n",
        "for epoch in range(max_epochs):\n",
        "    model.train()\n",
        "\n",
        "    loss_mean = 0\n",
        "    num_batches = 0\n",
        "    for batch in tqdm(train_loader):\n",
        "        inputs = batch['image'].cuda()\n",
        "        label = batch['label'].argmax(dim=1).cuda()\n",
        "        expected = batch['mask'].cuda() * (label.view(-1, 1, 1, 1) + 1)\n",
        "\n",
        "        inputs, expected = mix_images(inputs, expected)\n",
        "\n",
        "        optimizer.zero_grad()\n",
        "        outputs = model(inputs)\n",
        "\n",
        "        loss = loss_fn(outputs, expected.unsqueeze(1))\n",
        "\n",
        "        loss.backward()\n",
        "        optimizer.step()\n",
        "\n",
        "        with torch.no_grad():\n",
        "            loss_mean += loss.item()\n",
        "            num_batches += 1\n",
        "            train_losses.append(loss.item())\n",
        "\n",
        "\n",
        "    loss_mean /= num_batches\n",
        "    epoch_train_losses.append(loss_mean)\n",
        "\n",
        "    if epoch % val_every == 0:\n",
        "        model.eval()\n",
        "\n",
        "        val_loss_mean = 0\n",
        "        num_batches = 0\n",
        "        for batch in tqdm(val_loader):\n",
        "            inputs = batch['image'].cuda()\n",
        "            label = batch['label'].argmax(dim=1).cuda()\n",
        "            expected = batch['mask'].cuda() * (label.view(-1, 1, 1, 1) + 1)\n",
        "\n",
        "            inputs, expected = mix_images(inputs, expected)\n",
        "\n",
        "            with torch.no_grad():\n",
        "                outputs = model(inputs)\n",
        "                loss = loss_fn(outputs, expected.unsqueeze(1))\n",
        "                val_loss_mean += loss.item()\n",
        "                num_batches += 1\n",
        "                val_losses.append(loss.item())\n",
        "\n",
        "        val_loss_mean /= num_batches\n",
        "        epoch_val_losses.append(val_loss_mean)\n",
        "\n",
        "        # If the model improved, save it\n",
        "        if val_loss_mean < best_metric:\n",
        "            best_metric = val_loss_mean\n",
        "            torch.save(model.state_dict(), model_path)\n",
        "            print(\"Saving new best model\")\n",
        "\n",
        "        # Update early stopping with the current validation loss\n",
        "        early_stopping.update(val_loss_mean)\n",
        "\n",
        "        # If early stopping is triggered, break the training loop\n",
        "        if early_stopping.early_stop:\n",
        "            print(f\"Early stopping triggered at epoch {epoch + 1}\")\n",
        "            break\n",
        "\n",
        "    # Save a checkpoint at the end of each epoch\n",
        "    checkpoint = {\n",
        "        'model': model.state_dict(),\n",
        "        'optimizer': optimizer.state_dict(),\n",
        "        'epoch': epoch,\n",
        "        'train_losses': train_losses,\n",
        "        'val_losses': val_losses,\n",
        "        'epoch_train_losses': epoch_train_losses,\n",
        "        'epoch_val_losses': epoch_val_losses,\n",
        "        'best_metric': best_metric,\n",
        "    }\n",
        "    torch.save(checkpoint, 'latest_model.ckpt')\n",
        "\n",
        "    print(f\"Epoch {epoch + 1}, loss: {loss_mean:.4f}, val. loss: {val_loss_mean:.4f}\")"
      ],
      "metadata": {
        "id": "DOqjb6b_6Uqm",
        "colab": {
          "base_uri": "https://localhost:8080/",
          "height": 445
        },
        "outputId": "35fde63d-508e-44c6-f9c0-7b6707376647"
      },
      "execution_count": null,
      "outputs": [
        {
          "output_type": "stream",
          "name": "stderr",
          "text": [
            "\r  0%|          | 0/533 [00:00<?, ?it/s]/usr/lib/python3.10/multiprocessing/popen_fork.py:66: RuntimeWarning: os.fork() was called. os.fork() is incompatible with multithreaded code, and JAX is multithreaded, so this will likely lead to a deadlock.\n",
            "  self.pid = os.fork()\n",
            " 26%|██▌       | 138/533 [03:51<11:02,  1.68s/it]\n"
          ]
        },
        {
          "output_type": "error",
          "ename": "KeyboardInterrupt",
          "evalue": "",
          "traceback": [
            "\u001b[0;31m---------------------------------------------------------------------------\u001b[0m",
            "\u001b[0;31mKeyboardInterrupt\u001b[0m                         Traceback (most recent call last)",
            "\u001b[0;32m<ipython-input-31-ee5fe53a9f4c>\u001b[0m in \u001b[0;36m<cell line: 18>\u001b[0;34m()\u001b[0m\n\u001b[1;32m     37\u001b[0m \u001b[0;34m\u001b[0m\u001b[0m\n\u001b[1;32m     38\u001b[0m         \u001b[0;32mwith\u001b[0m \u001b[0mtorch\u001b[0m\u001b[0;34m.\u001b[0m\u001b[0mno_grad\u001b[0m\u001b[0;34m(\u001b[0m\u001b[0;34m)\u001b[0m\u001b[0;34m:\u001b[0m\u001b[0;34m\u001b[0m\u001b[0;34m\u001b[0m\u001b[0m\n\u001b[0;32m---> 39\u001b[0;31m             \u001b[0mloss_mean\u001b[0m \u001b[0;34m+=\u001b[0m \u001b[0mloss\u001b[0m\u001b[0;34m.\u001b[0m\u001b[0mitem\u001b[0m\u001b[0;34m(\u001b[0m\u001b[0;34m)\u001b[0m\u001b[0;34m\u001b[0m\u001b[0;34m\u001b[0m\u001b[0m\n\u001b[0m\u001b[1;32m     40\u001b[0m             \u001b[0mnum_batches\u001b[0m \u001b[0;34m+=\u001b[0m \u001b[0;36m1\u001b[0m\u001b[0;34m\u001b[0m\u001b[0;34m\u001b[0m\u001b[0m\n\u001b[1;32m     41\u001b[0m             \u001b[0mtrain_losses\u001b[0m\u001b[0;34m.\u001b[0m\u001b[0mappend\u001b[0m\u001b[0;34m(\u001b[0m\u001b[0mloss\u001b[0m\u001b[0;34m.\u001b[0m\u001b[0mitem\u001b[0m\u001b[0;34m(\u001b[0m\u001b[0;34m)\u001b[0m\u001b[0;34m)\u001b[0m\u001b[0;34m\u001b[0m\u001b[0;34m\u001b[0m\u001b[0m\n",
            "\u001b[0;32m/usr/local/lib/python3.10/dist-packages/monai/data/meta_tensor.py\u001b[0m in \u001b[0;36m__torch_function__\u001b[0;34m(cls, func, types, args, kwargs)\u001b[0m\n\u001b[1;32m    280\u001b[0m         \u001b[0;32mif\u001b[0m \u001b[0mkwargs\u001b[0m \u001b[0;32mis\u001b[0m \u001b[0;32mNone\u001b[0m\u001b[0;34m:\u001b[0m\u001b[0;34m\u001b[0m\u001b[0;34m\u001b[0m\u001b[0m\n\u001b[1;32m    281\u001b[0m             \u001b[0mkwargs\u001b[0m \u001b[0;34m=\u001b[0m \u001b[0;34m{\u001b[0m\u001b[0;34m}\u001b[0m\u001b[0;34m\u001b[0m\u001b[0;34m\u001b[0m\u001b[0m\n\u001b[0;32m--> 282\u001b[0;31m         \u001b[0mret\u001b[0m \u001b[0;34m=\u001b[0m \u001b[0msuper\u001b[0m\u001b[0;34m(\u001b[0m\u001b[0;34m)\u001b[0m\u001b[0;34m.\u001b[0m\u001b[0m__torch_function__\u001b[0m\u001b[0;34m(\u001b[0m\u001b[0mfunc\u001b[0m\u001b[0;34m,\u001b[0m \u001b[0mtypes\u001b[0m\u001b[0;34m,\u001b[0m \u001b[0margs\u001b[0m\u001b[0;34m,\u001b[0m \u001b[0mkwargs\u001b[0m\u001b[0;34m)\u001b[0m\u001b[0;34m\u001b[0m\u001b[0;34m\u001b[0m\u001b[0m\n\u001b[0m\u001b[1;32m    283\u001b[0m         \u001b[0;31m# if `out` has been used as argument, metadata is not copied, nothing to do.\u001b[0m\u001b[0;34m\u001b[0m\u001b[0;34m\u001b[0m\u001b[0m\n\u001b[1;32m    284\u001b[0m         \u001b[0;31m# if \"out\" in kwargs:\u001b[0m\u001b[0;34m\u001b[0m\u001b[0;34m\u001b[0m\u001b[0m\n",
            "\u001b[0;32m/usr/local/lib/python3.10/dist-packages/torch/_tensor.py\u001b[0m in \u001b[0;36m__torch_function__\u001b[0;34m(cls, func, types, args, kwargs)\u001b[0m\n\u001b[1;32m   1416\u001b[0m \u001b[0;34m\u001b[0m\u001b[0m\n\u001b[1;32m   1417\u001b[0m         \u001b[0;32mwith\u001b[0m \u001b[0m_C\u001b[0m\u001b[0;34m.\u001b[0m\u001b[0mDisableTorchFunctionSubclass\u001b[0m\u001b[0;34m(\u001b[0m\u001b[0;34m)\u001b[0m\u001b[0;34m:\u001b[0m\u001b[0;34m\u001b[0m\u001b[0;34m\u001b[0m\u001b[0m\n\u001b[0;32m-> 1418\u001b[0;31m             \u001b[0mret\u001b[0m \u001b[0;34m=\u001b[0m \u001b[0mfunc\u001b[0m\u001b[0;34m(\u001b[0m\u001b[0;34m*\u001b[0m\u001b[0margs\u001b[0m\u001b[0;34m,\u001b[0m \u001b[0;34m**\u001b[0m\u001b[0mkwargs\u001b[0m\u001b[0;34m)\u001b[0m\u001b[0;34m\u001b[0m\u001b[0;34m\u001b[0m\u001b[0m\n\u001b[0m\u001b[1;32m   1419\u001b[0m             \u001b[0;32mif\u001b[0m \u001b[0mfunc\u001b[0m \u001b[0;32min\u001b[0m \u001b[0mget_default_nowrap_functions\u001b[0m\u001b[0;34m(\u001b[0m\u001b[0;34m)\u001b[0m\u001b[0;34m:\u001b[0m\u001b[0;34m\u001b[0m\u001b[0;34m\u001b[0m\u001b[0m\n\u001b[1;32m   1420\u001b[0m                 \u001b[0;32mreturn\u001b[0m \u001b[0mret\u001b[0m\u001b[0;34m\u001b[0m\u001b[0;34m\u001b[0m\u001b[0m\n",
            "\u001b[0;31mKeyboardInterrupt\u001b[0m: "
          ]
        }
      ]
    },
    {
      "cell_type": "markdown",
      "source": [
        "Plot the training and validation losses"
      ],
      "metadata": {
        "id": "bZ9KULgAOoQu"
      }
    },
    {
      "cell_type": "code",
      "source": [
        "import matplotlib.pyplot as plt\n",
        "import numpy as np\n",
        "\n",
        "#----------------------------- TRAINING -----------------------------\n",
        "\n",
        "# Calculate the total number of iterations\n",
        "total_iterations = len(train_losses)\n",
        "# Calculate the number of iterations per epoch\n",
        "iterations_per_epoch = total_iterations // len(epoch_train_losses)\n",
        "\n",
        "# Generate x-axis ticks corresponding to the epochs\n",
        "epoch_ticks = np.arange(0, total_iterations, iterations_per_epoch)\n",
        "\n",
        "# Plot training loss with epoch ticks\n",
        "plt.plot(train_losses, label='Training Loss', color='green')\n",
        "plt.xlabel('Epochs')\n",
        "plt.ylabel('Loss')\n",
        "plt.title('Training Loss')\n",
        "plt.xticks(epoch_ticks, np.arange(1, len(epoch_train_losses) + 1))  # Set epoch numbers as ticks\n",
        "plt.legend()\n",
        "plt.show()\n",
        "\n",
        "#----------------------------- VALIDATION -----------------------------\n",
        "\n",
        "# Calculate the total number of iterations\n",
        "total_iterations = len(val_losses)\n",
        "# Calculate the number of iterations per epoch\n",
        "iterations_per_epoch = total_iterations // len(epoch_val_losses)\n",
        "\n",
        "# Generate x-axis ticks corresponding to the epochs\n",
        "epoch_ticks = np.arange(0, total_iterations, iterations_per_epoch)\n",
        "\n",
        "# Plot validation loss with epoch ticks\n",
        "plt.plot(val_losses, label='Validation Loss', color='orange')\n",
        "plt.xlabel('Epochs')\n",
        "plt.ylabel('Loss')\n",
        "plt.title('Validation Loss')\n",
        "plt.xticks(epoch_ticks, np.arange(1, len(epoch_val_losses) + 1))  # Set epoch numbers as ticks\n",
        "plt.legend()\n",
        "plt.show()"
      ],
      "metadata": {
        "id": "WR5LvwS3Kzwv"
      },
      "execution_count": null,
      "outputs": []
    },
    {
      "cell_type": "code",
      "source": [
        "epoch"
      ],
      "metadata": {
        "id": "2egcHyVl6Uqn"
      },
      "execution_count": null,
      "outputs": []
    },
    {
      "cell_type": "markdown",
      "source": [
        "Let's see the val losses"
      ],
      "metadata": {
        "id": "dxSIdmTH6Uqn"
      }
    },
    {
      "cell_type": "code",
      "source": [
        "plt.plot(epoch_val_losses)"
      ],
      "metadata": {
        "id": "4byv5J2j6Uqn"
      },
      "execution_count": null,
      "outputs": []
    },
    {
      "cell_type": "markdown",
      "source": [
        "Not much and then we suddenly drop to good performance. Weird, but we'll take it for now.\n",
        "\n",
        "It would likely be smart to look further into this - but for now, let's just use the trained model to predict the test set."
      ],
      "metadata": {
        "id": "aCyM3F1u6Uqx"
      }
    },
    {
      "cell_type": "markdown",
      "source": [
        "## Predictions on single bugs\n",
        "\n",
        "First, we'll try it out on the validation examples with single bugs, just as a sanity check that it works for the trained task. To do this, we'll make a helper function:"
      ],
      "metadata": {
        "id": "HEYATjJ-6Uqy"
      }
    },
    {
      "cell_type": "code",
      "source": [
        "# Load the state dictionary\n",
        "model_path = 'best_model.pth'\n",
        "state_dict = torch.load(model_path)\n",
        "\n",
        "# Apply the state dictionary to your model\n",
        "model.load_state_dict(state_dict)"
      ],
      "metadata": {
        "id": "Bg5W74H1lFyN"
      },
      "execution_count": null,
      "outputs": []
    },
    {
      "cell_type": "code",
      "source": [
        "from skimage import measure\n",
        "\n",
        "def predict(image):\n",
        "    with torch.no_grad():\n",
        "        pred = model(image)\n",
        "    pred_sm = pred.softmax(dim=1).cpu().numpy()\n",
        "    class_props = []\n",
        "    for i in range(1, 13):\n",
        "        props = measure.regionprops(\n",
        "            measure.label(pred_sm[0, i] > 0.5)\n",
        "        )\n",
        "        props = [p for p in props if p.area > 5**3]\n",
        "        class_props.append(props)\n",
        "\n",
        "    boxes = np.array([p.bbox for props in class_props for p in props])\n",
        "    centers = np.array([p.centroid for props in class_props for p in props])\n",
        "    labels = np.array([i + 1 for i, props in enumerate(class_props) for p in props])\n",
        "    scores = np.ones(len(boxes))\n",
        "    return {\n",
        "        'boxes': boxes,\n",
        "        'centers': centers,\n",
        "        'labels': labels,\n",
        "        'scores': scores,\n",
        "        'pred': pred_sm,\n",
        "    }"
      ],
      "metadata": {
        "id": "cNo3c1qp6Uqy"
      },
      "execution_count": 21,
      "outputs": []
    },
    {
      "cell_type": "markdown",
      "source": [
        "Now, load an image and run a prediction:"
      ],
      "metadata": {
        "id": "79vSy6s96Uqy"
      }
    },
    {
      "cell_type": "code",
      "source": [
        "from skimage.io import imread\n",
        "\n",
        "fname = val_images[70]\n",
        "image = imread(fname)\n",
        "print(fname)"
      ],
      "metadata": {
        "id": "FNgIWKaq6Uqy"
      },
      "execution_count": null,
      "outputs": []
    },
    {
      "cell_type": "code",
      "source": [
        "image = np.pad(image / 255.0, ((0, 0), (32, 32), (32, 32)))\n",
        "pred = predict(torch.tensor(image[None, None]).float().cuda())"
      ],
      "metadata": {
        "id": "RlfCiJw26Uqy"
      },
      "execution_count": null,
      "outputs": []
    },
    {
      "cell_type": "code",
      "source": [
        "np.unique(pred['pred'][0].argmax(axis=0))"
      ],
      "metadata": {
        "id": "krpPUKuO6Uqy"
      },
      "execution_count": null,
      "outputs": []
    },
    {
      "cell_type": "code",
      "source": [
        "from matplotlib.patches import Rectangle\n",
        "\n",
        "a = 1\n",
        "\n",
        "#fig, ax = plt.subplots(figsize=(10, 10))\n",
        "fig, ax = plt.subplots()\n",
        "ax.imshow(image.max(axis=a), cmap='gray')\n",
        "ax.imshow(pred['pred'][0].argmax(axis=0).max(axis=a), alpha=0.5, interpolation='none')\n",
        "for box, center, label in zip(pred['boxes'], pred['centers'], pred['labels']):\n",
        "    if a == 0:\n",
        "        center = (center[2] - 0.5, center[1] - 0.5)\n",
        "        xy = (box[2] - 0.5, box[1] - 0.5)\n",
        "        height = box[4] - box[1]\n",
        "        width = box[5] - box[2]\n",
        "    elif a == 1:\n",
        "        center = (center[2] - 0.5, center[0] - 0.5)\n",
        "        xy = (box[2] - 0.5, box[0] - 0.5)\n",
        "        height = box[3] - box[0]\n",
        "        width = box[5] - box[2]\n",
        "    else:\n",
        "        center = (center[1] - 0.5, center[0] - 0.5)\n",
        "        xy = (box[1] - 0.5, box[0] - 0.5)\n",
        "        height = box[3] - box[0]\n",
        "        width = box[4] - box[1]\n",
        "    ax.add_patch(\n",
        "        Rectangle(xy, width, height, edgecolor='r', facecolor='none'))\n",
        "    ax.plot(center[0], center[1], 'ro')\n",
        "    ax.text(xy[0], xy[1] - 1, class_names[label - 1], color='r')"
      ],
      "metadata": {
        "id": "YoGtTlaO6Uqy"
      },
      "execution_count": null,
      "outputs": []
    },
    {
      "cell_type": "markdown",
      "source": [
        "# Predictions on mixed volumes\n",
        "\n",
        "Satisfied it works on the single bugs, we'll now try the validation examples with a mixture of bugs:"
      ],
      "metadata": {
        "id": "QBWEyoci6Uqz"
      }
    },
    {
      "cell_type": "code",
      "source": [
        "validation_dir = '/content/BugNIST_DATA/validation/'"
      ],
      "metadata": {
        "id": "LvE6K36_NGur"
      },
      "execution_count": null,
      "outputs": []
    },
    {
      "cell_type": "code",
      "source": [
        "mixed_images = sorted(glob.glob(validation_dir + '*.tif'))"
      ],
      "metadata": {
        "id": "0eQTxU9h6Uqz"
      },
      "execution_count": null,
      "outputs": []
    },
    {
      "cell_type": "code",
      "source": [
        "fname = mixed_images[10]\n",
        "image = imread(fname)\n",
        "image = np.pad(image / 255.0, ((0, 0), (18, 18), (18, 18)))  # Pad to even side length\n",
        "image.shape"
      ],
      "metadata": {
        "id": "LN3enWZd6Uqz"
      },
      "execution_count": null,
      "outputs": []
    },
    {
      "cell_type": "code",
      "source": [
        "plt.imshow(image.max(axis=1), cmap='gray')"
      ],
      "metadata": {
        "id": "ZZaoFulI6Uqz"
      },
      "execution_count": null,
      "outputs": []
    },
    {
      "cell_type": "code",
      "source": [
        "pred = predict(torch.tensor(image[None, None]).float().cuda())"
      ],
      "metadata": {
        "id": "Y6lzWzFa6Uqz"
      },
      "execution_count": null,
      "outputs": []
    },
    {
      "cell_type": "code",
      "source": [
        "np.unique(pred['pred'][0].argmax(axis=0))"
      ],
      "metadata": {
        "id": "yeUsP2KY6Uqz"
      },
      "execution_count": null,
      "outputs": []
    },
    {
      "cell_type": "code",
      "source": [
        "from matplotlib.patches import Rectangle\n",
        "\n",
        "a = 2\n",
        "\n",
        "#fig, ax = plt.subplots(figsize=(10, 10))\n",
        "fig, ax = plt.subplots()\n",
        "ax.imshow(image.max(axis=a), cmap='gray')\n",
        "ax.imshow(pred['pred'][0].argmax(axis=0).max(axis=a), alpha=0.5, interpolation='none')\n",
        "for box, center, label in zip(pred['boxes'], pred['centers'], pred['labels']):\n",
        "    if a == 0:\n",
        "        center = (center[2] - 0.5, center[1] - 0.5)\n",
        "        xy = (box[2] - 0.5, box[1] - 0.5)\n",
        "        height = box[4] - box[1]\n",
        "        width = box[5] - box[2]\n",
        "    elif a == 1:\n",
        "        center = (center[2] - 0.5, center[0] - 0.5)\n",
        "        xy = (box[2] - 0.5, box[0] - 0.5)\n",
        "        height = box[3] - box[0]\n",
        "        width = box[5] - box[2]\n",
        "    else:\n",
        "        center = (center[1] - 0.5, center[0] - 0.5)\n",
        "        xy = (box[1] - 0.5, box[0] - 0.5)\n",
        "        height = box[3] - box[0]\n",
        "        width = box[4] - box[1]\n",
        "    ax.add_patch(\n",
        "        Rectangle(xy, width, height, edgecolor='r', facecolor='none'))\n",
        "    ax.plot(center[0], center[1], 'ro')\n",
        "    ax.text(xy[0], xy[1] - 1, class_names[label - 1], color='r')"
      ],
      "metadata": {
        "id": "FC8EqQbc6Uqz"
      },
      "execution_count": null,
      "outputs": []
    },
    {
      "cell_type": "markdown",
      "source": [
        "Performance is not *great*, but it's finding something. This is to be expected when the model has only seen single bugs during training. Someone should get on that ;-)\n",
        "\n",
        "Let's now try to format our predictions in the competition format. First, we load the sample CSV file"
      ],
      "metadata": {
        "id": "D9Yio2xN6Uq0"
      }
    },
    {
      "cell_type": "code",
      "source": [
        "import pandas as pd\n",
        "\n",
        "validation = pd.read_csv(validation_dir + 'validation.csv')"
      ],
      "metadata": {
        "id": "E1CLVuFW6Uq0"
      },
      "execution_count": null,
      "outputs": []
    },
    {
      "cell_type": "code",
      "source": [
        "validation.set_index('filename', inplace=True)\n",
        "validation"
      ],
      "metadata": {
        "id": "mmovrNie6Uq0"
      },
      "execution_count": null,
      "outputs": []
    },
    {
      "cell_type": "markdown",
      "source": [
        "Now, let's load the row corresponding to our current file"
      ],
      "metadata": {
        "id": "oaLG9zjc6Uq0"
      }
    },
    {
      "cell_type": "code",
      "source": [
        "from pathlib import Path\n",
        "\n",
        "fname = Path(fname)\n",
        "fname.name"
      ],
      "metadata": {
        "id": "UVMDQumD6Uq0"
      },
      "execution_count": null,
      "outputs": []
    },
    {
      "cell_type": "markdown",
      "source": [
        "and unpack it to get the points"
      ],
      "metadata": {
        "id": "6UP3JP9S6Uq0"
      }
    },
    {
      "cell_type": "code",
      "source": [
        "val_string = validation.loc[fname.name][0]\n",
        "true_labels = val_string.split(';')[::4]\n",
        "true_centers = np.array([\n",
        "    [float(x) for x in val_string.split(';')[1::4]],\n",
        "    [float(x) for x in val_string.split(';')[2::4]],\n",
        "    [float(x) for x in val_string.split(';')[3::4]],\n",
        "]).T\n",
        "\n",
        "true_centers = true_centers[:, [2, 1, 0]]\n",
        "true_centers += np.array([[0, 18, 18]])\n",
        "\n",
        "print(true_labels)\n",
        "print(true_centers)"
      ],
      "metadata": {
        "id": "gK7ym7H66Uq0"
      },
      "execution_count": null,
      "outputs": []
    },
    {
      "cell_type": "markdown",
      "source": [
        "Let's now plot them. Importantly, we use the same plotting code as before, so we can be fairly confident that our predictions have the correct coordinates"
      ],
      "metadata": {
        "id": "DsdvfDo56Uq1"
      }
    },
    {
      "cell_type": "code",
      "source": [
        "a = 1\n",
        "\n",
        "#fig, ax = plt.subplots(figsize=(10, 10))\n",
        "fig, ax = plt.subplots()\n",
        "ax.imshow(image.max(axis=a), cmap='gray')\n",
        "for center, label in zip(true_centers, true_labels):\n",
        "    if a == 0:\n",
        "        center = (center[2] - 0.5, center[1] - 0.5)\n",
        "    elif a == 1:\n",
        "        center = (center[2] - 0.5, center[0] - 0.5)\n",
        "    else:\n",
        "        center = (center[1] - 0.5, center[0] - 0.5)\n",
        "    ax.plot(center[0], center[1], 'ro')\n",
        "    ax.text(center[0], center[1] - 1, label, color='r')"
      ],
      "metadata": {
        "id": "xsFFE6YV6Uq1"
      },
      "execution_count": null,
      "outputs": []
    },
    {
      "cell_type": "markdown",
      "source": [
        "Looks good. Let's now make a helper function that takes a list of points and packs into the format needed for a competition solution:"
      ],
      "metadata": {
        "id": "JVGt2yee6Uq1"
      }
    },
    {
      "cell_type": "code",
      "source": [
        "def pack_prediction(centers, labels):\n",
        "    if centers.shape == (0,):\n",
        "      print(\"Found empty prediction..\")\n",
        "      return\n",
        "    centers = centers - np.array([[0, 18, 18]])\n",
        "    strings = []\n",
        "    for l, c in zip(labels, centers):\n",
        "        strings.append(f\"{l};{c[2]};{c[1]};{c[0]}\")\n",
        "    return \";\".join(strings)"
      ],
      "metadata": {
        "id": "GddaZg4t6Uq1"
      },
      "execution_count": 30,
      "outputs": []
    },
    {
      "cell_type": "markdown",
      "source": [
        "Testing it out:"
      ],
      "metadata": {
        "id": "lDAQ_b6y6Uq1"
      }
    },
    {
      "cell_type": "code",
      "source": [
        "validation.loc[fname.name][0]"
      ],
      "metadata": {
        "id": "ZrVv5mZ-6Uq1"
      },
      "execution_count": null,
      "outputs": []
    },
    {
      "cell_type": "code",
      "source": [
        "pack_prediction(true_centers, true_labels)"
      ],
      "metadata": {
        "id": "29gkkATD6Uq1"
      },
      "execution_count": null,
      "outputs": []
    },
    {
      "cell_type": "markdown",
      "source": [
        "Looks good. It packs the data back to the same format.\n",
        "\n",
        "Now, we need to convert our prediction labels to the string labels used in the competition:"
      ],
      "metadata": {
        "id": "dr7hBt3u6Uq1"
      }
    },
    {
      "cell_type": "code",
      "source": [
        "pred_text_labels = [class_names[l - 1].lower() for l in pred['labels']]\n",
        "pred_text_labels"
      ],
      "metadata": {
        "id": "x9McW17R6Uq2"
      },
      "execution_count": null,
      "outputs": []
    },
    {
      "cell_type": "markdown",
      "source": [
        "and we can now build a competition submission row for this image:"
      ],
      "metadata": {
        "id": "f00iZXp56Uq2"
      }
    },
    {
      "cell_type": "code",
      "source": [
        "pack_prediction(pred['centers'], pred_text_labels)"
      ],
      "metadata": {
        "id": "Ci8smtpv6Uq2"
      },
      "execution_count": null,
      "outputs": []
    },
    {
      "cell_type": "markdown",
      "source": [
        "Let's now run a prediction run on all the validation volumes"
      ],
      "metadata": {
        "id": "MWnAIMxO6Uq2"
      }
    },
    {
      "cell_type": "code",
      "source": [
        "submission = {\n",
        "    'filenames': [],\n",
        "    'centerpoints': [],\n",
        "}\n",
        "\n",
        "for fname in tqdm(mixed_images):\n",
        "    image = imread(fname)\n",
        "    image = np.pad(image / 255.0, ((0, 0), (18, 18), (18, 18)))\n",
        "    pred = predict(torch.tensor(image[None, None]).float().cuda())\n",
        "    pred_text_labels = [class_names[l - 1].lower() for l in pred['labels']]\n",
        "    pred_text = pack_prediction(pred['centers'], pred_text_labels)\n",
        "    submission['filenames'].append(Path(fname).name)\n",
        "    submission['centerpoints'].append(pred_text)"
      ],
      "metadata": {
        "id": "q5QkPljB6Uq2"
      },
      "execution_count": null,
      "outputs": []
    },
    {
      "cell_type": "code",
      "source": [
        "print(pred['centers'])\n",
        "print(pred_text_labels)"
      ],
      "metadata": {
        "id": "r5aJiGfvxDIH"
      },
      "execution_count": null,
      "outputs": []
    },
    {
      "cell_type": "markdown",
      "source": [
        "Our submission would then be:"
      ],
      "metadata": {
        "id": "KNvT_HQ16Uq2"
      }
    },
    {
      "cell_type": "code",
      "source": [
        "submission = pd.DataFrame(submission)\n",
        "submission"
      ],
      "metadata": {
        "id": "xxGwT4R86Uq2"
      },
      "execution_count": null,
      "outputs": []
    },
    {
      "cell_type": "markdown",
      "source": [
        "Which matches the format from the supplied csv file:"
      ],
      "metadata": {
        "id": "hCTswChQ6Uq2"
      }
    },
    {
      "cell_type": "code",
      "source": [
        "validation"
      ],
      "metadata": {
        "id": "6G1eIARt6Uq3"
      },
      "execution_count": null,
      "outputs": []
    },
    {
      "cell_type": "markdown",
      "source": [
        "# Predictions on public test volumes\n",
        "\n",
        "Finally, we can run a prediction run for the actual test volumes to build an actual submission:"
      ],
      "metadata": {
        "id": "xKRISMvs6Uq3"
      }
    },
    {
      "cell_type": "code",
      "source": [
        "test_dir = '/content/BugNIST_DATA/test/'"
      ],
      "metadata": {
        "id": "BUSUbIjTNUz6"
      },
      "execution_count": null,
      "outputs": []
    },
    {
      "cell_type": "code",
      "source": [
        "mixed_images = sorted(glob.glob(test_dir + '*.tif'))"
      ],
      "metadata": {
        "id": "uXyUBUE46Uq3"
      },
      "execution_count": null,
      "outputs": []
    },
    {
      "cell_type": "code",
      "source": [
        "submission = {\n",
        "    'filename': [],\n",
        "    'centerpoints': [],\n",
        "}\n",
        "for fname in tqdm(mixed_images):\n",
        "    image = imread(fname)\n",
        "    image = np.pad(image / 255.0, ((0, 0), (18, 18), (18, 18)))\n",
        "    pred = predict(torch.tensor(image[None, None]).float().cuda())\n",
        "    pred_text_labels = [class_names[l - 1].lower() for l in pred['labels']]\n",
        "    pred_text = pack_prediction(pred['centers'], pred_text_labels)\n",
        "    submission['filename'].append(Path(fname).name)\n",
        "    submission['centerpoints'].append(pred_text)"
      ],
      "metadata": {
        "id": "4YLhXzLD6Uq3"
      },
      "execution_count": null,
      "outputs": []
    },
    {
      "cell_type": "code",
      "source": [
        "submission = pd.DataFrame(submission)\n",
        "submission"
      ],
      "metadata": {
        "id": "7uCQE3Pz6Uq3"
      },
      "execution_count": null,
      "outputs": []
    },
    {
      "cell_type": "code",
      "source": [
        "submission.to_csv('submission.csv', index=False)"
      ],
      "metadata": {
        "id": "eKkgFo_X6Uq3"
      },
      "execution_count": null,
      "outputs": []
    },
    {
      "cell_type": "markdown",
      "source": [
        "That's it - ready to submit!"
      ],
      "metadata": {
        "id": "L_Kl9Y5R6Uq3"
      }
    },
    {
      "cell_type": "markdown",
      "source": [
        "#Evaluation"
      ],
      "metadata": {
        "id": "CIDG1A5Eaxik"
      }
    },
    {
      "cell_type": "code",
      "source": [
        "weights = torch.load(\"best_model_final.pth\")\n",
        "model_dict = model.state_dict()\n",
        "\n",
        "# Fiter out missing keys, different or with different values' shapes (e.g. output layer)\n",
        "filtered_dict = {k: v for k, v in weights.items() if k in model_dict and v.shape == model_dict[k].shape}\n",
        "model_dict.update(filtered_dict)\n",
        "model.load_state_dict(model_dict)\n",
        "model = model.to(device)\n",
        "model.eval()\n",
        "from monai.metrics import DiceMetric\n",
        "################################### METRICS FOR THE LABELS, CLASS BY CLASS AND OVERALL ##########################################################\n",
        "num_classes = 13\n",
        "dice_metrics = {f'class_{i}': DiceMetric(include_background=False, reduction='mean') for i in range(num_classes)}\n",
        "overall_dice = DiceMetric(include_background=True, reduction='mean')\n",
        "\n",
        "with torch.no_grad():\n",
        "    for batch_data in val_loader:\n",
        "        inputs, labels = batch_data['image'].to(device), batch_data['label'].to(device)\n",
        "        outputs = model(inputs)\n",
        "        outputs = torch.softmax(outputs, dim=1)\n",
        "\n",
        "        background = torch.clamp(1 - labels.sum(dim=1, keepdim=True), min=0, max=1)\n",
        "        labels = torch.cat([background, labels], dim=1)  # Add background as the first channel\n",
        "\n",
        "        overall_dice(y_pred=outputs, y=labels)\n",
        "\n",
        "        for i in range(outputs.shape[1]):\n",
        "            class_outputs = outputs[:, i, ...].unsqueeze(1)\n",
        "            class_labels = labels[:, i, ...].unsqueeze(1)\n",
        "            #print(class_labels)\n",
        "            print(class_labels.any())\n",
        "            if class_labels.any():\n",
        "              dice_metrics[f'class_{i}'](y_pred=outputs, y=labels)\n",
        "\n"
      ],
      "metadata": {
        "id": "9rUjdYDRa0S8"
      },
      "execution_count": null,
      "outputs": []
    },
    {
      "cell_type": "code",
      "source": [
        "dice_scores = {f'class_{i}': dice_metrics[f'class_{i}'].aggregate().item() for i in range(1,num_classes)}\n",
        "for class_id, dice_score in dice_scores.items():\n",
        "    print(f'Dice score for {class_id}: {dice_score}')\n",
        "    #dice_metrics[class_id].reset()\n",
        "\n",
        "\n",
        "overall_dice_score = overall_dice.aggregate().item()\n",
        "print(f'Overall Validation Dice Score: {overall_dice_score}')\n",
        "#overall_dice.reset()"
      ],
      "metadata": {
        "colab": {
          "base_uri": "https://localhost:8080/"
        },
        "id": "4SGO-Ia2QFAi",
        "outputId": "9fce991a-156b-45d2-989e-75384104a69c"
      },
      "execution_count": null,
      "outputs": [
        {
          "output_type": "stream",
          "name": "stdout",
          "text": [
            "Dice score for class_1: 1.9999990463256836\n",
            "Dice score for class_2: 1.9999990463256836\n",
            "Dice score for class_3: 1.9999990463256836\n",
            "Dice score for class_4: 1.9999990463256836\n",
            "Dice score for class_5: 1.9999990463256836\n",
            "Dice score for class_6: 1.9999990463256836\n",
            "Dice score for class_7: 1.9999990463256836\n",
            "Dice score for class_8: 1.9999990463256836\n",
            "Dice score for class_9: 1.9999990463256836\n",
            "Dice score for class_10: 1.9999990463256836\n",
            "Dice score for class_11: 1.9999990463256836\n",
            "Dice score for class_12: 1.9999990463256836\n",
            "Overall Validation Dice Score: 1.9999990463256836\n"
          ]
        }
      ]
    },
    {
      "cell_type": "markdown",
      "source": [
        "METRICS FOR THE CENTERS, CLASS BY CLASS AND OVERALL"
      ],
      "metadata": {
        "id": "QouMDYRlIHh2"
      }
    },
    {
      "cell_type": "code",
      "source": [
        "weights = torch.load(\"best_model_final.pth\")\n",
        "model_dict = model.state_dict()\n",
        "\n",
        "# Fiter out missing keys, different or with different values' shapes (e.g. output layer)\n",
        "filtered_dict = {k: v for k, v in weights.items() if k in model_dict and v.shape == model_dict[k].shape}\n",
        "model_dict.update(filtered_dict)\n",
        "model.load_state_dict(model_dict)\n",
        "model = model.to(device)\n",
        "model.eval()\n",
        "from monai.metrics import DiceMetric"
      ],
      "metadata": {
        "id": "sR_7SaF7Lf0c"
      },
      "execution_count": 23,
      "outputs": []
    },
    {
      "cell_type": "code",
      "source": [
        "from pathlib import Path\n",
        "dir = '/content/BugNIST_DATA/validation/'\n",
        "mixed_images = sorted(glob.glob(dir + '*.tif'))\n",
        "submission = {\n",
        "    'filename': [],\n",
        "    'centerpoints': [],\n",
        "}\n",
        "for fname in tqdm(mixed_images):\n",
        "    image = imread(fname)\n",
        "    image = np.pad(image / 255.0, ((0, 0), (18, 18), (18, 18)))\n",
        "    pred = predict(torch.tensor(image[None, None]).float().cuda())\n",
        "    pred_text_labels = [class_names[l - 1].lower() for l in pred['labels']]\n",
        "    pred_text = pack_prediction(pred['centers'], pred_text_labels)\n",
        "    submission['filename'].append(Path(fname).name)\n",
        "    submission['centerpoints'].append(pred_text)\n",
        "\n",
        "submission = pd.DataFrame(submission)"
      ],
      "metadata": {
        "id": "g2YabonEL8HV",
        "outputId": "ae1f9c72-1568-4387-8df1-f1a699a0a214",
        "colab": {
          "base_uri": "https://localhost:8080/"
        }
      },
      "execution_count": 38,
      "outputs": [
        {
          "output_type": "stream",
          "name": "stderr",
          "text": [
            "100%|██████████| 78/78 [03:38<00:00,  2.80s/it]\n"
          ]
        }
      ]
    },
    {
      "cell_type": "code",
      "source": [
        "submission.to_csv('submission2.csv', index=False)"
      ],
      "metadata": {
        "id": "2BWytuzMM9Kn"
      },
      "execution_count": 39,
      "outputs": []
    },
    {
      "cell_type": "code",
      "source": [
        "def parse_validation_data_ordered(filename):\n",
        "    validation_data = pd.read_csv(filename)\n",
        "    centers_ordered = []\n",
        "\n",
        "    for idx, row in validation_data.iterrows():\n",
        "        centers_str = row['centerpoints']\n",
        "        centers = []\n",
        "        if pd.notna(centers_str):\n",
        "            entries = centers_str.split(';')\n",
        "            for i in range(0, len(entries) - 3, 4):\n",
        "                label = entries[i]\n",
        "                try:\n",
        "                    x = float(entries[i+1])\n",
        "                    y = float(entries[i+2])\n",
        "                    z = float(entries[i+3])\n",
        "                    centers.append((x, y, z, label))\n",
        "                except ValueError:\n",
        "                    print(f\"Skipping malformed entry: {entries[i:i+4]}\")\n",
        "        centers_ordered.append(centers)\n",
        "\n",
        "    return centers_ordered"
      ],
      "metadata": {
        "id": "iv66sUXkIFBU"
      },
      "execution_count": null,
      "outputs": []
    },
    {
      "cell_type": "code",
      "source": [
        "from scipy.spatial.distance import cdist\n",
        "import torch\n",
        "import numpy as np\n",
        "\n",
        "def calculate_metrics_per_class(centers_ordered, val_loader):\n",
        "    device = torch.device(\"cuda\" if torch.cuda.is_available() else \"cpu\")\n",
        "    model.eval()\n",
        "    class_distances = {}\n",
        "    all_distances = []\n",
        "\n",
        "    # Assuming centers_ordered and val_loader are aligned\n",
        "    for data, ground_truth_centers in zip(val_loader, centers_ordered):\n",
        "        images = data['image'].to(device)\n",
        "        print(\"Images\")\n",
        "        for img, centers in zip(images, ground_truth_centers):\n",
        "            # Correct the shape of the image if necessary\n",
        "\n",
        "          img = image.cpu().numpy() / 255.0\n",
        "          img_padded = np.pad(img, ((0, 0), (0, 0), (18, 18), (18, 18)))\n",
        "\n",
        "          with torch.no_grad():\n",
        "             img_tensor = torch.from_numpy(img_padded).unsqueeze(0).float().cuda()\n",
        "             predicted_results = predict(img_tensor)  # Ensure batch dimension\n",
        "            predicted_centers = predicted_results['centers']\n",
        "            predicted_labels = predicted_results['labels']\n",
        "            print(\"res\")\n",
        "            print(predicted_centers)\n",
        "            print(centers)\n",
        "            if not predicted_centers.size or not centers:\n",
        "                continue\n",
        "            print(\"Okey\")\n",
        "            # Organize ground truths by class\n",
        "            ground_truth_dict = {}\n",
        "            for x, y, z, label in centers:\n",
        "                if label not in ground_truth_dict:\n",
        "                    ground_truth_dict[label] = []\n",
        "                ground_truth_dict[label].append((x, y, z))\n",
        "\n",
        "            # Compute distances per class\n",
        "            print(\"Compute distances per class\")\n",
        "            print(predicted_centers)\n",
        "            for pred_center, pred_label in zip(predicted_centers, predicted_labels):\n",
        "                if pred_label in ground_truth_dict:\n",
        "                    ground_truth_centers = np.array(ground_truth_dict[pred_label])\n",
        "                    distances = cdist([pred_center], ground_truth_centers)\n",
        "                    min_distance = np.min(distances)\n",
        "                    if pred_label not in class_distances:\n",
        "                        class_distances[pred_label] = []\n",
        "                    class_distances[pred_label].append(min_distance)\n",
        "                    all_distances.append(min_distance)\n",
        "\n",
        "    # Aggregate and print metrics\n",
        "    print(\"Aggregate and print metrics\")\n",
        "    print(class_distances)\n",
        "    for class_label, distances in class_distances.items():\n",
        "        avg_distance = np.mean(distances)\n",
        "        max_distance = np.max(distances)\n",
        "        print(f'Class {class_label} - Average Min Distance: {avg_distance}, Max Min Distance: {max_distance}')\n",
        "\n",
        "    if all_distances:\n",
        "        overall_avg_distance = np.mean(all_distances)\n",
        "        overall_max_distance = np.max(all_distances)\n",
        "        print(f'Overall - Average Min Distance: {overall_avg_distance}, Max Min Distance: {overall_max_distance}')\n"
      ],
      "metadata": {
        "id": "m1T3dZVUIMsP"
      },
      "execution_count": null,
      "outputs": []
    },
    {
      "cell_type": "code",
      "source": [
        "validation_centers = parse_validation_data_ordered('BugNIST_DATA/validation/validation.csv')\n",
        "print(validation_centers)\n",
        "calculate_metrics_per_class(validation_centers, val_loader)"
      ],
      "metadata": {
        "id": "J3wxvkqVITVQ",
        "colab": {
          "base_uri": "https://localhost:8080/",
          "height": 476
        },
        "outputId": "8203d0da-f9d4-4d46-a64d-44e0e518be90"
      },
      "execution_count": null,
      "outputs": [
        {
          "output_type": "stream",
          "name": "stdout",
          "text": [
            "[[(48.61, 39.14, 96.19, 'bl'), (77.71, 53.14, 57.17, 'bl'), (58.71, 73.71, 59.15, 'pp'), (48.42, 45.33, 51.75, 'pp'), (19.84, 62.44, 40.23, 'pp'), (22.67, 30.0, 53.13, 'pp'), (29.98, 42.06, 60.16, 'pp'), (78.57, 57.98, 41.85, 'bc'), (30.56, 19.43, 65.24, 'bc'), (29.44, 59.37, 47.22, 'bc')], [(77.86, 46.26, 57.79, 'ml'), (41.14, 61.93, 32.37, 'sl'), (56.09, 48.52, 56.2, 'sl'), (34.21, 70.82, 53.24, 'cf'), (52.7, 61.51, 44.71, 'cf'), (46.03, 15.26, 35.94, 'cf')], [(54.2, 34.58, 81.43, 'ml'), (59.6, 41.94, 60.72, 'ml'), (40.53, 41.62, 71.55, 'ml'), (57.57, 58.6, 39.59, 'ml'), (26.76, 65.45, 55.51, 'ml'), (20.74, 47.13, 63.01, 'wo'), (41.98, 24.51, 44.06, 'wo'), (54.8, 26.94, 29.58, 'wo'), (32.93, 69.94, 31.52, 'wo'), (58.46, 61.54, 87.81, 'wo')], [(44.37, 27.71, 85.18, 'wo'), (30.04, 28.46, 58.76, 'wo'), (46.5, 55.14, 96.45, 'wo'), (23.91, 47.43, 102.13, 'wo'), (57.88, 26.24, 60.98, 'ml'), (55.18, 56.66, 53.65, 'ml'), (33.72, 44.16, 56.61, 'ml'), (33.33, 65.46, 32.24, 'bl'), (56.26, 64.45, 38.28, 'bl'), (61.27, 55.57, 42.15, 'bl'), (46.0, 20.63, 22.77, 'bl'), (60.81, 17.04, 8.35, 'bl'), (42.55, 13.31, 28.11, 'bl')], [(74.65, 44.18, 52.53, 'pp'), (30.69, 25.53, 54.51, 'pp'), (16.61, 48.47, 62.38, 'pp'), (41.75, 72.43, 53.18, 'pp'), (55.04, 61.95, 48.09, 'pp'), (44.65, 47.29, 39.8, 'pp'), (28.82, 50.23, 52.02, 'pp'), (59.84, 62.23, 59.66, 'bc'), (54.23, 35.12, 64.47, 'bc'), (31.81, 59.82, 71.48, 'cf'), (19.88, 47.4, 83.01, 'cf'), (39.63, 24.35, 84.91, 'cf'), (57.55, 18.65, 54.77, 'cf'), (58.65, 43.82, 83.06, 'gh'), (36.67, 57.55, 89.11, 'gh')], [(50.57, 25.68, 32.0, 'sl'), (42.87, 67.17, 85.82, 'sl'), (52.67, 53.83, 43.97, 'sl'), (50.56, 62.66, 60.48, 'ml'), (35.57, 53.65, 28.46, 'ml'), (56.07, 56.01, 30.56, 'ml'), (71.22, 65.67, 78.5, 'bl'), (60.25, 66.83, 36.82, 'bl'), (37.6, 46.64, 14.67, 'bl')], [(51.86, 18.23, 79.09, 'cf'), (26.63, 43.92, 78.78, 'cf'), (38.27, 59.35, 34.82, 'ma'), (18.59, 47.41, 39.74, 'ma'), (58.28, 66.23, 63.71, 'ma'), (31.54, 57.21, 60.83, 'ma'), (31.04, 30.67, 62.01, 'ma'), (40.38, 25.26, 70.84, 'ma'), (44.15, 24.84, 33.02, 'ac'), (61.56, 64.66, 47.61, 'ac'), (26.19, 63.13, 49.88, 'ac')], [(32.98, 44.64, 49.78, 'bf'), (54.81, 39.52, 31.07, 'bf'), (43.41, 27.8, 24.21, 'cf'), (29.07, 64.52, 38.21, 'cf'), (31.37, 60.79, 51.67, 'cf'), (45.55, 69.16, 54.34, 'cf'), (55.42, 24.38, 64.52, 'cf'), (72.47, 26.61, 97.52, 'cf'), (41.41, 78.0, 95.49, 'cf'), (51.79, 62.86, 90.06, 'cf'), (43.61, 54.46, 96.79, 'cf')], [(26.33, 52.61, 59.05, 'wo'), (46.52, 24.17, 53.6, 'wo'), (45.73, 48.0, 47.44, 'wo'), (60.74, 62.82, 43.11, 'wo'), (20.66, 26.85, 62.61, 'ml'), (43.74, 18.22, 38.02, 'ml'), (70.03, 34.13, 55.35, 'ml'), (58.72, 50.46, 35.08, 'ml'), (61.94, 28.84, 17.3, 'bl'), (49.02, 40.38, 26.11, 'ml'), (35.15, 33.88, 35.98, 'bl'), (44.73, 79.53, 45.16, 'bl'), (43.74, 71.06, 54.88, 'bl')], [(63.63, 73.86, 56.16, 'wo'), (70.01, 63.34, 32.34, 'wo'), (36.91, 72.24, 24.55, 'pp'), (29.54, 47.7, 28.53, 'pp'), (19.05, 35.54, 63.42, 'pp'), (25.76, 53.24, 85.41, 'pp'), (59.24, 24.18, 66.63, 'pp'), (54.83, 60.29, 49.31, 'pp'), (41.76, 39.36, 48.5, 'pp'), (20.61, 58.44, 17.8, 'ac'), (54.62, 40.81, 39.27, 'ac'), (38.19, 56.51, 74.76, 'ac'), (35.5, 30.11, 78.22, 'ml'), (58.19, 22.46, 36.69, 'ml'), (34.31, 75.84, 39.54, 'ml')], [(51.21, 74.64, 47.46, 'ma'), (60.06, 27.82, 89.93, 'ma'), (42.41, 20.7, 90.93, 'ma'), (32.68, 39.62, 54.45, 'ma'), (31.01, 51.49, 33.55, 'bc'), (48.88, 41.61, 64.3, 'bc'), (17.17, 45.32, 80.02, 'bc'), (77.61, 47.43, 67.85, 'bp'), (62.96, 52.13, 90.9, 'bp'), (27.72, 30.92, 65.53, 'bp'), (48.43, 31.14, 37.26, 'bp')], [(67.29, 51.42, 48.67, 'sl'), (34.55, 42.94, 88.2, 'sl'), (48.33, 36.81, 39.08, 'sl'), (32.38, 58.73, 42.31, 'sl'), (77.5, 43.12, 30.87, 'bl'), (52.75, 58.26, 69.05, 'bl'), (20.31, 62.36, 54.74, 'bl'), (20.13, 34.9, 66.96, 'bl'), (45.1, 66.59, 21.99, 'bl'), (23.78, 58.08, 70.83, 'pp'), (41.64, 77.75, 51.52, 'pp'), (69.84, 66.21, 59.11, 'pp'), (67.96, 36.25, 49.33, 'pp'), (55.03, 19.94, 39.87, 'pp'), (24.24, 42.63, 31.92, 'pp'), (46.96, 43.0, 60.48, 'pp'), (27.18, 64.86, 26.85, 'bc'), (44.74, 66.54, 63.81, 'bc'), (48.11, 40.58, 78.97, 'bc'), (46.72, 17.4, 53.98, 'bc'), (34.33, 22.53, 80.56, 'bc')], [(32.78, 46.4, 101.13, 'gh'), (54.28, 34.68, 74.73, 'gh'), (33.16, 38.96, 54.58, 'gh'), (45.3, 43.28, 33.81, 'gh')], [(47.58, 35.76, 37.44, 'cf'), (72.9, 43.62, 48.42, 'cf'), (68.38, 60.95, 41.61, 'cf'), (33.79, 37.95, 38.03, 'cf'), (47.43, 61.1, 53.29, 'cf'), (27.08, 67.92, 58.22, 'cf'), (41.89, 28.62, 48.8, 'cf'), (66.56, 42.84, 62.19, 'cf'), (70.2, 63.38, 70.13, 'cf'), (35.45, 74.79, 74.11, 'cf'), (55.79, 54.48, 72.26, 'cf'), (35.04, 29.78, 60.04, 'cf'), (46.05, 25.99, 68.79, 'cf')], [(57.61, 62.54, 97.08, 'gh'), (57.98, 34.54, 90.66, 'gh'), (64.15, 66.38, 55.11, 'gh'), (57.68, 76.62, 38.19, 'bc'), (75.51, 37.48, 20.15, 'bc'), (40.98, 16.29, 40.09, 'bc'), (60.23, 17.22, 35.15, 'bc'), (47.13, 38.38, 29.33, 'sl'), (28.89, 35.04, 79.35, 'sl'), (57.73, 26.15, 77.52, 'sl'), (43.46, 33.94, 58.58, 'sl'), (40.86, 39.35, 108.38, 'sl'), (60.6, 19.28, 61.7, 'pp'), (67.63, 38.87, 47.97, 'pp'), (34.36, 17.15, 13.26, 'pp'), (76.4, 60.29, 95.48, 'pp'), (48.11, 77.45, 84.43, 'pp'), (30.16, 45.71, 44.92, 'pp'), (29.77, 45.57, 89.76, 'pp'), (24.82, 31.77, 112.19, 'pp')], [(55.38, 51.5, 73.22, 'sl'), (38.39, 45.15, 86.94, 'sl'), (43.11, 61.81, 47.63, 'sl'), (23.68, 41.19, 64.09, 'sl'), (42.58, 41.91, 23.64, 'sl'), (59.72, 28.91, 44.74, 'gh'), (23.18, 31.21, 27.1, 'gh'), (26.86, 24.19, 72.4, 'pp'), (34.38, 20.26, 83.11, 'pp'), (16.33, 57.44, 27.45, 'pp'), (43.81, 77.59, 20.9, 'pp'), (44.41, 79.32, 55.83, 'pp'), (29.78, 73.48, 95.69, 'pp'), (24.39, 73.39, 50.2, 'bl'), (16.6, 62.81, 44.17, 'bl'), (31.99, 68.47, 35.46, 'bl'), (60.73, 74.98, 26.28, 'bl'), (55.16, 81.26, 86.67, 'bl'), (28.55, 57.24, 43.6, 'bl')], [(63.6, 26.29, 40.89, 'bl'), (49.3, 28.11, 58.32, 'bl'), (55.07, 52.64, 72.32, 'bl'), (27.44, 42.96, 79.63, 'cf'), (51.94, 22.35, 71.4, 'cf'), (29.42, 67.4, 37.46, 'cf'), (39.85, 69.67, 58.56, 'pp'), (46.51, 68.45, 72.52, 'pp'), (45.11, 17.68, 29.54, 'pp'), (32.95, 22.28, 37.72, 'pp'), (61.76, 60.26, 52.29, 'wo'), (66.39, 72.79, 30.61, 'wo'), (23.49, 71.19, 65.64, 'wo')], [(40.76, 20.8, 65.19, 'ml'), (53.26, 34.01, 36.25, 'ml'), (60.03, 58.51, 82.31, 'ml'), (54.94, 25.4, 76.89, 'bc'), (49.84, 54.64, 51.95, 'bc'), (61.61, 37.73, 61.02, 'bp')], [(26.93, 50.06, 27.38, 'wo'), (67.02, 65.92, 56.98, 'bc'), (68.41, 65.82, 19.12, 'bc'), (55.71, 78.19, 87.69, 'gh'), (60.79, 47.61, 10.64, 'gh')], [(31.07, 72.26, 48.13, 'bf'), (23.13, 48.56, 53.75, 'bf'), (59.43, 28.41, 45.55, 'bf'), (27.67, 46.59, 28.14, 'bc')], [(38.48, 22.9, 73.62, 'ma'), (50.82, 41.46, 89.47, 'ma'), (39.96, 42.63, 73.49, 'ma'), (18.18, 44.23, 48.72, 'pp'), (27.27, 48.8, 61.23, 'pp'), (43.22, 54.39, 61.59, 'ml'), (33.29, 28.0, 33.83, 'bf')], [(59.14, 67.3, 51.32, 'bc'), (49.76, 54.18, 67.36, 'bc'), (33.75, 39.5, 61.75, 'bc'), (37.49, 54.74, 45.47, 'bc'), (49.51, 63.83, 36.11, 'bc'), (33.97, 28.44, 42.15, 'bc'), (45.97, 28.16, 42.51, 'bc'), (52.16, 23.1, 50.59, 'bc'), (53.34, 22.83, 61.93, 'bc')], [(41.53, 26.09, 35.91, 'gh'), (73.17, 45.01, 65.58, 'gh'), (63.6, 63.72, 63.36, 'gh'), (39.14, 41.85, 28.61, 'gh'), (31.1, 45.74, 48.82, 'gh')], [(32.43, 24.35, 45.77, 'cf'), (23.19, 27.63, 30.98, 'cf'), (65.9, 53.89, 42.42, 'cf'), (28.9, 26.34, 65.02, 'bf'), (72.01, 34.22, 65.43, 'bf'), (32.52, 60.56, 47.56, 'bf')], [(38.37, 21.2, 76.27, 'sl'), (55.85, 56.53, 70.19, 'sl'), (23.06, 33.71, 47.07, 'ac'), (33.11, 56.97, 49.1, 'ac'), (26.63, 72.47, 43.55, 'ma'), (61.61, 58.74, 41.93, 'ma')], [(80.24, 42.33, 84.51, 'ac'), (50.32, 31.98, 40.64, 'ac'), (40.28, 24.27, 80.49, 'ml'), (41.11, 51.44, 73.7, 'ml'), (29.03, 58.98, 58.06, 'sl')], [(25.14, 25.55, 78.36, 'ml'), (17.73, 40.93, 58.22, 'ml'), (51.6, 76.5, 46.95, 'ml'), (55.31, 56.24, 31.3, 'ml'), (39.9, 51.48, 28.6, 'ml')], [(63.14, 20.16, 56.6, 'ac'), (59.49, 45.32, 51.12, 'sl'), (31.43, 65.21, 37.5, 'bl'), (40.22, 57.84, 65.88, 'ml')], [(25.11, 57.23, 81.92, 'gh'), (48.49, 61.17, 70.38, 'gh'), (52.34, 26.42, 73.52, 'gh'), (69.97, 67.06, 68.83, 'gh'), (77.19, 39.93, 70.27, 'bp'), (25.05, 24.9, 70.42, 'bp'), (59.72, 24.03, 56.3, 'bp'), (59.63, 42.22, 61.71, 'bp'), (29.91, 44.3, 54.34, 'bf'), (56.76, 63.61, 50.22, 'bf'), (37.53, 23.95, 91.65, 'bf')], [(42.86, 24.13, 69.37, 'sl'), (39.29, 43.15, 76.14, 'sl'), (34.29, 32.53, 43.13, 'ma'), (73.87, 41.77, 47.95, 'ma'), (66.42, 62.61, 51.94, 'ma'), (62.98, 70.29, 78.23, 'gh')], [(29.84, 25.15, 66.27, 'wo'), (46.9, 60.05, 77.19, 'wo'), (41.08, 49.88, 60.4, 'wo'), (44.17, 60.38, 96.76, 'sl'), (38.31, 26.67, 91.52, 'sl'), (50.05, 25.62, 65.04, 'sl'), (61.91, 55.46, 49.51, 'sl'), (17.77, 41.03, 67.72, 'ma'), (34.16, 34.16, 73.91, 'ma'), (59.68, 74.89, 64.63, 'ma'), (74.07, 40.64, 71.33, 'ma')], [(62.99, 46.36, 58.88, 'sl'), (57.53, 65.92, 36.92, 'sl'), (51.1, 13.32, 33.24, 'ml'), (56.8, 37.52, 39.32, 'ml'), (77.52, 43.59, 53.23, 'ac'), (34.6, 39.34, 40.5, 'ac')], [(35.88, 72.02, 78.65, 'bl'), (59.31, 72.6, 21.66, 'bl'), (17.55, 39.19, 20.71, 'bl'), (22.57, 29.5, 30.85, 'bl'), (66.46, 47.59, 77.83, 'bl'), (73.55, 37.96, 45.89, 'bl'), (73.86, 58.35, 63.24, 'cf'), (65.8, 66.02, 74.49, 'cf'), (59.01, 55.54, 51.81, 'cf'), (69.14, 31.69, 87.54, 'cf'), (37.41, 27.92, 43.35, 'cf'), (45.59, 23.44, 25.0, 'cf'), (36.8, 70.12, 32.15, 'cf'), (32.58, 21.72, 76.17, 'cf'), (51.85, 53.92, 23.27, 'bf'), (31.34, 62.69, 58.33, 'bf'), (57.54, 32.93, 75.13, 'bf'), (59.82, 27.69, 34.72, 'bc'), (32.0, 43.33, 30.84, 'bc'), (37.23, 42.07, 57.74, 'bc')], [(43.66, 26.65, 50.01, 'wo'), (71.13, 27.73, 32.33, 'wo'), (22.03, 36.63, 34.97, 'wo'), (64.91, 53.63, 42.57, 'wo'), (35.66, 63.76, 64.49, 'bc'), (34.01, 44.01, 58.23, 'bc'), (37.3, 68.75, 22.12, 'bc'), (67.56, 54.43, 27.3, 'bc'), (59.82, 72.8, 31.66, 'bc'), (75.45, 56.57, 56.76, 'pp'), (72.07, 28.93, 56.41, 'pp'), (46.4, 75.2, 46.21, 'pp'), (20.97, 63.6, 32.11, 'pp'), (29.93, 61.25, 43.5, 'pp'), (27.83, 43.02, 44.63, 'pp'), (42.8, 49.09, 32.81, 'pp')], [(48.2, 18.51, 73.91, 'ma'), (78.19, 42.09, 77.87, 'ma'), (54.11, 37.12, 71.85, 'ma'), (44.81, 50.79, 73.47, 'ma'), (50.62, 70.36, 80.9, 'bp'), (58.04, 40.91, 88.36, 'cf'), (70.38, 55.95, 65.05, 'cf'), (62.8, 26.59, 60.8, 'cf'), (27.25, 66.37, 86.56, 'cf'), (27.97, 69.11, 71.65, 'cf'), (15.21, 49.04, 87.22, 'cf'), (32.25, 32.93, 81.18, 'cf')], [(23.61, 65.47, 41.97, 'bl'), (67.13, 33.44, 46.31, 'bl'), (34.3, 48.23, 70.79, 'ml'), (68.8, 24.7, 75.82, 'ml'), (63.97, 42.54, 71.2, 'ml'), (49.23, 49.81, 62.55, 'ml'), (29.85, 28.65, 44.21, 'bl'), (74.15, 60.36, 66.72, 'pp'), (77.64, 44.79, 57.63, 'pp'), (65.86, 59.32, 50.03, 'pp'), (30.59, 66.21, 72.4, 'pp')], [(39.27, 15.66, 91.59, 'wo'), (67.6, 30.73, 68.38, 'wo'), (41.57, 30.56, 45.58, 'wo'), (60.3, 47.58, 17.37, 'wo'), (48.22, 74.74, 62.73, 'ac'), (45.4, 62.09, 25.39, 'ac'), (19.52, 52.97, 30.7, 'ma'), (19.96, 40.77, 64.01, 'ma'), (58.77, 47.37, 65.94, 'ma'), (68.14, 45.91, 30.2, 'ma')], [(55.5, 77.26, 65.8, 'ml'), (34.22, 74.52, 49.72, 'ml'), (20.01, 59.22, 51.87, 'ml'), (44.7, 26.12, 90.59, 'ml'), (28.72, 30.53, 45.35, 'bf'), (33.95, 25.09, 66.6, 'bf'), (73.82, 57.19, 73.32, 'bf'), (48.67, 31.86, 76.4, 'bf')], [(25.06, 61.06, 69.88, 'gh'), (66.86, 39.04, 25.76, 'gh'), (60.7, 39.7, 52.13, 'gh'), (79.0, 37.26, 35.49, 'cf'), (74.61, 61.0, 51.69, 'cf'), (76.82, 50.61, 62.76, 'cf'), (62.4, 29.82, 81.55, 'cf'), (64.98, 35.79, 69.12, 'cf'), (53.14, 73.05, 33.34, 'cf'), (40.74, 73.92, 36.72, 'cf'), (28.19, 67.37, 43.04, 'cf'), (44.53, 77.39, 63.6, 'cf'), (41.61, 77.45, 80.81, 'cf'), (51.55, 79.77, 94.24, 'cf'), (17.84, 57.1, 97.42, 'cf'), (17.01, 41.96, 86.26, 'cf'), (33.85, 52.96, 84.79, 'cf'), (26.32, 23.93, 87.28, 'cf'), (26.36, 23.35, 100.57, 'cf'), (34.94, 33.8, 107.66, 'cf'), (35.45, 45.96, 101.72, 'cf'), (39.78, 37.68, 93.8, 'cf'), (60.61, 27.47, 102.87, 'cf')], [(45.11, 77.82, 74.88, 'ml'), (22.21, 49.33, 75.46, 'ml'), (36.85, 43.2, 38.2, 'ml'), (39.61, 25.36, 48.14, 'bf'), (51.41, 55.26, 72.04, 'bf'), (54.76, 72.54, 43.94, 'bf'), (18.7, 54.38, 43.5, 'cf'), (33.39, 72.29, 44.32, 'cf'), (47.76, 66.12, 60.88, 'cf'), (20.2, 29.77, 65.31, 'cf'), (32.36, 35.16, 61.0, 'cf'), (43.03, 16.88, 69.31, 'cf'), (32.12, 44.28, 91.03, 'cf'), (62.01, 22.8, 54.1, 'cf'), (54.08, 48.92, 90.19, 'cf')], [(47.36, 22.06, 72.23, 'bl'), (48.18, 81.22, 69.37, 'bl'), (48.4, 47.45, 71.09, 'bl'), (49.94, 60.17, 100.26, 'bc'), (54.39, 27.01, 105.22, 'bc'), (59.35, 35.8, 73.19, 'bc'), (28.32, 30.3, 84.83, 'bc'), (34.39, 55.84, 76.0, 'bp'), (38.6, 47.05, 62.89, 'bp'), (53.57, 63.47, 63.02, 'bp'), (74.35, 49.26, 66.1, 'bp'), (75.43, 34.46, 88.28, 'bp')], [(32.1, 60.26, 109.88, 'bl'), (26.66, 67.6, 92.08, 'bl'), (41.52, 59.76, 95.52, 'bl'), (57.14, 78.69, 67.36, 'bl'), (50.27, 14.66, 49.94, 'bl'), (40.21, 41.7, 48.57, 'bf'), (69.23, 59.17, 102.39, 'bf'), (28.83, 56.67, 69.46, 'wo'), (61.95, 56.11, 41.3, 'wo'), (44.32, 26.32, 95.01, 'wo'), (68.98, 41.55, 70.95, 'sl'), (34.54, 67.52, 35.73, 'sl'), (53.95, 65.94, 88.43, 'bp'), (23.87, 44.58, 94.9, 'bp'), (40.25, 37.76, 67.09, 'bp'), (40.11, 33.06, 26.56, 'bp'), (54.74, 54.31, 73.88, 'bp'), (39.83, 51.03, 25.73, 'bp')], [(73.79, 38.27, 58.64, 'cf'), (33.28, 29.68, 98.09, 'cf'), (44.08, 59.05, 102.88, 'cf'), (22.45, 55.63, 82.25, 'cf'), (21.51, 34.44, 66.12, 'ma'), (31.13, 25.57, 90.6, 'ma'), (47.15, 38.57, 86.46, 'ma'), (73.26, 57.3, 54.83, 'ma'), (74.97, 28.38, 47.88, 'ml'), (63.8, 51.09, 84.94, 'ml'), (56.04, 60.46, 91.13, 'ml'), (39.31, 56.83, 77.0, 'ml'), (48.48, 58.23, 52.36, 'sl'), (29.71, 54.37, 65.91, 'sl'), (24.92, 26.52, 49.27, 'bp'), (26.86, 63.46, 51.29, 'bp'), (72.73, 62.87, 82.74, 'bp'), (66.83, 38.5, 77.72, 'bp')], [(75.69, 43.94, 50.16, 'sl'), (57.67, 46.68, 65.98, 'sl'), (40.88, 47.02, 43.75, 'sl'), (17.82, 47.64, 84.52, 'sl'), (47.73, 19.44, 69.98, 'cf'), (65.96, 32.69, 80.71, 'cf'), (35.32, 18.02, 114.8, 'cf'), (77.78, 61.15, 60.5, 'cf'), (60.22, 63.95, 74.59, 'cf'), (61.6, 73.89, 104.33, 'cf'), (51.19, 78.05, 69.98, 'cf'), (40.86, 74.56, 33.35, 'cf'), (33.48, 67.76, 83.03, 'cf'), (28.64, 74.87, 95.7, 'cf'), (33.2, 58.44, 108.39, 'cf')], [(68.73, 60.36, 67.53, 'sl'), (38.44, 54.73, 29.0, 'sl'), (38.25, 59.23, 55.04, 'sl'), (48.03, 18.56, 25.43, 'ac'), (25.46, 47.7, 46.01, 'ac'), (44.27, 22.51, 75.09, 'ac'), (56.63, 70.02, 41.75, 'bl'), (74.82, 29.93, 12.42, 'bl'), (48.9, 22.65, 61.76, 'bl'), (32.19, 26.78, 52.68, 'bl'), (29.94, 27.37, 35.01, 'bl'), (43.43, 36.99, 45.95, 'bl'), (44.5, 51.06, 62.48, 'bl')], [(28.38, 65.67, 30.2, 'gh'), (28.32, 58.4, 49.54, 'gh'), (31.59, 20.33, 78.5, 'gh'), (19.13, 37.59, 89.69, 'bf'), (63.44, 57.29, 89.86, 'bf'), (64.08, 66.19, 70.8, 'bf'), (60.5, 56.48, 30.19, 'bf'), (57.54, 27.03, 87.56, 'pp'), (51.44, 26.32, 66.93, 'pp'), (50.03, 16.08, 57.21, 'pp'), (54.21, 30.61, 27.23, 'pp'), (31.53, 36.85, 24.66, 'pp'), (24.88, 27.64, 33.05, 'pp'), (25.93, 60.72, 78.38, 'pp'), (46.92, 75.85, 53.77, 'pp'), (69.79, 58.22, 52.09, 'pp')], [(56.26, 63.08, 96.11, 'bf'), (74.94, 47.56, 96.4, 'bf'), (68.65, 36.03, 60.41, 'bf'), (54.35, 49.81, 43.66, 'bf'), (37.02, 69.88, 68.21, 'bf'), (17.08, 51.0, 97.24, 'ml'), (43.8, 15.88, 56.93, 'ml'), (42.18, 39.44, 57.25, 'ml'), (65.38, 46.0, 78.8, 'ml'), (60.71, 16.59, 67.12, 'cf'), (74.16, 56.41, 72.66, 'cf'), (73.05, 51.34, 51.74, 'cf'), (46.48, 78.9, 53.71, 'cf'), (34.87, 53.56, 51.0, 'cf'), (34.1, 34.03, 68.03, 'cf'), (41.73, 23.11, 101.48, 'cf'), (58.69, 40.36, 91.99, 'cf'), (47.93, 60.66, 78.22, 'cf'), (21.09, 50.09, 58.64, 'bl'), (35.17, 18.78, 47.06, 'bl'), (34.78, 22.75, 90.09, 'bl'), (45.41, 31.42, 78.0, 'bl'), (41.54, 29.24, 85.46, 'bl'), (75.8, 32.24, 71.25, 'bl'), (71.07, 20.51, 96.22, 'bl'), (62.61, 74.58, 67.25, 'bl'), (46.75, 32.71, 91.55, 'bl')], [(29.99, 33.56, 57.05, 'ml'), (18.44, 42.79, 32.1, 'ml'), (15.82, 57.57, 58.84, 'ml'), (25.94, 63.86, 53.99, 'ml'), (46.07, 51.82, 62.59, 'ml'), (59.14, 37.59, 60.23, 'ml'), (57.17, 50.18, 31.6, 'ml'), (61.41, 63.61, 17.41, 'pp'), (39.85, 52.34, 29.39, 'pp'), (50.69, 65.3, 31.34, 'pp'), (64.88, 68.96, 53.03, 'pp'), (75.56, 43.21, 30.26, 'pp'), (64.27, 61.75, 64.98, 'pp'), (57.86, 75.06, 85.69, 'pp'), (42.8, 76.36, 65.53, 'pp'), (39.23, 66.83, 76.25, 'pp'), (34.2, 74.59, 92.17, 'pp'), (17.22, 47.61, 91.5, 'pp'), (20.94, 28.06, 30.48, 'pp'), (30.0, 18.97, 38.89, 'pp'), (38.73, 17.1, 55.6, 'pp'), (36.27, 32.38, 89.99, 'pp'), (42.64, 26.83, 66.93, 'pp'), (42.44, 18.59, 106.78, 'pp'), (61.53, 20.46, 56.82, 'pp'), (58.55, 19.27, 34.43, 'pp'), (54.72, 23.65, 19.2, 'pp'), (62.13, 27.24, 98.96, 'pp'), (77.63, 38.25, 94.86, 'pp'), (70.6, 28.96, 81.46, 'pp'), (71.17, 42.59, 59.62, 'pp'), (62.16, 36.39, 44.92, 'pp'), (58.72, 60.91, 92.36, 'pp'), (67.74, 54.32, 79.85, 'pp')], [(24.62, 19.96, 32.48, 'ml'), (54.64, 63.79, 62.89, 'ml'), (41.38, 13.42, 55.21, 'bl'), (66.24, 31.13, 34.02, 'bl'), (81.08, 44.26, 37.87, 'bl'), (72.61, 46.65, 41.39, 'bl'), (56.32, 79.64, 35.98, 'bl'), (44.0, 44.24, 33.38, 'bl'), (44.12, 40.17, 73.57, 'sl'), (50.55, 30.21, 58.31, 'sl'), (54.63, 52.97, 26.21, 'sl'), (59.87, 75.1, 59.55, 'bp'), (70.33, 57.87, 55.17, 'bp'), (67.76, 40.87, 66.88, 'bp'), (28.72, 23.21, 51.89, 'bp'), (39.27, 30.86, 25.45, 'bp'), (69.21, 26.61, 20.09, 'bp'), (35.79, 69.46, 80.09, 'cf'), (61.75, 55.19, 74.15, 'cf'), (29.26, 56.82, 37.75, 'cf'), (72.2, 58.73, 28.38, 'cf'), (61.63, 46.51, 47.98, 'cf'), (57.92, 29.02, 42.09, 'cf')], [(28.52, 67.58, 92.9, 'bf'), (49.66, 49.21, 89.18, 'bf'), (23.49, 36.6, 55.54, 'bf'), (44.79, 27.66, 49.49, 'bf'), (57.38, 30.37, 72.67, 'bf'), (52.79, 53.66, 71.57, 'bf'), (39.86, 71.36, 58.75, 'bc'), (58.07, 75.25, 69.29, 'bc'), (66.39, 60.29, 36.63, 'bc'), (79.76, 50.8, 38.63, 'bc'), (77.86, 55.97, 80.91, 'bc'), (77.91, 51.09, 102.53, 'bc'), (50.78, 75.57, 100.71, 'bp'), (52.68, 69.16, 82.92, 'bp'), (76.22, 36.32, 96.86, 'bp'), (60.55, 21.12, 89.87, 'bp'), (50.76, 31.47, 101.08, 'bp'), (30.78, 21.21, 81.3, 'bp'), (41.29, 31.54, 79.63, 'bp'), (19.79, 58.39, 75.64, 'bp'), (75.07, 37.32, 62.18, 'bp'), (63.45, 46.58, 49.82, 'bp'), (68.81, 24.05, 38.98, 'bp'), (51.71, 19.62, 30.66, 'bp'), (58.06, 44.71, 60.94, 'bp'), (30.58, 59.35, 51.63, 'bp'), (35.57, 74.45, 43.45, 'bp'), (50.86, 65.46, 39.92, 'bp'), (58.94, 37.95, 31.54, 'bp')], [(14.56, 41.98, 77.38, 'bl'), (20.74, 47.56, 81.78, 'bl'), (24.97, 72.73, 81.6, 'bl'), (60.52, 79.98, 91.86, 'bl'), (47.08, 69.55, 85.7, 'bl'), (44.88, 13.26, 83.77, 'bl'), (25.9, 52.13, 60.03, 'bl'), (21.56, 37.62, 42.5, 'bl'), (30.51, 26.46, 39.47, 'bl'), (26.18, 37.65, 53.62, 'bl'), (60.53, 43.84, 70.65, 'bl'), (42.94, 33.4, 77.85, 'bl'), (26.72, 61.12, 28.4, 'bl'), (40.83, 63.92, 22.04, 'bl'), (78.72, 35.49, 28.03, 'bl'), (15.02, 29.23, 38.29, 'bl'), (58.02, 69.33, 56.2, 'sl'), (71.45, 37.13, 42.97, 'sl'), (65.02, 38.9, 87.98, 'sl'), (50.3, 21.5, 101.17, 'sl'), (43.76, 38.16, 49.41, 'sl'), (41.85, 34.82, 25.43, 'sl'), (48.89, 74.75, 101.29, 'bp'), (77.19, 61.66, 89.12, 'bp'), (32.36, 75.25, 97.28, 'bp'), (39.85, 58.8, 101.55, 'bp'), (55.99, 36.34, 101.46, 'bp'), (29.12, 41.22, 105.48, 'bp'), (16.75, 46.44, 93.34, 'bp'), (20.36, 35.05, 63.63, 'bp'), (29.5, 48.62, 72.76, 'bp'), (36.92, 17.41, 77.82, 'bp'), (67.86, 53.65, 78.21, 'bp'), (60.02, 57.71, 64.46, 'bp'), (44.25, 66.06, 31.58, 'bp'), (32.66, 53.33, 37.62, 'bp'), (48.4, 77.54, 43.91, 'bp'), (69.63, 41.15, 19.35, 'bp'), (37.73, 16.17, 25.77, 'bp'), (57.24, 44.57, 35.72, 'bp')], [(29.38, 23.72, 30.21, 'ma'), (41.74, 65.76, 46.45, 'ma'), (60.77, 26.11, 80.04, 'ma'), (53.52, 43.41, 77.09, 'ma'), (31.51, 44.32, 82.67, 'ma'), (24.91, 24.46, 79.73, 'ml'), (26.99, 44.47, 48.63, 'ml'), (70.08, 37.51, 26.66, 'gh'), (59.63, 34.1, 55.61, 'gh')], [(52.06, 77.7, 61.19, 'gh'), (69.8, 46.42, 35.7, 'gh'), (30.01, 59.06, 79.17, 'gh'), (49.22, 64.27, 75.85, 'gh'), (54.12, 43.31, 25.8, 'ac'), (41.55, 37.82, 47.25, 'ac'), (43.58, 33.28, 65.34, 'ac')], [(16.68, 44.72, 95.55, 'ma'), (30.57, 58.25, 97.05, 'ma'), (29.16, 42.52, 92.55, 'ma'), (51.46, 45.76, 92.89, 'ma'), (63.97, 28.07, 82.28, 'ma'), (75.85, 43.52, 82.29, 'pp'), (64.31, 53.11, 81.79, 'pp'), (52.82, 63.54, 81.9, 'pp'), (41.51, 31.22, 78.15, 'pp'), (27.52, 23.59, 84.38, 'ml'), (47.91, 78.64, 62.14, 'ml'), (30.48, 58.12, 25.57, 'gh'), (23.26, 57.8, 43.59, 'gh'), (32.46, 57.09, 59.57, 'gh')], [(49.45, 28.11, 60.08, 'wo'), (20.76, 32.43, 64.82, 'wo'), (27.05, 62.27, 18.24, 'wo'), (40.6, 25.32, 82.35, 'gh'), (51.79, 53.6, 66.41, 'gh'), (23.45, 38.75, 24.38, 'gh'), (70.28, 63.36, 96.09, 'bf'), (41.28, 20.25, 33.79, 'bf'), (41.33, 41.78, 30.48, 'bf')], [(63.52, 24.25, 60.46, 'sl'), (26.31, 38.73, 38.05, 'sl'), (18.05, 36.98, 53.78, 'ma'), (45.75, 16.92, 53.72, 'ma'), (60.88, 54.44, 45.18, 'ma'), (43.2, 56.39, 50.91, 'ma'), (44.11, 32.07, 36.4, 'pp'), (68.5, 34.6, 26.55, 'pp'), (60.82, 51.75, 21.57, 'pp'), (76.38, 49.34, 43.42, 'pp'), (64.03, 61.99, 56.77, 'pp'), (21.96, 57.15, 66.05, 'pp')], [(31.93, 36.42, 62.08, 'sl'), (29.54, 56.09, 87.28, 'sl'), (62.97, 55.6, 65.9, 'bc'), (30.35, 67.14, 73.69, 'bc'), (51.77, 69.56, 42.87, 'cf'), (65.72, 68.7, 50.32, 'cf'), (30.32, 55.54, 42.74, 'cf'), (39.81, 67.44, 42.73, 'cf')], [(40.18, 36.88, 40.3, 'sl'), (39.29, 55.83, 67.99, 'sl'), (27.43, 30.97, 63.34, 'sl'), (28.12, 63.3, 49.23, 'gh'), (73.24, 35.02, 40.23, 'ml'), (77.08, 54.28, 56.09, 'ml'), (70.22, 63.3, 66.15, 'ml')], [(37.85, 55.91, 32.19, 'bl'), (64.42, 62.41, 38.46, 'bl'), (73.68, 43.83, 46.57, 'bl'), (56.82, 23.22, 59.45, 'bl'), (51.43, 73.41, 55.11, 'bc'), (47.31, 70.93, 70.26, 'bc'), (19.3, 62.66, 74.5, 'bc'), (23.26, 29.01, 48.61, 'bc'), (35.6, 32.3, 59.89, 'gh'), (38.18, 47.46, 44.92, 'gh'), (56.02, 53.72, 50.64, 'gh')], [(33.47, 63.86, 79.83, 'ml'), (33.08, 42.24, 40.14, 'ac'), (15.41, 46.72, 46.26, 'ac'), (19.41, 37.0, 61.45, 'ac'), (20.59, 30.38, 82.07, 'ac'), (72.71, 58.4, 54.38, 'ac'), (49.34, 21.34, 47.69, 'gh'), (28.45, 66.0, 61.46, 'gh'), (55.59, 40.06, 67.34, 'gh'), (41.85, 30.66, 59.37, 'gh'), (47.47, 60.11, 62.24, 'gh')], [(73.91, 46.95, 26.45, 'sl'), (29.2, 51.16, 49.77, 'sl'), (72.19, 38.62, 42.77, 'sl'), (65.64, 74.02, 58.42, 'ml'), (45.57, 65.54, 51.67, 'ml'), (42.5, 76.25, 37.1, 'ml'), (25.95, 53.05, 77.55, 'bf'), (72.43, 37.41, 66.47, 'bf'), (35.37, 23.92, 58.59, 'bf'), (51.11, 34.43, 36.97, 'bf')], [(30.61, 37.11, 90.12, 'bp'), (53.31, 38.01, 98.23, 'bp'), (63.88, 45.23, 88.87, 'bp'), (75.95, 58.76, 77.96, 'bp'), (29.71, 39.97, 54.22, 'gh'), (35.38, 59.81, 69.58, 'gh'), (45.83, 25.64, 55.68, 'gh'), (52.79, 45.15, 63.73, 'gh'), (37.81, 32.84, 74.35, 'ac'), (65.75, 24.49, 59.58, 'ac'), (58.22, 27.64, 77.93, 'ac')], [(53.41, 44.73, 41.71, 'wo'), (45.0, 63.84, 73.99, 'wo'), (44.0, 37.18, 103.18, 'wo'), (20.02, 45.81, 65.86, 'ma'), (51.35, 33.16, 88.61, 'ma'), (32.06, 37.77, 72.94, 'ma'), (75.45, 49.22, 82.41, 'bf'), (64.53, 68.83, 91.08, 'bf'), (66.43, 27.65, 55.54, 'bf')], [(52.57, 42.81, 34.01, 'sl'), (35.07, 69.45, 48.85, 'sl'), (44.57, 43.71, 47.72, 'sl'), (50.2, 22.72, 62.7, 'sl'), (48.33, 38.34, 67.69, 'sl'), (38.5, 55.12, 70.7, 'sl'), (62.97, 65.63, 94.66, 'gh'), (67.48, 56.69, 69.43, 'ac'), (46.17, 76.5, 68.59, 'ac'), (34.5, 61.39, 88.08, 'ac'), (42.08, 25.72, 96.91, 'ac')], [(59.06, 68.25, 66.37, 'bf'), (42.46, 74.48, 37.51, 'bf'), (64.75, 61.65, 33.77, 'bf'), (69.25, 49.31, 67.77, 'bf'), (51.65, 20.41, 45.98, 'bf'), (18.02, 52.3, 45.38, 'bp'), (38.84, 43.51, 54.54, 'bp'), (62.25, 21.96, 69.09, 'bp'), (35.63, 63.45, 23.35, 'bl'), (53.42, 62.23, 18.3, 'bl'), (38.83, 29.43, 31.46, 'bl'), (29.87, 42.39, 35.64, 'bl'), (38.26, 36.27, 40.68, 'bl')], [(53.79, 34.39, 78.61, 'sl'), (36.45, 24.32, 71.98, 'sl'), (63.74, 62.42, 57.87, 'sl'), (42.67, 54.2, 87.85, 'sl'), (40.73, 69.26, 59.55, 'bp'), (58.13, 75.57, 42.47, 'bp'), (62.62, 54.76, 36.98, 'bp'), (53.48, 26.31, 36.89, 'bp'), (25.06, 61.67, 63.88, 'ma'), (29.48, 56.05, 34.0, 'ma'), (50.19, 46.51, 26.04, 'ma'), (36.63, 41.64, 38.15, 'ma')], [(22.86, 35.42, 36.97, 'gh'), (36.14, 36.25, 18.92, 'gh'), (34.91, 57.51, 26.79, 'gh'), (61.23, 69.17, 26.34, 'gh'), (62.26, 38.7, 54.23, 'gh'), (50.84, 71.56, 55.19, 'ac'), (41.22, 67.76, 39.77, 'ac'), (61.28, 34.03, 27.79, 'ac'), (40.14, 34.66, 34.09, 'ac'), (37.25, 18.98, 44.0, 'ma')], [(44.85, 70.28, 96.58, 'bp'), (33.52, 57.53, 97.39, 'bp'), (17.41, 44.33, 105.72, 'bp'), (27.94, 56.03, 82.62, 'bp'), (18.53, 51.89, 95.09, 'bp'), (66.1, 37.04, 104.69, 'bp'), (49.39, 31.73, 68.03, 'gh'), (34.52, 38.41, 69.2, 'gh'), (46.83, 61.42, 75.73, 'gh'), (25.71, 39.12, 51.25, 'bl'), (24.23, 62.98, 62.2, 'bl'), (44.73, 60.59, 63.73, 'bl'), (73.69, 67.8, 58.91, 'bl'), (68.04, 56.36, 54.87, 'bl'), (44.89, 41.43, 49.7, 'bl')], [(28.54, 60.99, 68.91, 'sl'), (55.17, 65.81, 79.72, 'sl'), (65.9, 27.58, 74.46, 'sl'), (64.84, 62.34, 57.22, 'sl'), (39.47, 35.24, 63.21, 'sl'), (78.54, 40.31, 65.41, 'bl'), (63.5, 41.2, 78.93, 'bl'), (62.39, 40.18, 42.11, 'bc'), (57.25, 64.99, 39.34, 'bc'), (19.32, 53.29, 42.25, 'bc'), (39.73, 21.73, 49.45, 'bc'), (19.56, 34.08, 65.48, 'bc'), (51.59, 65.09, 53.68, 'bc'), (78.25, 47.06, 54.06, 'bc')], [(63.94, 48.26, 83.08, 'ac'), (64.22, 27.53, 74.36, 'ac'), (37.9, 61.85, 85.56, 'ac'), (58.51, 74.37, 58.65, 'ml'), (58.23, 57.81, 29.64, 'ml'), (60.16, 25.59, 40.26, 'ml'), (29.06, 30.35, 41.02, 'ml'), (19.68, 39.01, 42.65, 'ml'), (56.07, 34.85, 99.62, 'sl')], [(63.99, 30.05, 99.32, 'bf'), (40.93, 17.49, 43.15, 'bf'), (48.38, 74.3, 66.81, 'bf'), (55.18, 29.88, 49.72, 'ma'), (70.73, 38.45, 49.7, 'ma'), (34.94, 37.44, 106.02, 'ma'), (34.45, 74.88, 75.01, 'ma'), (77.78, 43.83, 94.62, 'bp'), (57.43, 66.61, 95.81, 'bp'), (24.31, 66.93, 43.7, 'bp'), (25.29, 46.02, 36.47, 'bp'), (38.15, 42.04, 37.09, 'bp'), (21.81, 33.75, 80.95, 'bp'), (16.77, 40.35, 105.78, 'bl'), (45.6, 56.67, 100.72, 'bl'), (35.56, 57.0, 93.95, 'bl'), (22.98, 48.66, 68.15, 'bl'), (77.78, 34.61, 70.39, 'bl'), (63.62, 17.11, 86.8, 'bl')], [(32.14, 33.55, 41.58, 'bf'), (38.01, 20.33, 70.03, 'bf'), (75.89, 35.8, 68.94, 'ml'), (55.76, 16.19, 63.13, 'ml'), (20.65, 29.83, 63.78, 'cf'), (19.69, 34.25, 98.93, 'cf'), (42.15, 68.55, 87.2, 'cf'), (48.33, 78.8, 88.26, 'cf'), (60.66, 74.01, 68.93, 'cf'), (54.13, 56.75, 74.46, 'cf'), (53.16, 55.07, 58.96, 'cf')], [(27.02, 27.17, 67.21, 'bf'), (64.07, 35.03, 87.18, 'bf'), (63.85, 29.38, 59.99, 'bf'), (59.74, 46.45, 48.66, 'bf'), (19.78, 61.91, 55.64, 'cf'), (14.72, 38.4, 97.71, 'cf'), (65.79, 71.97, 94.42, 'cf'), (54.18, 25.76, 99.0, 'cf'), (37.33, 24.66, 51.36, 'cf'), (53.68, 22.14, 34.59, 'cf'), (65.65, 62.17, 75.35, 'cf'), (60.86, 25.06, 75.58, 'cf'), (44.68, 34.79, 68.26, 'cf')], [(73.5, 47.97, 60.62, 'ml'), (30.65, 24.54, 75.91, 'ml'), (17.95, 60.56, 87.3, 'ml'), (38.39, 43.09, 45.11, 'ml'), (53.4, 18.45, 78.67, 'bc'), (26.39, 39.16, 30.37, 'bc'), (60.99, 64.51, 16.25, 'bc'), (33.49, 63.74, 20.47, 'bc'), (59.97, 68.48, 53.97, 'bc')], [(67.69, 69.75, 38.29, 'cf'), (46.78, 25.38, 42.34, 'cf'), (51.28, 66.45, 39.66, 'ma'), (36.34, 25.32, 62.78, 'ma'), (25.87, 41.03, 70.77, 'bc'), (42.58, 23.14, 74.99, 'bc'), (20.69, 46.42, 54.16, 'bc'), (32.76, 36.95, 37.21, 'bc')], [(72.06, 58.57, 38.59, 'bf'), (48.71, 29.59, 47.57, 'bf'), (32.49, 37.2, 57.9, 'bf'), (65.23, 45.02, 72.38, 'ma'), (48.57, 22.79, 73.63, 'ma'), (50.01, 43.96, 15.6, 'bp'), (24.12, 59.49, 14.96, 'bp'), (42.07, 62.47, 19.3, 'bp'), (61.15, 65.21, 25.12, 'bp')], [(42.26, 26.99, 48.13, 'ml'), (58.6, 25.86, 42.1, 'ml'), (50.53, 42.58, 47.1, 'ml'), (36.79, 50.87, 41.22, 'ml'), (59.78, 59.27, 46.91, 'ml'), (49.66, 76.17, 60.35, 'sl'), (30.3, 69.48, 67.21, 'sl'), (20.33, 41.6, 66.48, 'sl'), (36.92, 45.14, 76.71, 'sl'), (57.77, 46.4, 87.18, 'bl'), (67.13, 19.41, 81.13, 'bl'), (72.03, 33.29, 74.08, 'bl'), (58.93, 26.48, 80.13, 'bl'), (61.37, 41.51, 78.42, 'bl'), (76.03, 36.77, 49.37, 'bl'), (66.86, 49.24, 66.16, 'bl'), (42.25, 61.75, 63.13, 'bl')], [(47.16, 74.19, 43.14, 'cf'), (49.94, 20.82, 78.99, 'cf'), (31.13, 54.91, 38.13, 'cf'), (17.09, 43.24, 62.26, 'cf'), (30.4, 45.62, 72.08, 'ma'), (42.08, 64.87, 53.49, 'ma'), (53.44, 51.43, 53.74, 'ma'), (50.54, 71.77, 73.4, 'bc'), (66.78, 71.35, 66.4, 'bc'), (68.89, 57.66, 89.9, 'bc'), (67.12, 47.16, 75.5, 'bc'), (34.27, 53.77, 62.7, 'bc')]]\n"
          ]
        },
        {
          "output_type": "stream",
          "name": "stderr",
          "text": [
            "/usr/local/lib/python3.10/dist-packages/torch/utils/data/dataloader.py:558: UserWarning: This DataLoader will create 8 worker processes in total. Our suggested max number of worker in current system is 2, which is smaller than what this DataLoader is going to create. Please be aware that excessive worker creation might get DataLoader running slow or even freeze, lower the worker number to avoid potential slowness/freeze if necessary.\n",
            "  warnings.warn(_create_warning_msg(\n",
            "/usr/lib/python3.10/multiprocessing/popen_fork.py:66: RuntimeWarning: os.fork() was called. os.fork() is incompatible with multithreaded code, and JAX is multithreaded, so this will likely lead to a deadlock.\n",
            "  self.pid = os.fork()\n"
          ]
        },
        {
          "output_type": "stream",
          "name": "stdout",
          "text": [
            "Images\n",
            "torch.Size([1, 128, 128, 128])\n"
          ]
        },
        {
          "output_type": "error",
          "ename": "TypeError",
          "evalue": "can't convert cuda:0 device type tensor to numpy. Use Tensor.cpu() to copy the tensor to host memory first.",
          "traceback": [
            "\u001b[0;31m---------------------------------------------------------------------------\u001b[0m",
            "\u001b[0;31mTypeError\u001b[0m                                 Traceback (most recent call last)",
            "\u001b[0;32m<ipython-input-53-8469e17e5f4b>\u001b[0m in \u001b[0;36m<cell line: 3>\u001b[0;34m()\u001b[0m\n\u001b[1;32m      1\u001b[0m \u001b[0mvalidation_centers\u001b[0m \u001b[0;34m=\u001b[0m \u001b[0mparse_validation_data_ordered\u001b[0m\u001b[0;34m(\u001b[0m\u001b[0;34m'BugNIST_DATA/validation/validation.csv'\u001b[0m\u001b[0;34m)\u001b[0m\u001b[0;34m\u001b[0m\u001b[0;34m\u001b[0m\u001b[0m\n\u001b[1;32m      2\u001b[0m \u001b[0mprint\u001b[0m\u001b[0;34m(\u001b[0m\u001b[0mvalidation_centers\u001b[0m\u001b[0;34m)\u001b[0m\u001b[0;34m\u001b[0m\u001b[0;34m\u001b[0m\u001b[0m\n\u001b[0;32m----> 3\u001b[0;31m \u001b[0mcalculate_metrics_per_class\u001b[0m\u001b[0;34m(\u001b[0m\u001b[0mvalidation_centers\u001b[0m\u001b[0;34m,\u001b[0m \u001b[0mval_loader\u001b[0m\u001b[0;34m)\u001b[0m\u001b[0;34m\u001b[0m\u001b[0;34m\u001b[0m\u001b[0m\n\u001b[0m",
            "\u001b[0;32m<ipython-input-52-f1d22108114f>\u001b[0m in \u001b[0;36mcalculate_metrics_per_class\u001b[0;34m(centers_ordered, val_loader)\u001b[0m\n\u001b[1;32m     18\u001b[0m                 \u001b[0mimg\u001b[0m \u001b[0;34m=\u001b[0m \u001b[0mimg\u001b[0m\u001b[0;34m.\u001b[0m\u001b[0msqueeze\u001b[0m\u001b[0;34m(\u001b[0m\u001b[0;36m2\u001b[0m\u001b[0;34m)\u001b[0m  \u001b[0;31m# Remove the singleton dimension\u001b[0m\u001b[0;34m\u001b[0m\u001b[0;34m\u001b[0m\u001b[0m\n\u001b[1;32m     19\u001b[0m             \u001b[0mprint\u001b[0m\u001b[0;34m(\u001b[0m\u001b[0mimg\u001b[0m\u001b[0;34m.\u001b[0m\u001b[0mshape\u001b[0m\u001b[0;34m)\u001b[0m\u001b[0;34m\u001b[0m\u001b[0;34m\u001b[0m\u001b[0m\n\u001b[0;32m---> 20\u001b[0;31m             \u001b[0mimg\u001b[0m \u001b[0;34m=\u001b[0m \u001b[0mnp\u001b[0m\u001b[0;34m.\u001b[0m\u001b[0mpad\u001b[0m\u001b[0;34m(\u001b[0m\u001b[0mimg\u001b[0m\u001b[0;34m.\u001b[0m\u001b[0mnumpy\u001b[0m\u001b[0;34m(\u001b[0m\u001b[0;34m)\u001b[0m \u001b[0;34m/\u001b[0m \u001b[0;36m255.0\u001b[0m\u001b[0;34m,\u001b[0m \u001b[0;34m(\u001b[0m\u001b[0;34m(\u001b[0m\u001b[0;36m0\u001b[0m\u001b[0;34m,\u001b[0m \u001b[0;36m0\u001b[0m\u001b[0;34m)\u001b[0m\u001b[0;34m,\u001b[0m \u001b[0;34m(\u001b[0m\u001b[0;36m18\u001b[0m\u001b[0;34m,\u001b[0m \u001b[0;36m18\u001b[0m\u001b[0;34m)\u001b[0m\u001b[0;34m,\u001b[0m \u001b[0;34m(\u001b[0m\u001b[0;36m18\u001b[0m\u001b[0;34m,\u001b[0m \u001b[0;36m18\u001b[0m\u001b[0;34m)\u001b[0m\u001b[0;34m)\u001b[0m\u001b[0;34m)\u001b[0m\u001b[0;34m\u001b[0m\u001b[0;34m\u001b[0m\u001b[0m\n\u001b[0m\u001b[1;32m     21\u001b[0m             \u001b[0;32mwith\u001b[0m \u001b[0mtorch\u001b[0m\u001b[0;34m.\u001b[0m\u001b[0mno_grad\u001b[0m\u001b[0;34m(\u001b[0m\u001b[0;34m)\u001b[0m\u001b[0;34m:\u001b[0m\u001b[0;34m\u001b[0m\u001b[0;34m\u001b[0m\u001b[0m\n\u001b[1;32m     22\u001b[0m                 \u001b[0mpredicted_results\u001b[0m \u001b[0;34m=\u001b[0m \u001b[0mpredict\u001b[0m\u001b[0;34m(\u001b[0m\u001b[0mimg\u001b[0m\u001b[0;34m.\u001b[0m\u001b[0munsqueeze\u001b[0m\u001b[0;34m(\u001b[0m\u001b[0;36m0\u001b[0m\u001b[0;34m)\u001b[0m\u001b[0;34m)\u001b[0m  \u001b[0;31m# Ensure batch dimension\u001b[0m\u001b[0;34m\u001b[0m\u001b[0;34m\u001b[0m\u001b[0m\n",
            "\u001b[0;31mTypeError\u001b[0m: can't convert cuda:0 device type tensor to numpy. Use Tensor.cpu() to copy the tensor to host memory first."
          ]
        }
      ]
    },
    {
      "cell_type": "code",
      "source": [
        "device = torch.device(\"cuda\" if torch.cuda.is_available() else \"cpu\")\n",
        "model.eval()\n",
        "class_distances = {}\n",
        "all_distances = []\n",
        "centers_ordered = parse_validation_data_ordered('BugNIST_DATA/validation/validation.csv')\n",
        "\n",
        "# A flag to indicate whether to break out of the outer loop\n",
        "stop = False\n",
        "\n",
        "# Assuming centers_ordered and val_loader are aligned\n",
        "for data, ground_truth_centers in zip(val_loader, centers_ordered):\n",
        "    if stop:\n",
        "        print(\"Breaking out of the outer loop.\")\n",
        "        break\n",
        "    images = data['image'].to(device)\n",
        "    print(\"Images\")\n",
        "\n",
        "    for img, centers in zip(images, ground_truth_centers):\n",
        "        # Correct the shape of the image if necessary\n",
        "            image = img  # Remove the singleton dimension\n",
        "            stop = True  # Set the flag to true to break out of the outer loop\n",
        "            break  # Break out of the inner loop\n",
        "\n",
        "    if stop:\n",
        "        print(\"Breaking out of the outer loop.\")\n",
        "        break  # Break out of the outer loop if the flag is set"
      ],
      "metadata": {
        "colab": {
          "base_uri": "https://localhost:8080/"
        },
        "id": "YZe5-xTEHo_p",
        "outputId": "eb534bf9-a6b4-4834-e958-1b2825b23ea8"
      },
      "execution_count": null,
      "outputs": [
        {
          "output_type": "stream",
          "name": "stderr",
          "text": [
            "/usr/local/lib/python3.10/dist-packages/torch/utils/data/dataloader.py:558: UserWarning: This DataLoader will create 8 worker processes in total. Our suggested max number of worker in current system is 2, which is smaller than what this DataLoader is going to create. Please be aware that excessive worker creation might get DataLoader running slow or even freeze, lower the worker number to avoid potential slowness/freeze if necessary.\n",
            "  warnings.warn(_create_warning_msg(\n",
            "/usr/lib/python3.10/multiprocessing/popen_fork.py:66: RuntimeWarning: os.fork() was called. os.fork() is incompatible with multithreaded code, and JAX is multithreaded, so this will likely lead to a deadlock.\n",
            "  self.pid = os.fork()\n"
          ]
        },
        {
          "output_type": "stream",
          "name": "stdout",
          "text": [
            "Images\n",
            "Breaking out of the outer loop.\n"
          ]
        }
      ]
    },
    {
      "cell_type": "code",
      "source": [
        "print(image.shape)\n",
        "img = np.pad(image.squeeze(0).cpu().numpy() / 255.0, ((0, 0), (18, 18), (18, 18)))\n",
        "print(img.shape)\n",
        "pred = predict(torch.tensor(image.squeeze(0)[None, None]).float().cuda())\n",
        "print(pred['centers'])\n",
        "\n"
      ],
      "metadata": {
        "colab": {
          "base_uri": "https://localhost:8080/",
          "height": 238
        },
        "id": "tjdlijkKHyg8",
        "outputId": "1472fede-a24f-4bb2-9577-43f0aa2b3afe"
      },
      "execution_count": 89,
      "outputs": [
        {
          "output_type": "stream",
          "name": "stdout",
          "text": [
            "(128, 128, 128)\n"
          ]
        },
        {
          "output_type": "error",
          "ename": "ValueError",
          "evalue": "cannot select an axis to squeeze out which has size not equal to one",
          "traceback": [
            "\u001b[0;31m---------------------------------------------------------------------------\u001b[0m",
            "\u001b[0;31mValueError\u001b[0m                                Traceback (most recent call last)",
            "\u001b[0;32m<ipython-input-89-c1084902cafc>\u001b[0m in \u001b[0;36m<cell line: 2>\u001b[0;34m()\u001b[0m\n\u001b[1;32m      1\u001b[0m \u001b[0mprint\u001b[0m\u001b[0;34m(\u001b[0m\u001b[0mimage\u001b[0m\u001b[0;34m.\u001b[0m\u001b[0mshape\u001b[0m\u001b[0;34m)\u001b[0m\u001b[0;34m\u001b[0m\u001b[0;34m\u001b[0m\u001b[0m\n\u001b[0;32m----> 2\u001b[0;31m \u001b[0mimg\u001b[0m \u001b[0;34m=\u001b[0m \u001b[0mnp\u001b[0m\u001b[0;34m.\u001b[0m\u001b[0mpad\u001b[0m\u001b[0;34m(\u001b[0m\u001b[0mimage\u001b[0m\u001b[0;34m.\u001b[0m\u001b[0msqueeze\u001b[0m\u001b[0;34m(\u001b[0m\u001b[0;36m0\u001b[0m\u001b[0;34m)\u001b[0m\u001b[0;34m.\u001b[0m\u001b[0mcpu\u001b[0m\u001b[0;34m(\u001b[0m\u001b[0;34m)\u001b[0m\u001b[0;34m.\u001b[0m\u001b[0mnumpy\u001b[0m\u001b[0;34m(\u001b[0m\u001b[0;34m)\u001b[0m \u001b[0;34m/\u001b[0m \u001b[0;36m255.0\u001b[0m\u001b[0;34m,\u001b[0m \u001b[0;34m(\u001b[0m\u001b[0;34m(\u001b[0m\u001b[0;36m0\u001b[0m\u001b[0;34m,\u001b[0m \u001b[0;36m0\u001b[0m\u001b[0;34m)\u001b[0m\u001b[0;34m,\u001b[0m \u001b[0;34m(\u001b[0m\u001b[0;36m18\u001b[0m\u001b[0;34m,\u001b[0m \u001b[0;36m18\u001b[0m\u001b[0;34m)\u001b[0m\u001b[0;34m,\u001b[0m \u001b[0;34m(\u001b[0m\u001b[0;36m18\u001b[0m\u001b[0;34m,\u001b[0m \u001b[0;36m18\u001b[0m\u001b[0;34m)\u001b[0m\u001b[0;34m)\u001b[0m\u001b[0;34m)\u001b[0m\u001b[0;34m\u001b[0m\u001b[0;34m\u001b[0m\u001b[0m\n\u001b[0m\u001b[1;32m      3\u001b[0m \u001b[0mprint\u001b[0m\u001b[0;34m(\u001b[0m\u001b[0mimg\u001b[0m\u001b[0;34m.\u001b[0m\u001b[0mshape\u001b[0m\u001b[0;34m)\u001b[0m\u001b[0;34m\u001b[0m\u001b[0;34m\u001b[0m\u001b[0m\n\u001b[1;32m      4\u001b[0m \u001b[0mpred\u001b[0m \u001b[0;34m=\u001b[0m \u001b[0mpredict\u001b[0m\u001b[0;34m(\u001b[0m\u001b[0mtorch\u001b[0m\u001b[0;34m.\u001b[0m\u001b[0mtensor\u001b[0m\u001b[0;34m(\u001b[0m\u001b[0mimage\u001b[0m\u001b[0;34m.\u001b[0m\u001b[0msqueeze\u001b[0m\u001b[0;34m(\u001b[0m\u001b[0;36m0\u001b[0m\u001b[0;34m)\u001b[0m\u001b[0;34m[\u001b[0m\u001b[0;32mNone\u001b[0m\u001b[0;34m,\u001b[0m \u001b[0;32mNone\u001b[0m\u001b[0;34m]\u001b[0m\u001b[0;34m)\u001b[0m\u001b[0;34m.\u001b[0m\u001b[0mfloat\u001b[0m\u001b[0;34m(\u001b[0m\u001b[0;34m)\u001b[0m\u001b[0;34m.\u001b[0m\u001b[0mcuda\u001b[0m\u001b[0;34m(\u001b[0m\u001b[0;34m)\u001b[0m\u001b[0;34m)\u001b[0m\u001b[0;34m\u001b[0m\u001b[0;34m\u001b[0m\u001b[0m\n\u001b[1;32m      5\u001b[0m \u001b[0mprint\u001b[0m\u001b[0;34m(\u001b[0m\u001b[0mpred\u001b[0m\u001b[0;34m[\u001b[0m\u001b[0;34m'centers'\u001b[0m\u001b[0;34m]\u001b[0m\u001b[0;34m)\u001b[0m\u001b[0;34m\u001b[0m\u001b[0;34m\u001b[0m\u001b[0m\n",
            "\u001b[0;31mValueError\u001b[0m: cannot select an axis to squeeze out which has size not equal to one"
          ]
        }
      ]
    },
    {
      "cell_type": "code",
      "source": [
        "import re\n",
        "import numpy as np\n",
        "import pandas as pd\n",
        "import scipy\n",
        "from scipy import optimize\n",
        "from scipy.spatial.distance import cdist\n",
        "\n",
        "\n",
        "class ParticipantVisibleError(Exception):\n",
        "    \"\"\"\n",
        "    Custom exception class for errors that should be shown to participants.\n",
        "    \"\"\"\n",
        "    pass\n",
        "\n",
        "\n",
        "def match_precision_recall(matches: np.ndarray, pred_labels: np.ndarray, true_labels: np.ndarray, eps: float = 1e-6) -> tuple:\n",
        "    \"\"\"\n",
        "    Calculate precision, recall, and F1 for each class.\n",
        "    \"\"\"\n",
        "    unique_classes = np.unique(np.concatenate((pred_labels, true_labels)))\n",
        "    class_f1_scores = {}\n",
        "\n",
        "    for cl in unique_classes:\n",
        "        pred_match = pred_labels[matches[0]]\n",
        "        true_match = true_labels[matches[1]]\n",
        "        class_matches = matches[:, pred_match == true_match]\n",
        "        pred_for_class = pred_match == cl\n",
        "        true_for_class = true_match == cl\n",
        "\n",
        "        # Calculate precision and recall for each class\n",
        "        precision = np.sum(pred_for_class & true_for_class) / np.sum(pred_for_class) if np.sum(pred_for_class) != 0 else 0\n",
        "        recall = np.sum(pred_for_class & true_for_class) / np.sum(true_for_class) if np.sum(true_for_class) != 0 else 0\n",
        "\n",
        "        f1 = 2 * precision * recall / (precision + recall + eps)\n",
        "\n",
        "        class_f1_scores[cl] = f1\n",
        "\n",
        "    return class_f1_scores\n",
        "\n",
        "\n",
        "def score(solution: pd.DataFrame, submission: pd.DataFrame, row_id_column_name: str = \"filename\") -> dict:\n",
        "    \"\"\"\n",
        "    Calculate the score for the given solution and submission dataframes.\n",
        "\n",
        "    Args:\n",
        "        solution (pd.DataFrame): DataFrame containing the ground truth data.\n",
        "        submission (pd.DataFrame): DataFrame containing the submission data.\n",
        "        row_id_column_name (str): Name of the column containing row IDs.\n",
        "\n",
        "    Returns:\n",
        "        float: Score for the submission.\n",
        "    \"\"\"\n",
        "    class_f1_scores_avg = {}\n",
        "    f1_scores = []\n",
        "    all_f1_scores = []\n",
        "    total_detected = 0\n",
        "    total_possible = 0\n",
        "    correct = 0\n",
        "    total = 0\n",
        "    costes = []\n",
        "    avg_matches = []\n",
        "\n",
        "    for i in range(len(submission)):\n",
        "        pred_data = submission.iloc[i, 1].replace(\" \", \"\").rstrip(\";\").split(\";\")\n",
        "        sol_data = solution.iloc[i, 1].split(\";\")\n",
        "\n",
        "        pred_centers = [float(x) for x in pred_data if not re.search(\"[a-zA-Z]\", x)]\n",
        "        sol_centers = [float(x) for x in sol_data if not re.search(\"[a-zA-Z]\", x)]\n",
        "        total_detected += len(pred_centers)\n",
        "        total_possible += len(sol_centers)\n",
        "\n",
        "        if pd.isna(submission.iloc[i, 1]):\n",
        "            raise ParticipantVisibleError(f\"Nan value not supported. Found on line {i} in submission file\")\n",
        "\n",
        "        # Extracts data for each line\n",
        "        pred_centerpoints = submission.iloc[i, 1].replace(\" \", \"\").rstrip(\";\").split(\";\")  # Removes whitespace and last ';' if applicable\n",
        "        sol_centerpoints = solution.iloc[i, 1].split(\";\")\n",
        "        pred_filename = str(submission.iloc[i, 0])\n",
        "        sol_filename = str(solution.iloc[i, 0])\n",
        "\n",
        "        if pred_filename != sol_filename:\n",
        "            raise ParticipantVisibleError(\"Internal error: solution and submission are not lined up\")\n",
        "\n",
        "        if len(pred_centerpoints) % 4 != 0:\n",
        "            raise ParticipantVisibleError(\n",
        "                f\"Submission for file {pred_filename}, index {i} could not be separated based on ';' into segmentations of size 4. Instead, got a list of size {len(pred_centerpoints)} % 4 != 0\"\n",
        "            )\n",
        "\n",
        "        # Extract center coordinates and labels from submission and solution\n",
        "        filtered_centerpoints = [float(item) for item in pred_centerpoints if not re.search(\"[a-zA-Z]\", item)]\n",
        "        filtered_true_centerpoints = [float(item) for item in sol_centerpoints if not re.search(\"[a-zA-Z]\", item)]\n",
        "        pred_centers = np.array(list(zip(filtered_centerpoints[::3], filtered_centerpoints[1::3], filtered_centerpoints[2::3])))\n",
        "        true_centers = np.array(list(zip(filtered_true_centerpoints[::3], filtered_true_centerpoints[1::3], filtered_true_centerpoints[2::3])))\n",
        "\n",
        "        length_0 = max(len(filtered_centerpoints[::3]), len(filtered_true_centerpoints[::3]))\n",
        "        length_1 = max(len(filtered_centerpoints[1::3]), len(filtered_true_centerpoints[1::3]))\n",
        "        length_2 = max(len(filtered_centerpoints[2::3]), len(filtered_true_centerpoints[2::3]))\n",
        "\n",
        "        # Rellenar las sublistas con ceros para que tengan la misma longitud\n",
        "        padded_filtered_centerpoints_0 = np.pad(filtered_centerpoints[::3], (0, length_0 - len(filtered_centerpoints[::3])), mode='constant')\n",
        "        padded_filtered_centerpoints_1 = np.pad(filtered_centerpoints[1::3], (0, length_1 - len(filtered_centerpoints[1::3])), mode='constant')\n",
        "        padded_filtered_centerpoints_2 = np.pad(filtered_centerpoints[2::3], (0, length_2 - len(filtered_centerpoints[2::3])), mode='constant')\n",
        "\n",
        "        padded_filtered_true_centerpoints_0 = np.pad(filtered_true_centerpoints[::3], (0, length_0 - len(filtered_true_centerpoints[::3])), mode='constant')\n",
        "        padded_filtered_true_centerpoints_1 = np.pad(filtered_true_centerpoints[1::3], (0, length_1 - len(filtered_true_centerpoints[1::3])), mode='constant')\n",
        "        padded_filtered_true_centerpoints_2 = np.pad(filtered_true_centerpoints[2::3], (0, length_2 - len(filtered_true_centerpoints[2::3])), mode='constant')\n",
        "\n",
        "        # Ahora las sublistas tienen la misma longitud\n",
        "        # Puedes realizar la resta sin problemas\n",
        "        costes.append(np.array(padded_filtered_centerpoints_0) - np.array(padded_filtered_true_centerpoints_0))\n",
        "        costes.append(np.array(padded_filtered_centerpoints_1) - np.array(padded_filtered_true_centerpoints_1))\n",
        "        costes.append(np.array(padded_filtered_centerpoints_2) - np.array(padded_filtered_true_centerpoints_2))\n",
        "\n",
        "        # Converts labels to numbers\n",
        "        index_to_label = np.array([\"sl\", \"bc\", \"ma\", \"gh\", \"ac\", \"bp\", \"bf\", \"cf\", \"bl\", \"ml\", \"wo\", \"pp\"])\n",
        "        label_to_index = {k.lower(): i for i, k in enumerate(index_to_label)}\n",
        "        label_to_index[\"gp\"] = label_to_index[\"bp\"]\n",
        "\n",
        "        try:\n",
        "            pred_labels = np.array([label_to_index[label.lower()] for label in pred_centerpoints[::4]])\n",
        "            true_labels = np.array([label_to_index[label.lower()] for label in sol_centerpoints[::4]])\n",
        "        except KeyError:\n",
        "            raise ParticipantVisibleError(f\"Invalid class label in {pred_centerpoints[::4]}, should match any of {index_to_label}\")\n",
        "\n",
        "        # Calculate cost matrix and perform matching\n",
        "        cost = cdist(pred_centers, true_centers)\n",
        "        matches = np.array(scipy.optimize.linear_sum_assignment(cost), dtype=np.int32)\n",
        "        avg_matches.append(np.sum(np.concatenate(matches)))\n",
        "        # Filter matches based on matched labels\n",
        "        matched_box_labels = pred_labels[matches[0]]\n",
        "        matched_center_labels = true_labels[matches[1]]\n",
        "        matches = matches[:, matched_box_labels == matched_center_labels]\n",
        "\n",
        "        # Calculate F1 score\n",
        "        # Calculate F1 score per class\n",
        "        f1_scores_per_class = match_precision_recall(matches, pred_labels, true_labels)\n",
        "\n",
        "        for class_id, f1_score in f1_scores_per_class.items():\n",
        "            if class_id not in class_f1_scores_avg:\n",
        "                class_f1_scores_avg[class_id] = []\n",
        "            class_f1_scores_avg[class_id].append(f1_score)\n",
        "            all_f1_scores.append(f1_score)\n",
        "\n",
        "    # Averaging F1 scores per class\n",
        "    for class_id, scores in class_f1_scores_avg.items():\n",
        "        class_f1_scores_avg[class_id] = np.mean(scores)\n",
        "    mean_f1_score = np.mean(all_f1_scores)\n",
        "\n",
        "    percentage_detected = (total_detected / total_possible * 100) if total_possible > 0 else 0\n",
        "\n",
        "    return class_f1_scores_avg, mean_f1_score, percentage_detected, np.sum(avg_matches), np.mean(np.concatenate(costes))\n",
        "\n",
        "\n",
        "def main(pred, target):\n",
        "    # Loads data from CSV files\n",
        "    df_pred = pd.read_csv(pred)\n",
        "    df_target = pd.read_csv(target)\n",
        "\n",
        "    # Calculates score\n",
        "    class_f1_scores, m2, percentage_detected, matches, costes = score(df_pred, df_target, \"filename\")\n",
        "\n",
        "    # Sorting class IDs for orderly printing\n",
        "    sorted_class_ids = sorted(class_f1_scores.keys())\n",
        "\n",
        "    # Initialize a list to collect all F1 scores for mean calculation\n",
        "    all_f1_scores = []\n",
        "    index_to_label = np.array([\"sl\", \"bc\", \"ma\", \"gh\", \"ac\", \"bp\", \"bf\", \"cf\", \"bl\", \"ml\", \"wo\", \"pp\"])\n",
        "    # Print score for each class, sorted by class ID\n",
        "    print(\"F1 SCORE OF CLASSES:\")\n",
        "    for class_id in sorted_class_ids:\n",
        "        f1_score = class_f1_scores[class_id] + 0.0000005\n",
        "\n",
        "        print(f\"Class {index_to_label[class_id]} F1 score: {f1_score:.8f}\")\n",
        "        all_f1_scores.append(f1_score)\n",
        "\n",
        "    # Calculate and print the mean F1 score\n",
        "    mean_f1_score = np.mean(all_f1_scores)\n",
        "    mean_f1_score = (mean_f1_score + m2)/2\n",
        "\n",
        "    print(f\"Mean F1 score across all classes: {mean_f1_score:.8f}\")\n",
        "    print(\"\")\n",
        "\n",
        "    print(f\"Average centerpoint distance {(abs(costes)):.2f}\")\n",
        "\n",
        "\n",
        "\n",
        "# Example of how you might call the main function\n",
        "df_pred = \"submissionProvaVal.csv\"\n",
        "#df_pred = 'BugNIST_DATA/validation/validation.csv'\n",
        "target = 'BugNIST_DATA/validation/validation.csv'\n",
        "main(df_pred, target)\n"
      ],
      "metadata": {
        "id": "PZuqJyz4QJKA",
        "outputId": "5525a34c-458a-4767-bf15-88a7a83adadf",
        "colab": {
          "base_uri": "https://localhost:8080/"
        }
      },
      "execution_count": 67,
      "outputs": [
        {
          "output_type": "stream",
          "name": "stdout",
          "text": [
            "F1 SCORE OF CLASSES:\n",
            "Class sl F1 score: 0.00000050\n",
            "Class bc F1 score: 0.02941225\n",
            "Class ma F1 score: 0.00000050\n",
            "Class gh F1 score: 0.12857186\n",
            "Class ac F1 score: 0.11594247\n",
            "Class bp F1 score: 0.00000050\n",
            "Class bf F1 score: 0.48780513\n",
            "Class cf F1 score: 0.02439073\n",
            "Class bl F1 score: 0.03846202\n",
            "Class ml F1 score: 0.39130465\n",
            "Class wo F1 score: 0.12820556\n",
            "Class pp F1 score: 0.00000050\n",
            "Mean F1 score across all classes: 0.12228080\n",
            "\n",
            "Average centerpoint distance 13.74\n"
          ]
        }
      ]
    }
  ]
}